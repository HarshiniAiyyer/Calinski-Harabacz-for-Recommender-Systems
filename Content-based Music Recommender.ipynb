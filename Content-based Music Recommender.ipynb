{
 "cells": [
  {
   "cell_type": "markdown",
   "id": "3aea8e83",
   "metadata": {},
   "source": [
    "**BASIC LIBRARY IMPORTS**"
   ]
  },
  {
   "cell_type": "code",
   "execution_count": 47,
   "id": "ef01360c",
   "metadata": {},
   "outputs": [],
   "source": [
    "import numpy as np \n",
    "import pandas as pd\n",
    "import seaborn as sns\n",
    "import matplotlib.pyplot as plt\n",
    "import plotly.express as px\n",
    "import os"
   ]
  },
  {
   "cell_type": "code",
   "execution_count": 48,
   "id": "ddd1f60d",
   "metadata": {},
   "outputs": [],
   "source": [
    "dataset = pd.read_csv(r\"C:\\Users\\USER\\OneDrive\\Desktop\\data\\data.csv\")\n",
    "genreby = pd.read_csv(r\"C:\\Users\\USER\\OneDrive\\Desktop\\data\\data_by_artist.csv\")\n",
    "yearby = pd.read_csv(r\"C:\\Users\\USER\\OneDrive\\Desktop\\data\\data_by_year.csv\")"
   ]
  },
  {
   "cell_type": "code",
   "execution_count": 49,
   "id": "4219b5b7",
   "metadata": {},
   "outputs": [
    {
     "data": {
      "text/html": [
       "<div>\n",
       "<style scoped>\n",
       "    .dataframe tbody tr th:only-of-type {\n",
       "        vertical-align: middle;\n",
       "    }\n",
       "\n",
       "    .dataframe tbody tr th {\n",
       "        vertical-align: top;\n",
       "    }\n",
       "\n",
       "    .dataframe thead th {\n",
       "        text-align: right;\n",
       "    }\n",
       "</style>\n",
       "<table border=\"1\" class=\"dataframe\">\n",
       "  <thead>\n",
       "    <tr style=\"text-align: right;\">\n",
       "      <th></th>\n",
       "      <th>valence</th>\n",
       "      <th>year</th>\n",
       "      <th>acousticness</th>\n",
       "      <th>artists</th>\n",
       "      <th>danceability</th>\n",
       "      <th>duration_ms</th>\n",
       "      <th>energy</th>\n",
       "      <th>explicit</th>\n",
       "      <th>id</th>\n",
       "      <th>instrumentalness</th>\n",
       "      <th>key</th>\n",
       "      <th>liveness</th>\n",
       "      <th>loudness</th>\n",
       "      <th>mode</th>\n",
       "      <th>name</th>\n",
       "      <th>popularity</th>\n",
       "      <th>release_date</th>\n",
       "      <th>speechiness</th>\n",
       "      <th>tempo</th>\n",
       "    </tr>\n",
       "  </thead>\n",
       "  <tbody>\n",
       "    <tr>\n",
       "      <th>0</th>\n",
       "      <td>0.0594</td>\n",
       "      <td>1921</td>\n",
       "      <td>0.982</td>\n",
       "      <td>['Sergei Rachmaninoff', 'James Levine', 'Berli...</td>\n",
       "      <td>0.279</td>\n",
       "      <td>831667</td>\n",
       "      <td>0.211</td>\n",
       "      <td>0</td>\n",
       "      <td>4BJqT0PrAfrxzMOxytFOIz</td>\n",
       "      <td>0.878000</td>\n",
       "      <td>10</td>\n",
       "      <td>0.665</td>\n",
       "      <td>-20.096</td>\n",
       "      <td>1</td>\n",
       "      <td>Piano Concerto No. 3 in D Minor, Op. 30: III. ...</td>\n",
       "      <td>4</td>\n",
       "      <td>1921</td>\n",
       "      <td>0.0366</td>\n",
       "      <td>80.954</td>\n",
       "    </tr>\n",
       "    <tr>\n",
       "      <th>1</th>\n",
       "      <td>0.9630</td>\n",
       "      <td>1921</td>\n",
       "      <td>0.732</td>\n",
       "      <td>['Dennis Day']</td>\n",
       "      <td>0.819</td>\n",
       "      <td>180533</td>\n",
       "      <td>0.341</td>\n",
       "      <td>0</td>\n",
       "      <td>7xPhfUan2yNtyFG0cUWkt8</td>\n",
       "      <td>0.000000</td>\n",
       "      <td>7</td>\n",
       "      <td>0.160</td>\n",
       "      <td>-12.441</td>\n",
       "      <td>1</td>\n",
       "      <td>Clancy Lowered the Boom</td>\n",
       "      <td>5</td>\n",
       "      <td>1921</td>\n",
       "      <td>0.4150</td>\n",
       "      <td>60.936</td>\n",
       "    </tr>\n",
       "    <tr>\n",
       "      <th>2</th>\n",
       "      <td>0.0394</td>\n",
       "      <td>1921</td>\n",
       "      <td>0.961</td>\n",
       "      <td>['KHP Kridhamardawa Karaton Ngayogyakarta Hadi...</td>\n",
       "      <td>0.328</td>\n",
       "      <td>500062</td>\n",
       "      <td>0.166</td>\n",
       "      <td>0</td>\n",
       "      <td>1o6I8BglA6ylDMrIELygv1</td>\n",
       "      <td>0.913000</td>\n",
       "      <td>3</td>\n",
       "      <td>0.101</td>\n",
       "      <td>-14.850</td>\n",
       "      <td>1</td>\n",
       "      <td>Gati Bali</td>\n",
       "      <td>5</td>\n",
       "      <td>1921</td>\n",
       "      <td>0.0339</td>\n",
       "      <td>110.339</td>\n",
       "    </tr>\n",
       "    <tr>\n",
       "      <th>3</th>\n",
       "      <td>0.1650</td>\n",
       "      <td>1921</td>\n",
       "      <td>0.967</td>\n",
       "      <td>['Frank Parker']</td>\n",
       "      <td>0.275</td>\n",
       "      <td>210000</td>\n",
       "      <td>0.309</td>\n",
       "      <td>0</td>\n",
       "      <td>3ftBPsC5vPBKxYSee08FDH</td>\n",
       "      <td>0.000028</td>\n",
       "      <td>5</td>\n",
       "      <td>0.381</td>\n",
       "      <td>-9.316</td>\n",
       "      <td>1</td>\n",
       "      <td>Danny Boy</td>\n",
       "      <td>3</td>\n",
       "      <td>1921</td>\n",
       "      <td>0.0354</td>\n",
       "      <td>100.109</td>\n",
       "    </tr>\n",
       "    <tr>\n",
       "      <th>4</th>\n",
       "      <td>0.2530</td>\n",
       "      <td>1921</td>\n",
       "      <td>0.957</td>\n",
       "      <td>['Phil Regan']</td>\n",
       "      <td>0.418</td>\n",
       "      <td>166693</td>\n",
       "      <td>0.193</td>\n",
       "      <td>0</td>\n",
       "      <td>4d6HGyGT8e121BsdKmw9v6</td>\n",
       "      <td>0.000002</td>\n",
       "      <td>3</td>\n",
       "      <td>0.229</td>\n",
       "      <td>-10.096</td>\n",
       "      <td>1</td>\n",
       "      <td>When Irish Eyes Are Smiling</td>\n",
       "      <td>2</td>\n",
       "      <td>1921</td>\n",
       "      <td>0.0380</td>\n",
       "      <td>101.665</td>\n",
       "    </tr>\n",
       "  </tbody>\n",
       "</table>\n",
       "</div>"
      ],
      "text/plain": [
       "   valence  year  acousticness  \\\n",
       "0   0.0594  1921         0.982   \n",
       "1   0.9630  1921         0.732   \n",
       "2   0.0394  1921         0.961   \n",
       "3   0.1650  1921         0.967   \n",
       "4   0.2530  1921         0.957   \n",
       "\n",
       "                                             artists  danceability  \\\n",
       "0  ['Sergei Rachmaninoff', 'James Levine', 'Berli...         0.279   \n",
       "1                                     ['Dennis Day']         0.819   \n",
       "2  ['KHP Kridhamardawa Karaton Ngayogyakarta Hadi...         0.328   \n",
       "3                                   ['Frank Parker']         0.275   \n",
       "4                                     ['Phil Regan']         0.418   \n",
       "\n",
       "   duration_ms  energy  explicit                      id  instrumentalness  \\\n",
       "0       831667   0.211         0  4BJqT0PrAfrxzMOxytFOIz          0.878000   \n",
       "1       180533   0.341         0  7xPhfUan2yNtyFG0cUWkt8          0.000000   \n",
       "2       500062   0.166         0  1o6I8BglA6ylDMrIELygv1          0.913000   \n",
       "3       210000   0.309         0  3ftBPsC5vPBKxYSee08FDH          0.000028   \n",
       "4       166693   0.193         0  4d6HGyGT8e121BsdKmw9v6          0.000002   \n",
       "\n",
       "   key  liveness  loudness  mode  \\\n",
       "0   10     0.665   -20.096     1   \n",
       "1    7     0.160   -12.441     1   \n",
       "2    3     0.101   -14.850     1   \n",
       "3    5     0.381    -9.316     1   \n",
       "4    3     0.229   -10.096     1   \n",
       "\n",
       "                                                name  popularity release_date  \\\n",
       "0  Piano Concerto No. 3 in D Minor, Op. 30: III. ...           4         1921   \n",
       "1                            Clancy Lowered the Boom           5         1921   \n",
       "2                                          Gati Bali           5         1921   \n",
       "3                                          Danny Boy           3         1921   \n",
       "4                        When Irish Eyes Are Smiling           2         1921   \n",
       "\n",
       "   speechiness    tempo  \n",
       "0       0.0366   80.954  \n",
       "1       0.4150   60.936  \n",
       "2       0.0339  110.339  \n",
       "3       0.0354  100.109  \n",
       "4       0.0380  101.665  "
      ]
     },
     "execution_count": 49,
     "metadata": {},
     "output_type": "execute_result"
    }
   ],
   "source": [
    "dataset.head()"
   ]
  },
  {
   "cell_type": "code",
   "execution_count": 23,
   "id": "c92b2833",
   "metadata": {},
   "outputs": [
    {
     "data": {
      "text/plain": [
       "Index(['valence', 'year', 'acousticness', 'artists', 'danceability',\n",
       "       'duration_ms', 'energy', 'explicit', 'id', 'instrumentalness', 'key',\n",
       "       'liveness', 'loudness', 'mode', 'name', 'popularity', 'release_date',\n",
       "       'speechiness', 'tempo'],\n",
       "      dtype='object')"
      ]
     },
     "execution_count": 23,
     "metadata": {},
     "output_type": "execute_result"
    }
   ],
   "source": [
    "dataset.columns"
   ]
  },
  {
   "cell_type": "markdown",
   "id": "483a86b8",
   "metadata": {},
   "source": [
    "**EXPLORATORY DATA ANALYSIS**"
   ]
  },
  {
   "cell_type": "code",
   "execution_count": 52,
   "id": "cba7afb3",
   "metadata": {},
   "outputs": [
    {
     "data": {
      "text/plain": [
       "<AxesSubplot:xlabel='mode', ylabel='count'>"
      ]
     },
     "execution_count": 52,
     "metadata": {},
     "output_type": "execute_result"
    },
    {
     "data": {
      "image/png": "[encoded data removed]",
      "text/plain": [
       "<Figure size 1152x432 with 2 Axes>"
      ]
     },
     "metadata": {
      "needs_background": "light"
     },
     "output_type": "display_data"
    }
   ],
   "source": [
    "fig, axes = plt.subplots(1, 2, figsize=(16, 6))\n",
    "\n",
    "fig.suptitle('EDA plots #1')\n",
    "\n",
    "sns.countplot(ax=axes[0],x='explicit',data=dataset,palette='husl')\n",
    "sns.countplot(ax=axes[1],x='mode',data=dataset,palette='dark')"
   ]
  },
  {
   "cell_type": "markdown",
   "id": "0ff8b823",
   "metadata": {},
   "source": [
    "***Converting release date to datetime data type column. This is then converted to 'Year' column.***"
   ]
  },
  {
   "cell_type": "code",
   "execution_count": 25,
   "id": "34a5fdfc",
   "metadata": {},
   "outputs": [],
   "source": [
    "dataset['release_date'] = pd.to_datetime(dataset['release_date'])\n",
    "dataset['year'] = dataset['release_date'].apply(lambda time: time.year)"
   ]
  },
  {
   "cell_type": "markdown",
   "id": "4ab409bf",
   "metadata": {},
   "source": [
    "***Histogram of Popularity column***"
   ]
  },
  {
   "cell_type": "code",
   "execution_count": 46,
   "id": "a4a560af",
   "metadata": {},
   "outputs": [
    {
     "data": {
      "text/plain": [
       "<AxesSubplot:xlabel='popularity', ylabel='Count'>"
      ]
     },
     "execution_count": 46,
     "metadata": {},
     "output_type": "execute_result"
    },
    {
     "data": {
      "image/png": "[encoded data removed]",
      "text/plain": [
       "<Figure size 576x432 with 1 Axes>"
      ]
     },
     "metadata": {
      "needs_background": "light"
     },
     "output_type": "display_data"
    }
   ],
   "source": [
    "plt.figure(figsize=(8,6))\n",
    "sns.histplot(x='popularity',data=dataset,color=\"cyan\")"
   ]
  },
  {
   "cell_type": "code",
   "execution_count": 27,
   "id": "9d99af93",
   "metadata": {},
   "outputs": [
    {
     "data": {
      "application/vnd.plotly.v1+json": {
       "config": {
        "plotlyServerURL": "https://plot.ly"
       },
       "data": [
        {
         "hovertemplate": "name=Dreams - 2004 Remaster<br>year=%{x}<br>popularity=%{y}<extra></extra>",
         "legendgroup": "Dreams - 2004 Remaster",
         "marker": {
          "color": "#636efa",
          "symbol": "circle"
         },
         "mode": "markers",
         "name": "Dreams - 2004 Remaster",
         "orientation": "v",
         "showlegend": true,
         "type": "scatter",
         "x": [
          1977
         ],
         "xaxis": "x",
         "y": [
          89
         ],
         "yaxis": "y"
        },
        {
         "hovertemplate": "name=All I Want for Christmas Is You<br>year=%{x}<br>popularity=%{y}<extra></extra>",
         "legendgroup": "All I Want for Christmas Is You",
         "marker": {
          "color": "#EF553B",
          "symbol": "circle"
         },
         "mode": "markers",
         "name": "All I Want for Christmas Is You",
         "orientation": "v",
         "showlegend": true,
         "type": "scatter",
         "x": [
          1994
         ],
         "xaxis": "x",
         "y": [
          88
         ],
         "yaxis": "y"
        },
        {
         "hovertemplate": "name=Sweater Weather<br>year=%{x}<br>popularity=%{y}<extra></extra>",
         "legendgroup": "Sweater Weather",
         "marker": {
          "color": "#00cc96",
          "symbol": "circle"
         },
         "mode": "markers",
         "name": "Sweater Weather",
         "orientation": "v",
         "showlegend": true,
         "type": "scatter",
         "x": [
          2013
         ],
         "xaxis": "x",
         "y": [
          87
         ],
         "yaxis": "y"
        },
        {
         "hovertemplate": "name=All of Me<br>year=%{x}<br>popularity=%{y}<extra></extra>",
         "legendgroup": "All of Me",
         "marker": {
          "color": "#ab63fa",
          "symbol": "circle"
         },
         "mode": "markers",
         "name": "All of Me",
         "orientation": "v",
         "showlegend": true,
         "type": "scatter",
         "x": [
          2013
         ],
         "xaxis": "x",
         "y": [
          86
         ],
         "yaxis": "y"
        },
        {
         "hovertemplate": "name=Santa Tell Me<br>year=%{x}<br>popularity=%{y}<extra></extra>",
         "legendgroup": "Santa Tell Me",
         "marker": {
          "color": "#FFA15A",
          "symbol": "circle"
         },
         "mode": "markers",
         "name": "Santa Tell Me",
         "orientation": "v",
         "showlegend": true,
         "type": "scatter",
         "x": [
          2014
         ],
         "xaxis": "x",
         "y": [
          86
         ],
         "yaxis": "y"
        },
        {
         "hovertemplate": "name=Electric Love<br>year=%{x}<br>popularity=%{y}<extra></extra>",
         "legendgroup": "Electric Love",
         "marker": {
          "color": "#19d3f3",
          "symbol": "circle"
         },
         "mode": "markers",
         "name": "Electric Love",
         "orientation": "v",
         "showlegend": true,
         "type": "scatter",
         "x": [
          2015
         ],
         "xaxis": "x",
         "y": [
          87
         ],
         "yaxis": "y"
        },
        {
         "hovertemplate": "name=Daddy Issues<br>year=%{x}<br>popularity=%{y}<extra></extra>",
         "legendgroup": "Daddy Issues",
         "marker": {
          "color": "#FF6692",
          "symbol": "circle"
         },
         "mode": "markers",
         "name": "Daddy Issues",
         "orientation": "v",
         "showlegend": true,
         "type": "scatter",
         "x": [
          2015
         ],
         "xaxis": "x",
         "y": [
          86
         ],
         "yaxis": "y"
        },
        {
         "hovertemplate": "name=Train Wreck<br>year=%{x}<br>popularity=%{y}<extra></extra>",
         "legendgroup": "Train Wreck",
         "marker": {
          "color": "#B6E880",
          "symbol": "circle"
         },
         "mode": "markers",
         "name": "Train Wreck",
         "orientation": "v",
         "showlegend": true,
         "type": "scatter",
         "x": [
          2016
         ],
         "xaxis": "x",
         "y": [
          88
         ],
         "yaxis": "y"
        },
        {
         "hovertemplate": "name=Say You Won't Let Go<br>year=%{x}<br>popularity=%{y}<extra></extra>",
         "legendgroup": "Say You Won't Let Go",
         "marker": {
          "color": "#FF97FF",
          "symbol": "circle"
         },
         "mode": "markers",
         "name": "Say You Won't Let Go",
         "orientation": "v",
         "showlegend": true,
         "type": "scatter",
         "x": [
          2016
         ],
         "xaxis": "x",
         "y": [
          86
         ],
         "yaxis": "y"
        },
        {
         "hovertemplate": "name=Jocelyn Flores<br>year=%{x}<br>popularity=%{y}<extra></extra>",
         "legendgroup": "Jocelyn Flores",
         "marker": {
          "color": "#FECB52",
          "symbol": "circle"
         },
         "mode": "markers",
         "name": "Jocelyn Flores",
         "orientation": "v",
         "showlegend": true,
         "type": "scatter",
         "x": [
          2017
         ],
         "xaxis": "x",
         "y": [
          87
         ],
         "yaxis": "y"
        },
        {
         "hovertemplate": "name=Believer<br>year=%{x}<br>popularity=%{y}<extra></extra>",
         "legendgroup": "Believer",
         "marker": {
          "color": "#636efa",
          "symbol": "circle"
         },
         "mode": "markers",
         "name": "Believer",
         "orientation": "v",
         "showlegend": true,
         "type": "scatter",
         "x": [
          2017
         ],
         "xaxis": "x",
         "y": [
          87
         ],
         "yaxis": "y"
        },
        {
         "hovertemplate": "name=Perfect<br>year=%{x}<br>popularity=%{y}<extra></extra>",
         "legendgroup": "Perfect",
         "marker": {
          "color": "#EF553B",
          "symbol": "circle"
         },
         "mode": "markers",
         "name": "Perfect",
         "orientation": "v",
         "showlegend": true,
         "type": "scatter",
         "x": [
          2017
         ],
         "xaxis": "x",
         "y": [
          86
         ],
         "yaxis": "y"
        },
        {
         "hovertemplate": "name=All Girls Are The Same<br>year=%{x}<br>popularity=%{y}<extra></extra>",
         "legendgroup": "All Girls Are The Same",
         "marker": {
          "color": "#00cc96",
          "symbol": "circle"
         },
         "mode": "markers",
         "name": "All Girls Are The Same",
         "orientation": "v",
         "showlegend": true,
         "type": "scatter",
         "x": [
          2018
         ],
         "xaxis": "x",
         "y": [
          87
         ],
         "yaxis": "y"
        },
        {
         "hovertemplate": "name=Lucid Dreams<br>year=%{x}<br>popularity=%{y}<extra></extra>",
         "legendgroup": "Lucid Dreams",
         "marker": {
          "color": "#ab63fa",
          "symbol": "circle"
         },
         "mode": "markers",
         "name": "Lucid Dreams",
         "orientation": "v",
         "showlegend": true,
         "type": "scatter",
         "x": [
          2018
         ],
         "xaxis": "x",
         "y": [
          89
         ],
         "yaxis": "y"
        },
        {
         "hovertemplate": "name=lovely (with Khalid)<br>year=%{x}<br>popularity=%{y}<extra></extra>",
         "legendgroup": "lovely (with Khalid)",
         "marker": {
          "color": "#FFA15A",
          "symbol": "circle"
         },
         "mode": "markers",
         "name": "lovely (with Khalid)",
         "orientation": "v",
         "showlegend": true,
         "type": "scatter",
         "x": [
          2018
         ],
         "xaxis": "x",
         "y": [
          89
         ],
         "yaxis": "y"
        },
        {
         "hovertemplate": "name=SAD!<br>year=%{x}<br>popularity=%{y}<extra></extra>",
         "legendgroup": "SAD!",
         "marker": {
          "color": "#19d3f3",
          "symbol": "circle"
         },
         "mode": "markers",
         "name": "SAD!",
         "orientation": "v",
         "showlegend": true,
         "type": "scatter",
         "x": [
          2018
         ],
         "xaxis": "x",
         "y": [
          86
         ],
         "yaxis": "y"
        },
        {
         "hovertemplate": "name=rockstar (feat. 21 Savage)<br>year=%{x}<br>popularity=%{y}<extra></extra>",
         "legendgroup": "rockstar (feat. 21 Savage)",
         "marker": {
          "color": "#FF6692",
          "symbol": "circle"
         },
         "mode": "markers",
         "name": "rockstar (feat. 21 Savage)",
         "orientation": "v",
         "showlegend": true,
         "type": "scatter",
         "x": [
          2018
         ],
         "xaxis": "x",
         "y": [
          86
         ],
         "yaxis": "y"
        },
        {
         "hovertemplate": "name=Falling<br>year=%{x}<br>popularity=%{y}<extra></extra>",
         "legendgroup": "Falling",
         "marker": {
          "color": "#B6E880",
          "symbol": "circle"
         },
         "mode": "markers",
         "name": "Falling",
         "orientation": "v",
         "showlegend": true,
         "type": "scatter",
         "x": [
          2018,
          2019
         ],
         "xaxis": "x",
         "y": [
          86,
          88
         ],
         "yaxis": "y"
        },
        {
         "hovertemplate": "name=Sofia<br>year=%{x}<br>popularity=%{y}<extra></extra>",
         "legendgroup": "Sofia",
         "marker": {
          "color": "#FF97FF",
          "symbol": "circle"
         },
         "mode": "markers",
         "name": "Sofia",
         "orientation": "v",
         "showlegend": true,
         "type": "scatter",
         "x": [
          2019
         ],
         "xaxis": "x",
         "y": [
          90
         ],
         "yaxis": "y"
        },
        {
         "hovertemplate": "name=Watermelon Sugar<br>year=%{x}<br>popularity=%{y}<extra></extra>",
         "legendgroup": "Watermelon Sugar",
         "marker": {
          "color": "#FECB52",
          "symbol": "circle"
         },
         "mode": "markers",
         "name": "Watermelon Sugar",
         "orientation": "v",
         "showlegend": true,
         "type": "scatter",
         "x": [
          2019
         ],
         "xaxis": "x",
         "y": [
          94
         ],
         "yaxis": "y"
        },
        {
         "hovertemplate": "name=Robbery<br>year=%{x}<br>popularity=%{y}<extra></extra>",
         "legendgroup": "Robbery",
         "marker": {
          "color": "#636efa",
          "symbol": "circle"
         },
         "mode": "markers",
         "name": "Robbery",
         "orientation": "v",
         "showlegend": true,
         "type": "scatter",
         "x": [
          2019
         ],
         "xaxis": "x",
         "y": [
          88
         ],
         "yaxis": "y"
        },
        {
         "hovertemplate": "name=Circles<br>year=%{x}<br>popularity=%{y}<extra></extra>",
         "legendgroup": "Circles",
         "marker": {
          "color": "#EF553B",
          "symbol": "circle"
         },
         "mode": "markers",
         "name": "Circles",
         "orientation": "v",
         "showlegend": true,
         "type": "scatter",
         "x": [
          2019
         ],
         "xaxis": "x",
         "y": [
          89
         ],
         "yaxis": "y"
        },
        {
         "hovertemplate": "name=The Box<br>year=%{x}<br>popularity=%{y}<extra></extra>",
         "legendgroup": "The Box",
         "marker": {
          "color": "#00cc96",
          "symbol": "circle"
         },
         "mode": "markers",
         "name": "The Box",
         "orientation": "v",
         "showlegend": true,
         "type": "scatter",
         "x": [
          2019
         ],
         "xaxis": "x",
         "y": [
          89
         ],
         "yaxis": "y"
        },
        {
         "hovertemplate": "name=Are You Bored Yet? (feat. Clairo)<br>year=%{x}<br>popularity=%{y}<extra></extra>",
         "legendgroup": "Are You Bored Yet? (feat. Clairo)",
         "marker": {
          "color": "#ab63fa",
          "symbol": "circle"
         },
         "mode": "markers",
         "name": "Are You Bored Yet? (feat. Clairo)",
         "orientation": "v",
         "showlegend": true,
         "type": "scatter",
         "x": [
          2019
         ],
         "xaxis": "x",
         "y": [
          86
         ],
         "yaxis": "y"
        },
        {
         "hovertemplate": "name=Someone You Loved<br>year=%{x}<br>popularity=%{y}<extra></extra>",
         "legendgroup": "Someone You Loved",
         "marker": {
          "color": "#FFA15A",
          "symbol": "circle"
         },
         "mode": "markers",
         "name": "Someone You Loved",
         "orientation": "v",
         "showlegend": true,
         "type": "scatter",
         "x": [
          2019
         ],
         "xaxis": "x",
         "y": [
          91
         ],
         "yaxis": "y"
        },
        {
         "hovertemplate": "name=If the World Was Ending - feat. Julia Michaels<br>year=%{x}<br>popularity=%{y}<extra></extra>",
         "legendgroup": "If the World Was Ending - feat. Julia Michaels",
         "marker": {
          "color": "#19d3f3",
          "symbol": "circle"
         },
         "mode": "markers",
         "name": "If the World Was Ending - feat. Julia Michaels",
         "orientation": "v",
         "showlegend": true,
         "type": "scatter",
         "x": [
          2019
         ],
         "xaxis": "x",
         "y": [
          87
         ],
         "yaxis": "y"
        },
        {
         "hovertemplate": "name=HIGHEST IN THE ROOM<br>year=%{x}<br>popularity=%{y}<extra></extra>",
         "legendgroup": "HIGHEST IN THE ROOM",
         "marker": {
          "color": "#FF6692",
          "symbol": "circle"
         },
         "mode": "markers",
         "name": "HIGHEST IN THE ROOM",
         "orientation": "v",
         "showlegend": true,
         "type": "scatter",
         "x": [
          2019
         ],
         "xaxis": "x",
         "y": [
          88
         ],
         "yaxis": "y"
        },
        {
         "hovertemplate": "name=Golden<br>year=%{x}<br>popularity=%{y}<extra></extra>",
         "legendgroup": "Golden",
         "marker": {
          "color": "#B6E880",
          "symbol": "circle"
         },
         "mode": "markers",
         "name": "Golden",
         "orientation": "v",
         "showlegend": true,
         "type": "scatter",
         "x": [
          2019
         ],
         "xaxis": "x",
         "y": [
          89
         ],
         "yaxis": "y"
        },
        {
         "hovertemplate": "name=Star Shopping<br>year=%{x}<br>popularity=%{y}<extra></extra>",
         "legendgroup": "Star Shopping",
         "marker": {
          "color": "#FF97FF",
          "symbol": "circle"
         },
         "mode": "markers",
         "name": "Star Shopping",
         "orientation": "v",
         "showlegend": true,
         "type": "scatter",
         "x": [
          2019
         ],
         "xaxis": "x",
         "y": [
          86
         ],
         "yaxis": "y"
        },
        {
         "hovertemplate": "name=ROXANNE<br>year=%{x}<br>popularity=%{y}<extra></extra>",
         "legendgroup": "ROXANNE",
         "marker": {
          "color": "#FECB52",
          "symbol": "circle"
         },
         "mode": "markers",
         "name": "ROXANNE",
         "orientation": "v",
         "showlegend": true,
         "type": "scatter",
         "x": [
          2019
         ],
         "xaxis": "x",
         "y": [
          87
         ],
         "yaxis": "y"
        },
        {
         "hovertemplate": "name=Adore You<br>year=%{x}<br>popularity=%{y}<extra></extra>",
         "legendgroup": "Adore You",
         "marker": {
          "color": "#636efa",
          "symbol": "circle"
         },
         "mode": "markers",
         "name": "Adore You",
         "orientation": "v",
         "showlegend": true,
         "type": "scatter",
         "x": [
          2019
         ],
         "xaxis": "x",
         "y": [
          88
         ],
         "yaxis": "y"
        },
        {
         "hovertemplate": "name=Breaking Me<br>year=%{x}<br>popularity=%{y}<extra></extra>",
         "legendgroup": "Breaking Me",
         "marker": {
          "color": "#EF553B",
          "symbol": "circle"
         },
         "mode": "markers",
         "name": "Breaking Me",
         "orientation": "v",
         "showlegend": true,
         "type": "scatter",
         "x": [
          2019
         ],
         "xaxis": "x",
         "y": [
          92
         ],
         "yaxis": "y"
        },
        {
         "hovertemplate": "name=everything i wanted<br>year=%{x}<br>popularity=%{y}<extra></extra>",
         "legendgroup": "everything i wanted",
         "marker": {
          "color": "#00cc96",
          "symbol": "circle"
         },
         "mode": "markers",
         "name": "everything i wanted",
         "orientation": "v",
         "showlegend": true,
         "type": "scatter",
         "x": [
          2019
         ],
         "xaxis": "x",
         "y": [
          87
         ],
         "yaxis": "y"
        },
        {
         "hovertemplate": "name=bad guy<br>year=%{x}<br>popularity=%{y}<extra></extra>",
         "legendgroup": "bad guy",
         "marker": {
          "color": "#ab63fa",
          "symbol": "circle"
         },
         "mode": "markers",
         "name": "bad guy",
         "orientation": "v",
         "showlegend": true,
         "type": "scatter",
         "x": [
          2019
         ],
         "xaxis": "x",
         "y": [
          88
         ],
         "yaxis": "y"
        },
        {
         "hovertemplate": "name=when the party's over<br>year=%{x}<br>popularity=%{y}<extra></extra>",
         "legendgroup": "when the party's over",
         "marker": {
          "color": "#FFA15A",
          "symbol": "circle"
         },
         "mode": "markers",
         "name": "when the party's over",
         "orientation": "v",
         "showlegend": true,
         "type": "scatter",
         "x": [
          2019
         ],
         "xaxis": "x",
         "y": [
          86
         ],
         "yaxis": "y"
        },
        {
         "hovertemplate": "name=Still Don't Know My Name<br>year=%{x}<br>popularity=%{y}<extra></extra>",
         "legendgroup": "Still Don't Know My Name",
         "marker": {
          "color": "#19d3f3",
          "symbol": "circle"
         },
         "mode": "markers",
         "name": "Still Don't Know My Name",
         "orientation": "v",
         "showlegend": true,
         "type": "scatter",
         "x": [
          2019
         ],
         "xaxis": "x",
         "y": [
          86
         ],
         "yaxis": "y"
        },
        {
         "hovertemplate": "name=Dance Monkey<br>year=%{x}<br>popularity=%{y}<extra></extra>",
         "legendgroup": "Dance Monkey",
         "marker": {
          "color": "#FF6692",
          "symbol": "circle"
         },
         "mode": "markers",
         "name": "Dance Monkey",
         "orientation": "v",
         "showlegend": true,
         "type": "scatter",
         "x": [
          2019
         ],
         "xaxis": "x",
         "y": [
          89
         ],
         "yaxis": "y"
        },
        {
         "hovertemplate": "name=7 rings<br>year=%{x}<br>popularity=%{y}<extra></extra>",
         "legendgroup": "7 rings",
         "marker": {
          "color": "#B6E880",
          "symbol": "circle"
         },
         "mode": "markers",
         "name": "7 rings",
         "orientation": "v",
         "showlegend": true,
         "type": "scatter",
         "x": [
          2019
         ],
         "xaxis": "x",
         "y": [
          87
         ],
         "yaxis": "y"
        },
        {
         "hovertemplate": "name=Memories<br>year=%{x}<br>popularity=%{y}<extra></extra>",
         "legendgroup": "Memories",
         "marker": {
          "color": "#FF97FF",
          "symbol": "circle"
         },
         "mode": "markers",
         "name": "Memories",
         "orientation": "v",
         "showlegend": true,
         "type": "scatter",
         "x": [
          2019
         ],
         "xaxis": "x",
         "y": [
          89
         ],
         "yaxis": "y"
        },
        {
         "hovertemplate": "name=Before You Go<br>year=%{x}<br>popularity=%{y}<extra></extra>",
         "legendgroup": "Before You Go",
         "marker": {
          "color": "#FECB52",
          "symbol": "circle"
         },
         "mode": "markers",
         "name": "Before You Go",
         "orientation": "v",
         "showlegend": true,
         "type": "scatter",
         "x": [
          2019,
          2019
         ],
         "xaxis": "x",
         "y": [
          86,
          86
         ],
         "yaxis": "y"
        },
        {
         "hovertemplate": "name=ily (i love you baby) (feat. Emilee)<br>year=%{x}<br>popularity=%{y}<extra></extra>",
         "legendgroup": "ily (i love you baby) (feat. Emilee)",
         "marker": {
          "color": "#636efa",
          "symbol": "circle"
         },
         "mode": "markers",
         "name": "ily (i love you baby) (feat. Emilee)",
         "orientation": "v",
         "showlegend": true,
         "type": "scatter",
         "x": [
          2019
         ],
         "xaxis": "x",
         "y": [
          88
         ],
         "yaxis": "y"
        },
        {
         "hovertemplate": "name=Say So<br>year=%{x}<br>popularity=%{y}<extra></extra>",
         "legendgroup": "Say So",
         "marker": {
          "color": "#EF553B",
          "symbol": "circle"
         },
         "mode": "markers",
         "name": "Say So",
         "orientation": "v",
         "showlegend": true,
         "type": "scatter",
         "x": [
          2019
         ],
         "xaxis": "x",
         "y": [
          86
         ],
         "yaxis": "y"
        },
        {
         "hovertemplate": "name=Don't Start Now<br>year=%{x}<br>popularity=%{y}<extra></extra>",
         "legendgroup": "Don't Start Now",
         "marker": {
          "color": "#00cc96",
          "symbol": "circle"
         },
         "mode": "markers",
         "name": "Don't Start Now",
         "orientation": "v",
         "showlegend": true,
         "type": "scatter",
         "x": [
          2019
         ],
         "xaxis": "x",
         "y": [
          86
         ],
         "yaxis": "y"
        },
        {
         "hovertemplate": "name=Tusa<br>year=%{x}<br>popularity=%{y}<extra></extra>",
         "legendgroup": "Tusa",
         "marker": {
          "color": "#ab63fa",
          "symbol": "circle"
         },
         "mode": "markers",
         "name": "Tusa",
         "orientation": "v",
         "showlegend": true,
         "type": "scatter",
         "x": [
          2019
         ],
         "xaxis": "x",
         "y": [
          88
         ],
         "yaxis": "y"
        },
        {
         "hovertemplate": "name=Ride It<br>year=%{x}<br>popularity=%{y}<extra></extra>",
         "legendgroup": "Ride It",
         "marker": {
          "color": "#FFA15A",
          "symbol": "circle"
         },
         "mode": "markers",
         "name": "Ride It",
         "orientation": "v",
         "showlegend": true,
         "type": "scatter",
         "x": [
          2019
         ],
         "xaxis": "x",
         "y": [
          87
         ],
         "yaxis": "y"
        },
        {
         "hovertemplate": "name=Mood (feat. iann dior)<br>year=%{x}<br>popularity=%{y}<extra></extra>",
         "legendgroup": "Mood (feat. iann dior)",
         "marker": {
          "color": "#19d3f3",
          "symbol": "circle"
         },
         "mode": "markers",
         "name": "Mood (feat. iann dior)",
         "orientation": "v",
         "showlegend": true,
         "type": "scatter",
         "x": [
          2020
         ],
         "xaxis": "x",
         "y": [
          99
         ],
         "yaxis": "y"
        },
        {
         "hovertemplate": "name=For The Night (feat. Lil Baby & DaBaby)<br>year=%{x}<br>popularity=%{y}<extra></extra>",
         "legendgroup": "For The Night (feat. Lil Baby & DaBaby)",
         "marker": {
          "color": "#FF6692",
          "symbol": "circle"
         },
         "mode": "markers",
         "name": "For The Night (feat. Lil Baby & DaBaby)",
         "orientation": "v",
         "showlegend": true,
         "type": "scatter",
         "x": [
          2020
         ],
         "xaxis": "x",
         "y": [
          95
         ],
         "yaxis": "y"
        },
        {
         "hovertemplate": "name=WAP (feat. Megan Thee Stallion)<br>year=%{x}<br>popularity=%{y}<extra></extra>",
         "legendgroup": "WAP (feat. Megan Thee Stallion)",
         "marker": {
          "color": "#B6E880",
          "symbol": "circle"
         },
         "mode": "markers",
         "name": "WAP (feat. Megan Thee Stallion)",
         "orientation": "v",
         "showlegend": true,
         "type": "scatter",
         "x": [
          2020
         ],
         "xaxis": "x",
         "y": [
          96
         ],
         "yaxis": "y"
        },
        {
         "hovertemplate": "name=Laugh Now Cry Later (feat. Lil Durk)<br>year=%{x}<br>popularity=%{y}<extra></extra>",
         "legendgroup": "Laugh Now Cry Later (feat. Lil Durk)",
         "marker": {
          "color": "#FF97FF",
          "symbol": "circle"
         },
         "mode": "markers",
         "name": "Laugh Now Cry Later (feat. Lil Durk)",
         "orientation": "v",
         "showlegend": true,
         "type": "scatter",
         "x": [
          2020
         ],
         "xaxis": "x",
         "y": [
          93
         ],
         "yaxis": "y"
        },
        {
         "hovertemplate": "name=positions<br>year=%{x}<br>popularity=%{y}<extra></extra>",
         "legendgroup": "positions",
         "marker": {
          "color": "#FECB52",
          "symbol": "circle"
         },
         "mode": "markers",
         "name": "positions",
         "orientation": "v",
         "showlegend": true,
         "type": "scatter",
         "x": [
          2020
         ],
         "xaxis": "x",
         "y": [
          96
         ],
         "yaxis": "y"
        },
        {
         "hovertemplate": "name=Dakiti<br>year=%{x}<br>popularity=%{y}<extra></extra>",
         "legendgroup": "Dakiti",
         "marker": {
          "color": "#636efa",
          "symbol": "circle"
         },
         "mode": "markers",
         "name": "Dakiti",
         "orientation": "v",
         "showlegend": true,
         "type": "scatter",
         "x": [
          2020
         ],
         "xaxis": "x",
         "y": [
          100
         ],
         "yaxis": "y"
        },
        {
         "hovertemplate": "name=What You Know Bout Love<br>year=%{x}<br>popularity=%{y}<extra></extra>",
         "legendgroup": "What You Know Bout Love",
         "marker": {
          "color": "#EF553B",
          "symbol": "circle"
         },
         "mode": "markers",
         "name": "What You Know Bout Love",
         "orientation": "v",
         "showlegend": true,
         "type": "scatter",
         "x": [
          2020
         ],
         "xaxis": "x",
         "y": [
          96
         ],
         "yaxis": "y"
        },
        {
         "hovertemplate": "name=Lemonade<br>year=%{x}<br>popularity=%{y}<extra></extra>",
         "legendgroup": "Lemonade",
         "marker": {
          "color": "#00cc96",
          "symbol": "circle"
         },
         "mode": "markers",
         "name": "Lemonade",
         "orientation": "v",
         "showlegend": true,
         "type": "scatter",
         "x": [
          2020
         ],
         "xaxis": "x",
         "y": [
          94
         ],
         "yaxis": "y"
        },
        {
         "hovertemplate": "name=34+35<br>year=%{x}<br>popularity=%{y}<extra></extra>",
         "legendgroup": "34+35",
         "marker": {
          "color": "#ab63fa",
          "symbol": "circle"
         },
         "mode": "markers",
         "name": "34+35",
         "orientation": "v",
         "showlegend": true,
         "type": "scatter",
         "x": [
          2020
         ],
         "xaxis": "x",
         "y": [
          92
         ],
         "yaxis": "y"
        },
        {
         "hovertemplate": "name=Holy (feat. Chance The Rapper)<br>year=%{x}<br>popularity=%{y}<extra></extra>",
         "legendgroup": "Holy (feat. Chance The Rapper)",
         "marker": {
          "color": "#FFA15A",
          "symbol": "circle"
         },
         "mode": "markers",
         "name": "Holy (feat. Chance The Rapper)",
         "orientation": "v",
         "showlegend": true,
         "type": "scatter",
         "x": [
          2020
         ],
         "xaxis": "x",
         "y": [
          95
         ],
         "yaxis": "y"
        },
        {
         "hovertemplate": "name=Blinding Lights<br>year=%{x}<br>popularity=%{y}<extra></extra>",
         "legendgroup": "Blinding Lights",
         "marker": {
          "color": "#19d3f3",
          "symbol": "circle"
         },
         "mode": "markers",
         "name": "Blinding Lights",
         "orientation": "v",
         "showlegend": true,
         "type": "scatter",
         "x": [
          2020
         ],
         "xaxis": "x",
         "y": [
          96
         ],
         "yaxis": "y"
        },
        {
         "hovertemplate": "name=Wishing Well<br>year=%{x}<br>popularity=%{y}<extra></extra>",
         "legendgroup": "Wishing Well",
         "marker": {
          "color": "#FF6692",
          "symbol": "circle"
         },
         "mode": "markers",
         "name": "Wishing Well",
         "orientation": "v",
         "showlegend": true,
         "type": "scatter",
         "x": [
          2020
         ],
         "xaxis": "x",
         "y": [
          90
         ],
         "yaxis": "y"
        },
        {
         "hovertemplate": "name=Dynamite<br>year=%{x}<br>popularity=%{y}<extra></extra>",
         "legendgroup": "Dynamite",
         "marker": {
          "color": "#B6E880",
          "symbol": "circle"
         },
         "mode": "markers",
         "name": "Dynamite",
         "orientation": "v",
         "showlegend": true,
         "type": "scatter",
         "x": [
          2020
         ],
         "xaxis": "x",
         "y": [
          97
         ],
         "yaxis": "y"
        },
        {
         "hovertemplate": "name=Heather<br>year=%{x}<br>popularity=%{y}<extra></extra>",
         "legendgroup": "Heather",
         "marker": {
          "color": "#FF97FF",
          "symbol": "circle"
         },
         "mode": "markers",
         "name": "Heather",
         "orientation": "v",
         "showlegend": true,
         "type": "scatter",
         "x": [
          2020
         ],
         "xaxis": "x",
         "y": [
          93
         ],
         "yaxis": "y"
        },
        {
         "hovertemplate": "name=Lonely (with benny blanco)<br>year=%{x}<br>popularity=%{y}<extra></extra>",
         "legendgroup": "Lonely (with benny blanco)",
         "marker": {
          "color": "#FECB52",
          "symbol": "circle"
         },
         "mode": "markers",
         "name": "Lonely (with benny blanco)",
         "orientation": "v",
         "showlegend": true,
         "type": "scatter",
         "x": [
          2020
         ],
         "xaxis": "x",
         "y": [
          95
         ],
         "yaxis": "y"
        },
        {
         "hovertemplate": "name=Put Your Records On<br>year=%{x}<br>popularity=%{y}<extra></extra>",
         "legendgroup": "Put Your Records On",
         "marker": {
          "color": "#636efa",
          "symbol": "circle"
         },
         "mode": "markers",
         "name": "Put Your Records On",
         "orientation": "v",
         "showlegend": true,
         "type": "scatter",
         "x": [
          2020
         ],
         "xaxis": "x",
         "y": [
          93
         ],
         "yaxis": "y"
        },
        {
         "hovertemplate": "name=Come & Go (with Marshmello)<br>year=%{x}<br>popularity=%{y}<extra></extra>",
         "legendgroup": "Come & Go (with Marshmello)",
         "marker": {
          "color": "#EF553B",
          "symbol": "circle"
         },
         "mode": "markers",
         "name": "Come & Go (with Marshmello)",
         "orientation": "v",
         "showlegend": true,
         "type": "scatter",
         "x": [
          2020
         ],
         "xaxis": "x",
         "y": [
          90
         ],
         "yaxis": "y"
        },
        {
         "hovertemplate": "name=you broke me first<br>year=%{x}<br>popularity=%{y}<extra></extra>",
         "legendgroup": "you broke me first",
         "marker": {
          "color": "#00cc96",
          "symbol": "circle"
         },
         "mode": "markers",
         "name": "you broke me first",
         "orientation": "v",
         "showlegend": true,
         "type": "scatter",
         "x": [
          2020
         ],
         "xaxis": "x",
         "y": [
          95
         ],
         "yaxis": "y"
        },
        {
         "hovertemplate": "name=Therefore I Am<br>year=%{x}<br>popularity=%{y}<extra></extra>",
         "legendgroup": "Therefore I Am",
         "marker": {
          "color": "#ab63fa",
          "symbol": "circle"
         },
         "mode": "markers",
         "name": "Therefore I Am",
         "orientation": "v",
         "showlegend": true,
         "type": "scatter",
         "x": [
          2020
         ],
         "xaxis": "x",
         "y": [
          93
         ],
         "yaxis": "y"
        },
        {
         "hovertemplate": "name=Tyler Herro<br>year=%{x}<br>popularity=%{y}<extra></extra>",
         "legendgroup": "Tyler Herro",
         "marker": {
          "color": "#FFA15A",
          "symbol": "circle"
         },
         "mode": "markers",
         "name": "Tyler Herro",
         "orientation": "v",
         "showlegend": true,
         "type": "scatter",
         "x": [
          2020
         ],
         "xaxis": "x",
         "y": [
          88
         ],
         "yaxis": "y"
        },
        {
         "hovertemplate": "name=WHATS POPPIN (feat. DaBaby, Tory Lanez & Lil Wayne) - Remix<br>year=%{x}<br>popularity=%{y}<extra></extra>",
         "legendgroup": "WHATS POPPIN (feat. DaBaby, Tory Lanez & Lil Wayne) - Remix",
         "marker": {
          "color": "#19d3f3",
          "symbol": "circle"
         },
         "mode": "markers",
         "name": "WHATS POPPIN (feat. DaBaby, Tory Lanez & Lil Wayne) - Remix",
         "orientation": "v",
         "showlegend": true,
         "type": "scatter",
         "x": [
          2020
         ],
         "xaxis": "x",
         "y": [
          88
         ],
         "yaxis": "y"
        },
        {
         "hovertemplate": "name=Forever After All<br>year=%{x}<br>popularity=%{y}<extra></extra>",
         "legendgroup": "Forever After All",
         "marker": {
          "color": "#FF6692",
          "symbol": "circle"
         },
         "mode": "markers",
         "name": "Forever After All",
         "orientation": "v",
         "showlegend": true,
         "type": "scatter",
         "x": [
          2020
         ],
         "xaxis": "x",
         "y": [
          86
         ],
         "yaxis": "y"
        },
        {
         "hovertemplate": "name=POPSTAR (feat. Drake)<br>year=%{x}<br>popularity=%{y}<extra></extra>",
         "legendgroup": "POPSTAR (feat. Drake)",
         "marker": {
          "color": "#B6E880",
          "symbol": "circle"
         },
         "mode": "markers",
         "name": "POPSTAR (feat. Drake)",
         "orientation": "v",
         "showlegend": true,
         "type": "scatter",
         "x": [
          2020
         ],
         "xaxis": "x",
         "y": [
          91
         ],
         "yaxis": "y"
        },
        {
         "hovertemplate": "name=Martin & Gina<br>year=%{x}<br>popularity=%{y}<extra></extra>",
         "legendgroup": "Martin & Gina",
         "marker": {
          "color": "#FF97FF",
          "symbol": "circle"
         },
         "mode": "markers",
         "name": "Martin & Gina",
         "orientation": "v",
         "showlegend": true,
         "type": "scatter",
         "x": [
          2020
         ],
         "xaxis": "x",
         "y": [
          87
         ],
         "yaxis": "y"
        },
        {
         "hovertemplate": "name=pov<br>year=%{x}<br>popularity=%{y}<extra></extra>",
         "legendgroup": "pov",
         "marker": {
          "color": "#FECB52",
          "symbol": "circle"
         },
         "mode": "markers",
         "name": "pov",
         "orientation": "v",
         "showlegend": true,
         "type": "scatter",
         "x": [
          2020
         ],
         "xaxis": "x",
         "y": [
          89
         ],
         "yaxis": "y"
        },
        {
         "hovertemplate": "name=Runnin<br>year=%{x}<br>popularity=%{y}<extra></extra>",
         "legendgroup": "Runnin",
         "marker": {
          "color": "#636efa",
          "symbol": "circle"
         },
         "mode": "markers",
         "name": "Runnin",
         "orientation": "v",
         "showlegend": true,
         "type": "scatter",
         "x": [
          2020
         ],
         "xaxis": "x",
         "y": [
          86
         ],
         "yaxis": "y"
        },
        {
         "hovertemplate": "name=Mr. Right Now (feat. Drake)<br>year=%{x}<br>popularity=%{y}<extra></extra>",
         "legendgroup": "Mr. Right Now (feat. Drake)",
         "marker": {
          "color": "#EF553B",
          "symbol": "circle"
         },
         "mode": "markers",
         "name": "Mr. Right Now (feat. Drake)",
         "orientation": "v",
         "showlegend": true,
         "type": "scatter",
         "x": [
          2020
         ],
         "xaxis": "x",
         "y": [
          86
         ],
         "yaxis": "y"
        },
        {
         "hovertemplate": "name=Wonder<br>year=%{x}<br>popularity=%{y}<extra></extra>",
         "legendgroup": "Wonder",
         "marker": {
          "color": "#00cc96",
          "symbol": "circle"
         },
         "mode": "markers",
         "name": "Wonder",
         "orientation": "v",
         "showlegend": true,
         "type": "scatter",
         "x": [
          2020
         ],
         "xaxis": "x",
         "y": [
          92
         ],
         "yaxis": "y"
        },
        {
         "hovertemplate": "name=Be Like That - feat. Swae Lee & Khalid<br>year=%{x}<br>popularity=%{y}<extra></extra>",
         "legendgroup": "Be Like That - feat. Swae Lee & Khalid",
         "marker": {
          "color": "#ab63fa",
          "symbol": "circle"
         },
         "mode": "markers",
         "name": "Be Like That - feat. Swae Lee & Khalid",
         "orientation": "v",
         "showlegend": true,
         "type": "scatter",
         "x": [
          2020
         ],
         "xaxis": "x",
         "y": [
          87
         ],
         "yaxis": "y"
        },
        {
         "hovertemplate": "name=my ex's best friend (with blackbear)<br>year=%{x}<br>popularity=%{y}<extra></extra>",
         "legendgroup": "my ex's best friend (with blackbear)",
         "marker": {
          "color": "#FFA15A",
          "symbol": "circle"
         },
         "mode": "markers",
         "name": "my ex's best friend (with blackbear)",
         "orientation": "v",
         "showlegend": true,
         "type": "scatter",
         "x": [
          2020
         ],
         "xaxis": "x",
         "y": [
          88
         ],
         "yaxis": "y"
        },
        {
         "hovertemplate": "name=Mood Swings (feat. Lil Tjay)<br>year=%{x}<br>popularity=%{y}<extra></extra>",
         "legendgroup": "Mood Swings (feat. Lil Tjay)",
         "marker": {
          "color": "#19d3f3",
          "symbol": "circle"
         },
         "mode": "markers",
         "name": "Mood Swings (feat. Lil Tjay)",
         "orientation": "v",
         "showlegend": true,
         "type": "scatter",
         "x": [
          2020
         ],
         "xaxis": "x",
         "y": [
          90
         ],
         "yaxis": "y"
        },
        {
         "hovertemplate": "name=motive (with Doja Cat)<br>year=%{x}<br>popularity=%{y}<extra></extra>",
         "legendgroup": "motive (with Doja Cat)",
         "marker": {
          "color": "#FF6692",
          "symbol": "circle"
         },
         "mode": "markers",
         "name": "motive (with Doja Cat)",
         "orientation": "v",
         "showlegend": true,
         "type": "scatter",
         "x": [
          2020
         ],
         "xaxis": "x",
         "y": [
          88
         ],
         "yaxis": "y"
        },
        {
         "hovertemplate": "name=Daisy<br>year=%{x}<br>popularity=%{y}<extra></extra>",
         "legendgroup": "Daisy",
         "marker": {
          "color": "#B6E880",
          "symbol": "circle"
         },
         "mode": "markers",
         "name": "Daisy",
         "orientation": "v",
         "showlegend": true,
         "type": "scatter",
         "x": [
          2020
         ],
         "xaxis": "x",
         "y": [
          90
         ],
         "yaxis": "y"
        },
        {
         "hovertemplate": "name=Lemonade (feat. Gunna, Don Toliver & NAV)<br>year=%{x}<br>popularity=%{y}<extra></extra>",
         "legendgroup": "Lemonade (feat. Gunna, Don Toliver & NAV)",
         "marker": {
          "color": "#FF97FF",
          "symbol": "circle"
         },
         "mode": "markers",
         "name": "Lemonade (feat. Gunna, Don Toliver & NAV)",
         "orientation": "v",
         "showlegend": true,
         "type": "scatter",
         "x": [
          2020
         ],
         "xaxis": "x",
         "y": [
          90
         ],
         "yaxis": "y"
        },
        {
         "hovertemplate": "name=Go Crazy<br>year=%{x}<br>popularity=%{y}<extra></extra>",
         "legendgroup": "Go Crazy",
         "marker": {
          "color": "#FECB52",
          "symbol": "circle"
         },
         "mode": "markers",
         "name": "Go Crazy",
         "orientation": "v",
         "showlegend": true,
         "type": "scatter",
         "x": [
          2020
         ],
         "xaxis": "x",
         "y": [
          89
         ],
         "yaxis": "y"
        },
        {
         "hovertemplate": "name=Levitating (feat. DaBaby)<br>year=%{x}<br>popularity=%{y}<extra></extra>",
         "legendgroup": "Levitating (feat. DaBaby)",
         "marker": {
          "color": "#636efa",
          "symbol": "circle"
         },
         "mode": "markers",
         "name": "Levitating (feat. DaBaby)",
         "orientation": "v",
         "showlegend": true,
         "type": "scatter",
         "x": [
          2020
         ],
         "xaxis": "x",
         "y": [
          89
         ],
         "yaxis": "y"
        },
        {
         "hovertemplate": "name=Midnight Sky<br>year=%{x}<br>popularity=%{y}<extra></extra>",
         "legendgroup": "Midnight Sky",
         "marker": {
          "color": "#EF553B",
          "symbol": "circle"
         },
         "mode": "markers",
         "name": "Midnight Sky",
         "orientation": "v",
         "showlegend": true,
         "type": "scatter",
         "x": [
          2020
         ],
         "xaxis": "x",
         "y": [
          91
         ],
         "yaxis": "y"
        },
        {
         "hovertemplate": "name=E-GIRLS ARE RUINING MY LIFE!<br>year=%{x}<br>popularity=%{y}<extra></extra>",
         "legendgroup": "E-GIRLS ARE RUINING MY LIFE!",
         "marker": {
          "color": "#00cc96",
          "symbol": "circle"
         },
         "mode": "markers",
         "name": "E-GIRLS ARE RUINING MY LIFE!",
         "orientation": "v",
         "showlegend": true,
         "type": "scatter",
         "x": [
          2020
         ],
         "xaxis": "x",
         "y": [
          86
         ],
         "yaxis": "y"
        },
        {
         "hovertemplate": "name=death bed (coffee for your head)<br>year=%{x}<br>popularity=%{y}<extra></extra>",
         "legendgroup": "death bed (coffee for your head)",
         "marker": {
          "color": "#ab63fa",
          "symbol": "circle"
         },
         "mode": "markers",
         "name": "death bed (coffee for your head)",
         "orientation": "v",
         "showlegend": true,
         "type": "scatter",
         "x": [
          2020
         ],
         "xaxis": "x",
         "y": [
          90
         ],
         "yaxis": "y"
        },
        {
         "hovertemplate": "name=Hawái - Remix<br>year=%{x}<br>popularity=%{y}<extra></extra>",
         "legendgroup": "Hawái - Remix",
         "marker": {
          "color": "#FFA15A",
          "symbol": "circle"
         },
         "mode": "markers",
         "name": "Hawái - Remix",
         "orientation": "v",
         "showlegend": true,
         "type": "scatter",
         "x": [
          2020
         ],
         "xaxis": "x",
         "y": [
          90
         ],
         "yaxis": "y"
        },
        {
         "hovertemplate": "name=SO DONE<br>year=%{x}<br>popularity=%{y}<extra></extra>",
         "legendgroup": "SO DONE",
         "marker": {
          "color": "#19d3f3",
          "symbol": "circle"
         },
         "mode": "markers",
         "name": "SO DONE",
         "orientation": "v",
         "showlegend": true,
         "type": "scatter",
         "x": [
          2020
         ],
         "xaxis": "x",
         "y": [
          87
         ],
         "yaxis": "y"
        },
        {
         "hovertemplate": "name=After Party<br>year=%{x}<br>popularity=%{y}<extra></extra>",
         "legendgroup": "After Party",
         "marker": {
          "color": "#FF6692",
          "symbol": "circle"
         },
         "mode": "markers",
         "name": "After Party",
         "orientation": "v",
         "showlegend": true,
         "type": "scatter",
         "x": [
          2020
         ],
         "xaxis": "x",
         "y": [
          86
         ],
         "yaxis": "y"
        },
        {
         "hovertemplate": "name=The Woo (feat. 50 Cent & Roddy Ricch)<br>year=%{x}<br>popularity=%{y}<extra></extra>",
         "legendgroup": "The Woo (feat. 50 Cent & Roddy Ricch)",
         "marker": {
          "color": "#B6E880",
          "symbol": "circle"
         },
         "mode": "markers",
         "name": "The Woo (feat. 50 Cent & Roddy Ricch)",
         "orientation": "v",
         "showlegend": true,
         "type": "scatter",
         "x": [
          2020
         ],
         "xaxis": "x",
         "y": [
          87
         ],
         "yaxis": "y"
        },
        {
         "hovertemplate": "name=Head & Heart (feat. MNEK)<br>year=%{x}<br>popularity=%{y}<extra></extra>",
         "legendgroup": "Head & Heart (feat. MNEK)",
         "marker": {
          "color": "#FF97FF",
          "symbol": "circle"
         },
         "mode": "markers",
         "name": "Head & Heart (feat. MNEK)",
         "orientation": "v",
         "showlegend": true,
         "type": "scatter",
         "x": [
          2020
         ],
         "xaxis": "x",
         "y": [
          94
         ],
         "yaxis": "y"
        },
        {
         "hovertemplate": "name=hot girl bummer<br>year=%{x}<br>popularity=%{y}<extra></extra>",
         "legendgroup": "hot girl bummer",
         "marker": {
          "color": "#FECB52",
          "symbol": "circle"
         },
         "mode": "markers",
         "name": "hot girl bummer",
         "orientation": "v",
         "showlegend": true,
         "type": "scatter",
         "x": [
          2020
         ],
         "xaxis": "x",
         "y": [
          86
         ],
         "yaxis": "y"
        },
        {
         "hovertemplate": "name=Savage Love (Laxed - Siren Beat)<br>year=%{x}<br>popularity=%{y}<extra></extra>",
         "legendgroup": "Savage Love (Laxed - Siren Beat)",
         "marker": {
          "color": "#636efa",
          "symbol": "circle"
         },
         "mode": "markers",
         "name": "Savage Love (Laxed - Siren Beat)",
         "orientation": "v",
         "showlegend": true,
         "type": "scatter",
         "x": [
          2020
         ],
         "xaxis": "x",
         "y": [
          91
         ],
         "yaxis": "y"
        },
        {
         "hovertemplate": "name=Life Goes On<br>year=%{x}<br>popularity=%{y}<extra></extra>",
         "legendgroup": "Life Goes On",
         "marker": {
          "color": "#EF553B",
          "symbol": "circle"
         },
         "mode": "markers",
         "name": "Life Goes On",
         "orientation": "v",
         "showlegend": true,
         "type": "scatter",
         "x": [
          2020
         ],
         "xaxis": "x",
         "y": [
          90
         ],
         "yaxis": "y"
        },
        {
         "hovertemplate": "name=Take You Dancing<br>year=%{x}<br>popularity=%{y}<extra></extra>",
         "legendgroup": "Take You Dancing",
         "marker": {
          "color": "#00cc96",
          "symbol": "circle"
         },
         "mode": "markers",
         "name": "Take You Dancing",
         "orientation": "v",
         "showlegend": true,
         "type": "scatter",
         "x": [
          2020
         ],
         "xaxis": "x",
         "y": [
          92
         ],
         "yaxis": "y"
        },
        {
         "hovertemplate": "name=UN DIA (ONE DAY) (Feat. Tainy)<br>year=%{x}<br>popularity=%{y}<extra></extra>",
         "legendgroup": "UN DIA (ONE DAY) (Feat. Tainy)",
         "marker": {
          "color": "#ab63fa",
          "symbol": "circle"
         },
         "mode": "markers",
         "name": "UN DIA (ONE DAY) (Feat. Tainy)",
         "orientation": "v",
         "showlegend": true,
         "type": "scatter",
         "x": [
          2020
         ],
         "xaxis": "x",
         "y": [
          92
         ],
         "yaxis": "y"
        },
        {
         "hovertemplate": "name=GREECE (feat. Drake)<br>year=%{x}<br>popularity=%{y}<extra></extra>",
         "legendgroup": "GREECE (feat. Drake)",
         "marker": {
          "color": "#FFA15A",
          "symbol": "circle"
         },
         "mode": "markers",
         "name": "GREECE (feat. Drake)",
         "orientation": "v",
         "showlegend": true,
         "type": "scatter",
         "x": [
          2020
         ],
         "xaxis": "x",
         "y": [
          87
         ],
         "yaxis": "y"
        },
        {
         "hovertemplate": "name=Stuck with U (with Justin Bieber)<br>year=%{x}<br>popularity=%{y}<extra></extra>",
         "legendgroup": "Stuck with U (with Justin Bieber)",
         "marker": {
          "color": "#19d3f3",
          "symbol": "circle"
         },
         "mode": "markers",
         "name": "Stuck with U (with Justin Bieber)",
         "orientation": "v",
         "showlegend": true,
         "type": "scatter",
         "x": [
          2020
         ],
         "xaxis": "x",
         "y": [
          89
         ],
         "yaxis": "y"
        },
        {
         "hovertemplate": "name=Godzilla (feat. Juice WRLD)<br>year=%{x}<br>popularity=%{y}<extra></extra>",
         "legendgroup": "Godzilla (feat. Juice WRLD)",
         "marker": {
          "color": "#FF6692",
          "symbol": "circle"
         },
         "mode": "markers",
         "name": "Godzilla (feat. Juice WRLD)",
         "orientation": "v",
         "showlegend": true,
         "type": "scatter",
         "x": [
          2020
         ],
         "xaxis": "x",
         "y": [
          86
         ],
         "yaxis": "y"
        },
        {
         "hovertemplate": "name=Mad at Disney<br>year=%{x}<br>popularity=%{y}<extra></extra>",
         "legendgroup": "Mad at Disney",
         "marker": {
          "color": "#B6E880",
          "symbol": "circle"
         },
         "mode": "markers",
         "name": "Mad at Disney",
         "orientation": "v",
         "showlegend": true,
         "type": "scatter",
         "x": [
          2020
         ],
         "xaxis": "x",
         "y": [
          88
         ],
         "yaxis": "y"
        },
        {
         "hovertemplate": "name=Deep End<br>year=%{x}<br>popularity=%{y}<extra></extra>",
         "legendgroup": "Deep End",
         "marker": {
          "color": "#FF97FF",
          "symbol": "circle"
         },
         "mode": "markers",
         "name": "Deep End",
         "orientation": "v",
         "showlegend": true,
         "type": "scatter",
         "x": [
          2020
         ],
         "xaxis": "x",
         "y": [
          88
         ],
         "yaxis": "y"
        },
        {
         "hovertemplate": "name=Hello (feat. A Boogie Wit da Hoodie)<br>year=%{x}<br>popularity=%{y}<extra></extra>",
         "legendgroup": "Hello (feat. A Boogie Wit da Hoodie)",
         "marker": {
          "color": "#FECB52",
          "symbol": "circle"
         },
         "mode": "markers",
         "name": "Hello (feat. A Boogie Wit da Hoodie)",
         "orientation": "v",
         "showlegend": true,
         "type": "scatter",
         "x": [
          2020
         ],
         "xaxis": "x",
         "y": [
          86
         ],
         "yaxis": "y"
        },
        {
         "hovertemplate": "name=Be Kind (with Halsey)<br>year=%{x}<br>popularity=%{y}<extra></extra>",
         "legendgroup": "Be Kind (with Halsey)",
         "marker": {
          "color": "#636efa",
          "symbol": "circle"
         },
         "mode": "markers",
         "name": "Be Kind (with Halsey)",
         "orientation": "v",
         "showlegend": true,
         "type": "scatter",
         "x": [
          2020
         ],
         "xaxis": "x",
         "y": [
          86
         ],
         "yaxis": "y"
        },
        {
         "hovertemplate": "name=You Got It<br>year=%{x}<br>popularity=%{y}<extra></extra>",
         "legendgroup": "You Got It",
         "marker": {
          "color": "#EF553B",
          "symbol": "circle"
         },
         "mode": "markers",
         "name": "You Got It",
         "orientation": "v",
         "showlegend": true,
         "type": "scatter",
         "x": [
          2020
         ],
         "xaxis": "x",
         "y": [
          86
         ],
         "yaxis": "y"
        },
        {
         "hovertemplate": "name=Relación - Remix<br>year=%{x}<br>popularity=%{y}<extra></extra>",
         "legendgroup": "Relación - Remix",
         "marker": {
          "color": "#00cc96",
          "symbol": "circle"
         },
         "mode": "markers",
         "name": "Relación - Remix",
         "orientation": "v",
         "showlegend": true,
         "type": "scatter",
         "x": [
          2020
         ],
         "xaxis": "x",
         "y": [
          94
         ],
         "yaxis": "y"
        },
        {
         "hovertemplate": "name=Hasta Que Dios Diga<br>year=%{x}<br>popularity=%{y}<extra></extra>",
         "legendgroup": "Hasta Que Dios Diga",
         "marker": {
          "color": "#ab63fa",
          "symbol": "circle"
         },
         "mode": "markers",
         "name": "Hasta Que Dios Diga",
         "orientation": "v",
         "showlegend": true,
         "type": "scatter",
         "x": [
          2020
         ],
         "xaxis": "x",
         "y": [
          86
         ],
         "yaxis": "y"
        },
        {
         "hovertemplate": "name=Mood (Remix) feat. Justin Bieber, J Balvin & iann dior<br>year=%{x}<br>popularity=%{y}<extra></extra>",
         "legendgroup": "Mood (Remix) feat. Justin Bieber, J Balvin & iann dior",
         "marker": {
          "color": "#FFA15A",
          "symbol": "circle"
         },
         "mode": "markers",
         "name": "Mood (Remix) feat. Justin Bieber, J Balvin & iann dior",
         "orientation": "v",
         "showlegend": true,
         "type": "scatter",
         "x": [
          2020
         ],
         "xaxis": "x",
         "y": [
          86
         ],
         "yaxis": "y"
        },
        {
         "hovertemplate": "name=Diamonds<br>year=%{x}<br>popularity=%{y}<extra></extra>",
         "legendgroup": "Diamonds",
         "marker": {
          "color": "#19d3f3",
          "symbol": "circle"
         },
         "mode": "markers",
         "name": "Diamonds",
         "orientation": "v",
         "showlegend": true,
         "type": "scatter",
         "x": [
          2020
         ],
         "xaxis": "x",
         "y": [
          87
         ],
         "yaxis": "y"
        },
        {
         "hovertemplate": "name=Hawái<br>year=%{x}<br>popularity=%{y}<extra></extra>",
         "legendgroup": "Hawái",
         "marker": {
          "color": "#FF6692",
          "symbol": "circle"
         },
         "mode": "markers",
         "name": "Hawái",
         "orientation": "v",
         "showlegend": true,
         "type": "scatter",
         "x": [
          2020,
          2020
         ],
         "xaxis": "x",
         "y": [
          92,
          89
         ],
         "yaxis": "y"
        },
        {
         "hovertemplate": "name=Monster (Shawn Mendes & Justin Bieber)<br>year=%{x}<br>popularity=%{y}<extra></extra>",
         "legendgroup": "Monster (Shawn Mendes & Justin Bieber)",
         "marker": {
          "color": "#B6E880",
          "symbol": "circle"
         },
         "mode": "markers",
         "name": "Monster (Shawn Mendes & Justin Bieber)",
         "orientation": "v",
         "showlegend": true,
         "type": "scatter",
         "x": [
          2020
         ],
         "xaxis": "x",
         "y": [
          87
         ],
         "yaxis": "y"
        },
        {
         "hovertemplate": "name=Kings & Queens<br>year=%{x}<br>popularity=%{y}<extra></extra>",
         "legendgroup": "Kings & Queens",
         "marker": {
          "color": "#FF97FF",
          "symbol": "circle"
         },
         "mode": "markers",
         "name": "Kings & Queens",
         "orientation": "v",
         "showlegend": true,
         "type": "scatter",
         "x": [
          2020
         ],
         "xaxis": "x",
         "y": [
          87
         ],
         "yaxis": "y"
        },
        {
         "hovertemplate": "name=Rain On Me (with Ariana Grande)<br>year=%{x}<br>popularity=%{y}<extra></extra>",
         "legendgroup": "Rain On Me (with Ariana Grande)",
         "marker": {
          "color": "#FECB52",
          "symbol": "circle"
         },
         "mode": "markers",
         "name": "Rain On Me (with Ariana Grande)",
         "orientation": "v",
         "showlegend": true,
         "type": "scatter",
         "x": [
          2020
         ],
         "xaxis": "x",
         "y": [
          86
         ],
         "yaxis": "y"
        },
        {
         "hovertemplate": "name=Ay, DiOs Mío!<br>year=%{x}<br>popularity=%{y}<extra></extra>",
         "legendgroup": "Ay, DiOs Mío!",
         "marker": {
          "color": "#636efa",
          "symbol": "circle"
         },
         "mode": "markers",
         "name": "Ay, DiOs Mío!",
         "orientation": "v",
         "showlegend": true,
         "type": "scatter",
         "x": [
          2020
         ],
         "xaxis": "x",
         "y": [
          91
         ],
         "yaxis": "y"
        },
        {
         "hovertemplate": "name=Lean (feat. Towy, Osquel, Beltito & Sammy & Falsetto)<br>year=%{x}<br>popularity=%{y}<extra></extra>",
         "legendgroup": "Lean (feat. Towy, Osquel, Beltito & Sammy & Falsetto)",
         "marker": {
          "color": "#EF553B",
          "symbol": "circle"
         },
         "mode": "markers",
         "name": "Lean (feat. Towy, Osquel, Beltito & Sammy & Falsetto)",
         "orientation": "v",
         "showlegend": true,
         "type": "scatter",
         "x": [
          2017
         ],
         "xaxis": "x",
         "y": [
          86
         ],
         "yaxis": "y"
        },
        {
         "hovertemplate": "name=Se Te Nota (with Guaynaa)<br>year=%{x}<br>popularity=%{y}<extra></extra>",
         "legendgroup": "Se Te Nota (with Guaynaa)",
         "marker": {
          "color": "#00cc96",
          "symbol": "circle"
         },
         "mode": "markers",
         "name": "Se Te Nota (with Guaynaa)",
         "orientation": "v",
         "showlegend": true,
         "type": "scatter",
         "x": [
          2020
         ],
         "xaxis": "x",
         "y": [
          92
         ],
         "yaxis": "y"
        },
        {
         "hovertemplate": "name=La Curiosidad<br>year=%{x}<br>popularity=%{y}<extra></extra>",
         "legendgroup": "La Curiosidad",
         "marker": {
          "color": "#ab63fa",
          "symbol": "circle"
         },
         "mode": "markers",
         "name": "La Curiosidad",
         "orientation": "v",
         "showlegend": true,
         "type": "scatter",
         "x": [
          2020
         ],
         "xaxis": "x",
         "y": [
          92
         ],
         "yaxis": "y"
        },
        {
         "hovertemplate": "name=BICHOTA<br>year=%{x}<br>popularity=%{y}<extra></extra>",
         "legendgroup": "BICHOTA",
         "marker": {
          "color": "#FFA15A",
          "symbol": "circle"
         },
         "mode": "markers",
         "name": "BICHOTA",
         "orientation": "v",
         "showlegend": true,
         "type": "scatter",
         "x": [
          2020
         ],
         "xaxis": "x",
         "y": [
          91
         ],
         "yaxis": "y"
        },
        {
         "hovertemplate": "name=La Nota<br>year=%{x}<br>popularity=%{y}<extra></extra>",
         "legendgroup": "La Nota",
         "marker": {
          "color": "#19d3f3",
          "symbol": "circle"
         },
         "mode": "markers",
         "name": "La Nota",
         "orientation": "v",
         "showlegend": true,
         "type": "scatter",
         "x": [
          2020
         ],
         "xaxis": "x",
         "y": [
          92
         ],
         "yaxis": "y"
        },
        {
         "hovertemplate": "name=Paradise (feat. Dermot Kennedy)<br>year=%{x}<br>popularity=%{y}<extra></extra>",
         "legendgroup": "Paradise (feat. Dermot Kennedy)",
         "marker": {
          "color": "#FF6692",
          "symbol": "circle"
         },
         "mode": "markers",
         "name": "Paradise (feat. Dermot Kennedy)",
         "orientation": "v",
         "showlegend": true,
         "type": "scatter",
         "x": [
          2020
         ],
         "xaxis": "x",
         "y": [
          86
         ],
         "yaxis": "y"
        },
        {
         "hovertemplate": "name=I CAN'T STOP ME<br>year=%{x}<br>popularity=%{y}<extra></extra>",
         "legendgroup": "I CAN'T STOP ME",
         "marker": {
          "color": "#B6E880",
          "symbol": "circle"
         },
         "mode": "markers",
         "name": "I CAN'T STOP ME",
         "orientation": "v",
         "showlegend": true,
         "type": "scatter",
         "x": [
          2020
         ],
         "xaxis": "x",
         "y": [
          86
         ],
         "yaxis": "y"
        },
        {
         "hovertemplate": "name=Una Locura<br>year=%{x}<br>popularity=%{y}<extra></extra>",
         "legendgroup": "Una Locura",
         "marker": {
          "color": "#FF97FF",
          "symbol": "circle"
         },
         "mode": "markers",
         "name": "Una Locura",
         "orientation": "v",
         "showlegend": true,
         "type": "scatter",
         "x": [
          2020
         ],
         "xaxis": "x",
         "y": [
          91
         ],
         "yaxis": "y"
        },
        {
         "hovertemplate": "name=Mi Cuarto<br>year=%{x}<br>popularity=%{y}<extra></extra>",
         "legendgroup": "Mi Cuarto",
         "marker": {
          "color": "#FECB52",
          "symbol": "circle"
         },
         "mode": "markers",
         "name": "Mi Cuarto",
         "orientation": "v",
         "showlegend": true,
         "type": "scatter",
         "x": [
          2020
         ],
         "xaxis": "x",
         "y": [
          89
         ],
         "yaxis": "y"
        },
        {
         "hovertemplate": "name=La Tóxica<br>year=%{x}<br>popularity=%{y}<extra></extra>",
         "legendgroup": "La Tóxica",
         "marker": {
          "color": "#636efa",
          "symbol": "circle"
         },
         "mode": "markers",
         "name": "La Tóxica",
         "orientation": "v",
         "showlegend": true,
         "type": "scatter",
         "x": [
          2020
         ],
         "xaxis": "x",
         "y": [
          92
         ],
         "yaxis": "y"
        },
        {
         "hovertemplate": "name=La Jeepeta - Remix<br>year=%{x}<br>popularity=%{y}<extra></extra>",
         "legendgroup": "La Jeepeta - Remix",
         "marker": {
          "color": "#EF553B",
          "symbol": "circle"
         },
         "mode": "markers",
         "name": "La Jeepeta - Remix",
         "orientation": "v",
         "showlegend": true,
         "type": "scatter",
         "x": [
          2020
         ],
         "xaxis": "x",
         "y": [
          87
         ],
         "yaxis": "y"
        },
        {
         "hovertemplate": "name=Tick Tock (feat. 24kGoldn)<br>year=%{x}<br>popularity=%{y}<extra></extra>",
         "legendgroup": "Tick Tock (feat. 24kGoldn)",
         "marker": {
          "color": "#00cc96",
          "symbol": "circle"
         },
         "mode": "markers",
         "name": "Tick Tock (feat. 24kGoldn)",
         "orientation": "v",
         "showlegend": true,
         "type": "scatter",
         "x": [
          2020
         ],
         "xaxis": "x",
         "y": [
          88
         ],
         "yaxis": "y"
        },
        {
         "hovertemplate": "name=Mi Niña<br>year=%{x}<br>popularity=%{y}<extra></extra>",
         "legendgroup": "Mi Niña",
         "marker": {
          "color": "#ab63fa",
          "symbol": "circle"
         },
         "mode": "markers",
         "name": "Mi Niña",
         "orientation": "v",
         "showlegend": true,
         "type": "scatter",
         "x": [
          2020
         ],
         "xaxis": "x",
         "y": [
          90
         ],
         "yaxis": "y"
        },
        {
         "hovertemplate": "name=Vida de Rico<br>year=%{x}<br>popularity=%{y}<extra></extra>",
         "legendgroup": "Vida de Rico",
         "marker": {
          "color": "#FFA15A",
          "symbol": "circle"
         },
         "mode": "markers",
         "name": "Vida de Rico",
         "orientation": "v",
         "showlegend": true,
         "type": "scatter",
         "x": [
          2020
         ],
         "xaxis": "x",
         "y": [
          92
         ],
         "yaxis": "y"
        },
        {
         "hovertemplate": "name=Savage Love (Laxed – Siren Beat) [BTS Remix]<br>year=%{x}<br>popularity=%{y}<extra></extra>",
         "legendgroup": "Savage Love (Laxed – Siren Beat) [BTS Remix]",
         "marker": {
          "color": "#19d3f3",
          "symbol": "circle"
         },
         "mode": "markers",
         "name": "Savage Love (Laxed – Siren Beat) [BTS Remix]",
         "orientation": "v",
         "showlegend": true,
         "type": "scatter",
         "x": [
          2020
         ],
         "xaxis": "x",
         "y": [
          86
         ],
         "yaxis": "y"
        },
        {
         "hovertemplate": "name=Agua (with J Balvin) - Music From \"Sponge On The Run\" Movie<br>year=%{x}<br>popularity=%{y}<extra></extra>",
         "legendgroup": "Agua (with J Balvin) - Music From \"Sponge On The Run\" Movie",
         "marker": {
          "color": "#FF6692",
          "symbol": "circle"
         },
         "mode": "markers",
         "name": "Agua (with J Balvin) - Music From \"Sponge On The Run\" Movie",
         "orientation": "v",
         "showlegend": true,
         "type": "scatter",
         "x": [
          2020
         ],
         "xaxis": "x",
         "y": [
          87
         ],
         "yaxis": "y"
        },
        {
         "hovertemplate": "name=The Business<br>year=%{x}<br>popularity=%{y}<extra></extra>",
         "legendgroup": "The Business",
         "marker": {
          "color": "#B6E880",
          "symbol": "circle"
         },
         "mode": "markers",
         "name": "The Business",
         "orientation": "v",
         "showlegend": true,
         "type": "scatter",
         "x": [
          2020
         ],
         "xaxis": "x",
         "y": [
          87
         ],
         "yaxis": "y"
        },
        {
         "hovertemplate": "name=Parce (feat. Justin Quiles)<br>year=%{x}<br>popularity=%{y}<extra></extra>",
         "legendgroup": "Parce (feat. Justin Quiles)",
         "marker": {
          "color": "#FF97FF",
          "symbol": "circle"
         },
         "mode": "markers",
         "name": "Parce (feat. Justin Quiles)",
         "orientation": "v",
         "showlegend": true,
         "type": "scatter",
         "x": [
          2020
         ],
         "xaxis": "x",
         "y": [
          91
         ],
         "yaxis": "y"
        },
        {
         "hovertemplate": "name=La Luz<br>year=%{x}<br>popularity=%{y}<extra></extra>",
         "legendgroup": "La Luz",
         "marker": {
          "color": "#FECB52",
          "symbol": "circle"
         },
         "mode": "markers",
         "name": "La Luz",
         "orientation": "v",
         "showlegend": true,
         "type": "scatter",
         "x": [
          2020
         ],
         "xaxis": "x",
         "y": [
          86
         ],
         "yaxis": "y"
        },
        {
         "hovertemplate": "name=Tattoo - Remix with Camilo<br>year=%{x}<br>popularity=%{y}<extra></extra>",
         "legendgroup": "Tattoo - Remix with Camilo",
         "marker": {
          "color": "#636efa",
          "symbol": "circle"
         },
         "mode": "markers",
         "name": "Tattoo - Remix with Camilo",
         "orientation": "v",
         "showlegend": true,
         "type": "scatter",
         "x": [
          2020
         ],
         "xaxis": "x",
         "y": [
          90
         ],
         "yaxis": "y"
        },
        {
         "hovertemplate": "name=Don Don<br>year=%{x}<br>popularity=%{y}<extra></extra>",
         "legendgroup": "Don Don",
         "marker": {
          "color": "#EF553B",
          "symbol": "circle"
         },
         "mode": "markers",
         "name": "Don Don",
         "orientation": "v",
         "showlegend": true,
         "type": "scatter",
         "x": [
          2020
         ],
         "xaxis": "x",
         "y": [
          86
         ],
         "yaxis": "y"
        },
        {
         "hovertemplate": "name=Jeans<br>year=%{x}<br>popularity=%{y}<extra></extra>",
         "legendgroup": "Jeans",
         "marker": {
          "color": "#00cc96",
          "symbol": "circle"
         },
         "mode": "markers",
         "name": "Jeans",
         "orientation": "v",
         "showlegend": true,
         "type": "scatter",
         "x": [
          2020
         ],
         "xaxis": "x",
         "y": [
          91
         ],
         "yaxis": "y"
        },
        {
         "hovertemplate": "name=Despeinada<br>year=%{x}<br>popularity=%{y}<extra></extra>",
         "legendgroup": "Despeinada",
         "marker": {
          "color": "#ab63fa",
          "symbol": "circle"
         },
         "mode": "markers",
         "name": "Despeinada",
         "orientation": "v",
         "showlegend": true,
         "type": "scatter",
         "x": [
          2020
         ],
         "xaxis": "x",
         "y": [
          88
         ],
         "yaxis": "y"
        },
        {
         "hovertemplate": "name=Reloj<br>year=%{x}<br>popularity=%{y}<extra></extra>",
         "legendgroup": "Reloj",
         "marker": {
          "color": "#FFA15A",
          "symbol": "circle"
         },
         "mode": "markers",
         "name": "Reloj",
         "orientation": "v",
         "showlegend": true,
         "type": "scatter",
         "x": [
          2020
         ],
         "xaxis": "x",
         "y": [
          86
         ],
         "yaxis": "y"
        },
        {
         "hovertemplate": "name=Chica Ideal<br>year=%{x}<br>popularity=%{y}<extra></extra>",
         "legendgroup": "Chica Ideal",
         "marker": {
          "color": "#19d3f3",
          "symbol": "circle"
         },
         "mode": "markers",
         "name": "Chica Ideal",
         "orientation": "v",
         "showlegend": true,
         "type": "scatter",
         "x": [
          2020
         ],
         "xaxis": "x",
         "y": [
          89
         ],
         "yaxis": "y"
        },
        {
         "hovertemplate": "name=Azul<br>year=%{x}<br>popularity=%{y}<extra></extra>",
         "legendgroup": "Azul",
         "marker": {
          "color": "#FF6692",
          "symbol": "circle"
         },
         "mode": "markers",
         "name": "Azul",
         "orientation": "v",
         "showlegend": true,
         "type": "scatter",
         "x": [
          2020
         ],
         "xaxis": "x",
         "y": [
          87
         ],
         "yaxis": "y"
        },
        {
         "hovertemplate": "name=Caramelo<br>year=%{x}<br>popularity=%{y}<extra></extra>",
         "legendgroup": "Caramelo",
         "marker": {
          "color": "#B6E880",
          "symbol": "circle"
         },
         "mode": "markers",
         "name": "Caramelo",
         "orientation": "v",
         "showlegend": true,
         "type": "scatter",
         "x": [
          2020
         ],
         "xaxis": "x",
         "y": [
          87
         ],
         "yaxis": "y"
        },
        {
         "hovertemplate": "name=Quiéreme Mientras Se Pueda<br>year=%{x}<br>popularity=%{y}<extra></extra>",
         "legendgroup": "Quiéreme Mientras Se Pueda",
         "marker": {
          "color": "#FF97FF",
          "symbol": "circle"
         },
         "mode": "markers",
         "name": "Quiéreme Mientras Se Pueda",
         "orientation": "v",
         "showlegend": true,
         "type": "scatter",
         "x": [
          2020
         ],
         "xaxis": "x",
         "y": [
          86
         ],
         "yaxis": "y"
        },
        {
         "hovertemplate": "name=Jerusalema (feat. Nomcebo Zikode)<br>year=%{x}<br>popularity=%{y}<extra></extra>",
         "legendgroup": "Jerusalema (feat. Nomcebo Zikode)",
         "marker": {
          "color": "#FECB52",
          "symbol": "circle"
         },
         "mode": "markers",
         "name": "Jerusalema (feat. Nomcebo Zikode)",
         "orientation": "v",
         "showlegend": true,
         "type": "scatter",
         "x": [
          2020
         ],
         "xaxis": "x",
         "y": [
          86
         ],
         "yaxis": "y"
        },
        {
         "hovertemplate": "name=Ayer Me Llamó Mi Ex (feat. Lenny Santos)<br>year=%{x}<br>popularity=%{y}<extra></extra>",
         "legendgroup": "Ayer Me Llamó Mi Ex (feat. Lenny Santos)",
         "marker": {
          "color": "#636efa",
          "symbol": "circle"
         },
         "mode": "markers",
         "name": "Ayer Me Llamó Mi Ex (feat. Lenny Santos)",
         "orientation": "v",
         "showlegend": true,
         "type": "scatter",
         "x": [
          2020
         ],
         "xaxis": "x",
         "y": [
          86
         ],
         "yaxis": "y"
        }
       ],
       "layout": {
        "legend": {
         "title": {
          "text": "name"
         },
         "tracegroupgap": 0
        },
        "margin": {
         "t": 60
        },
        "template": {
         "data": {
          "bar": [
           {
            "error_x": {
             "color": "#2a3f5f"
            },
            "error_y": {
             "color": "#2a3f5f"
            },
            "marker": {
             "line": {
              "color": "#E5ECF6",
              "width": 0.5
             },
             "pattern": {
              "fillmode": "overlay",
              "size": 10,
              "solidity": 0.2
             }
            },
            "type": "bar"
           }
          ],
          "barpolar": [
           {
            "marker": {
             "line": {
              "color": "#E5ECF6",
              "width": 0.5
             },
             "pattern": {
              "fillmode": "overlay",
              "size": 10,
              "solidity": 0.2
             }
            },
            "type": "barpolar"
           }
          ],
          "carpet": [
           {
            "aaxis": {
             "endlinecolor": "#2a3f5f",
             "gridcolor": "white",
             "linecolor": "white",
             "minorgridcolor": "white",
             "startlinecolor": "#2a3f5f"
            },
            "baxis": {
             "endlinecolor": "#2a3f5f",
             "gridcolor": "white",
             "linecolor": "white",
             "minorgridcolor": "white",
             "startlinecolor": "#2a3f5f"
            },
            "type": "carpet"
           }
          ],
          "choropleth": [
           {
            "colorbar": {
             "outlinewidth": 0,
             "ticks": ""
            },
            "type": "choropleth"
           }
          ],
          "contour": [
           {
            "colorbar": {
             "outlinewidth": 0,
             "ticks": ""
            },
            "colorscale": [
             [
              0,
              "#0d0887"
             ],
             [
              0.1111111111111111,
              "#46039f"
             ],
             [
              0.2222222222222222,
              "#7201a8"
             ],
             [
              0.3333333333333333,
              "#9c179e"
             ],
             [
              0.4444444444444444,
              "#bd3786"
             ],
             [
              0.5555555555555556,
              "#d8576b"
             ],
             [
              0.6666666666666666,
              "#ed7953"
             ],
             [
              0.7777777777777778,
              "#fb9f3a"
             ],
             [
              0.8888888888888888,
              "#fdca26"
             ],
             [
              1,
              "#f0f921"
             ]
            ],
            "type": "contour"
           }
          ],
          "contourcarpet": [
           {
            "colorbar": {
             "outlinewidth": 0,
             "ticks": ""
            },
            "type": "contourcarpet"
           }
          ],
          "heatmap": [
           {
            "colorbar": {
             "outlinewidth": 0,
             "ticks": ""
            },
            "colorscale": [
             [
              0,
              "#0d0887"
             ],
             [
              0.1111111111111111,
              "#46039f"
             ],
             [
              0.2222222222222222,
              "#7201a8"
             ],
             [
              0.3333333333333333,
              "#9c179e"
             ],
             [
              0.4444444444444444,
              "#bd3786"
             ],
             [
              0.5555555555555556,
              "#d8576b"
             ],
             [
              0.6666666666666666,
              "#ed7953"
             ],
             [
              0.7777777777777778,
              "#fb9f3a"
             ],
             [
              0.8888888888888888,
              "#fdca26"
             ],
             [
              1,
              "#f0f921"
             ]
            ],
            "type": "heatmap"
           }
          ],
          "heatmapgl": [
           {
            "colorbar": {
             "outlinewidth": 0,
             "ticks": ""
            },
            "colorscale": [
             [
              0,
              "#0d0887"
             ],
             [
              0.1111111111111111,
              "#46039f"
             ],
             [
              0.2222222222222222,
              "#7201a8"
             ],
             [
              0.3333333333333333,
              "#9c179e"
             ],
             [
              0.4444444444444444,
              "#bd3786"
             ],
             [
              0.5555555555555556,
              "#d8576b"
             ],
             [
              0.6666666666666666,
              "#ed7953"
             ],
             [
              0.7777777777777778,
              "#fb9f3a"
             ],
             [
              0.8888888888888888,
              "#fdca26"
             ],
             [
              1,
              "#f0f921"
             ]
            ],
            "type": "heatmapgl"
           }
          ],
          "histogram": [
           {
            "marker": {
             "pattern": {
              "fillmode": "overlay",
              "size": 10,
              "solidity": 0.2
             }
            },
            "type": "histogram"
           }
          ],
          "histogram2d": [
           {
            "colorbar": {
             "outlinewidth": 0,
             "ticks": ""
            },
            "colorscale": [
             [
              0,
              "#0d0887"
             ],
             [
              0.1111111111111111,
              "#46039f"
             ],
             [
              0.2222222222222222,
              "#7201a8"
             ],
             [
              0.3333333333333333,
              "#9c179e"
             ],
             [
              0.4444444444444444,
              "#bd3786"
             ],
             [
              0.5555555555555556,
              "#d8576b"
             ],
             [
              0.6666666666666666,
              "#ed7953"
             ],
             [
              0.7777777777777778,
              "#fb9f3a"
             ],
             [
              0.8888888888888888,
              "#fdca26"
             ],
             [
              1,
              "#f0f921"
             ]
            ],
            "type": "histogram2d"
           }
          ],
          "histogram2dcontour": [
           {
            "colorbar": {
             "outlinewidth": 0,
             "ticks": ""
            },
            "colorscale": [
             [
              0,
              "#0d0887"
             ],
             [
              0.1111111111111111,
              "#46039f"
             ],
             [
              0.2222222222222222,
              "#7201a8"
             ],
             [
              0.3333333333333333,
              "#9c179e"
             ],
             [
              0.4444444444444444,
              "#bd3786"
             ],
             [
              0.5555555555555556,
              "#d8576b"
             ],
             [
              0.6666666666666666,
              "#ed7953"
             ],
             [
              0.7777777777777778,
              "#fb9f3a"
             ],
             [
              0.8888888888888888,
              "#fdca26"
             ],
             [
              1,
              "#f0f921"
             ]
            ],
            "type": "histogram2dcontour"
           }
          ],
          "mesh3d": [
           {
            "colorbar": {
             "outlinewidth": 0,
             "ticks": ""
            },
            "type": "mesh3d"
           }
          ],
          "parcoords": [
           {
            "line": {
             "colorbar": {
              "outlinewidth": 0,
              "ticks": ""
             }
            },
            "type": "parcoords"
           }
          ],
          "pie": [
           {
            "automargin": true,
            "type": "pie"
           }
          ],
          "scatter": [
           {
            "marker": {
             "colorbar": {
              "outlinewidth": 0,
              "ticks": ""
             }
            },
            "type": "scatter"
           }
          ],
          "scatter3d": [
           {
            "line": {
             "colorbar": {
              "outlinewidth": 0,
              "ticks": ""
             }
            },
            "marker": {
             "colorbar": {
              "outlinewidth": 0,
              "ticks": ""
             }
            },
            "type": "scatter3d"
           }
          ],
          "scattercarpet": [
           {
            "marker": {
             "colorbar": {
              "outlinewidth": 0,
              "ticks": ""
             }
            },
            "type": "scattercarpet"
           }
          ],
          "scattergeo": [
           {
            "marker": {
             "colorbar": {
              "outlinewidth": 0,
              "ticks": ""
             }
            },
            "type": "scattergeo"
           }
          ],
          "scattergl": [
           {
            "marker": {
             "colorbar": {
              "outlinewidth": 0,
              "ticks": ""
             }
            },
            "type": "scattergl"
           }
          ],
          "scattermapbox": [
           {
            "marker": {
             "colorbar": {
              "outlinewidth": 0,
              "ticks": ""
             }
            },
            "type": "scattermapbox"
           }
          ],
          "scatterpolar": [
           {
            "marker": {
             "colorbar": {
              "outlinewidth": 0,
              "ticks": ""
             }
            },
            "type": "scatterpolar"
           }
          ],
          "scatterpolargl": [
           {
            "marker": {
             "colorbar": {
              "outlinewidth": 0,
              "ticks": ""
             }
            },
            "type": "scatterpolargl"
           }
          ],
          "scatterternary": [
           {
            "marker": {
             "colorbar": {
              "outlinewidth": 0,
              "ticks": ""
             }
            },
            "type": "scatterternary"
           }
          ],
          "surface": [
           {
            "colorbar": {
             "outlinewidth": 0,
             "ticks": ""
            },
            "colorscale": [
             [
              0,
              "#0d0887"
             ],
             [
              0.1111111111111111,
              "#46039f"
             ],
             [
              0.2222222222222222,
              "#7201a8"
             ],
             [
              0.3333333333333333,
              "#9c179e"
             ],
             [
              0.4444444444444444,
              "#bd3786"
             ],
             [
              0.5555555555555556,
              "#d8576b"
             ],
             [
              0.6666666666666666,
              "#ed7953"
             ],
             [
              0.7777777777777778,
              "#fb9f3a"
             ],
             [
              0.8888888888888888,
              "#fdca26"
             ],
             [
              1,
              "#f0f921"
             ]
            ],
            "type": "surface"
           }
          ],
          "table": [
           {
            "cells": {
             "fill": {
              "color": "#EBF0F8"
             },
             "line": {
              "color": "white"
             }
            },
            "header": {
             "fill": {
              "color": "#C8D4E3"
             },
             "line": {
              "color": "white"
             }
            },
            "type": "table"
           }
          ]
         },
         "layout": {
          "annotationdefaults": {
           "arrowcolor": "#2a3f5f",
           "arrowhead": 0,
           "arrowwidth": 1
          },
          "autotypenumbers": "strict",
          "coloraxis": {
           "colorbar": {
            "outlinewidth": 0,
            "ticks": ""
           }
          },
          "colorscale": {
           "diverging": [
            [
             0,
             "#8e0152"
            ],
            [
             0.1,
             "#c51b7d"
            ],
            [
             0.2,
             "#de77ae"
            ],
            [
             0.3,
             "#f1b6da"
            ],
            [
             0.4,
             "#fde0ef"
            ],
            [
             0.5,
             "#f7f7f7"
            ],
            [
             0.6,
             "#e6f5d0"
            ],
            [
             0.7,
             "#b8e186"
            ],
            [
             0.8,
             "#7fbc41"
            ],
            [
             0.9,
             "#4d9221"
            ],
            [
             1,
             "#276419"
            ]
           ],
           "sequential": [
            [
             0,
             "#0d0887"
            ],
            [
             0.1111111111111111,
             "#46039f"
            ],
            [
             0.2222222222222222,
             "#7201a8"
            ],
            [
             0.3333333333333333,
             "#9c179e"
            ],
            [
             0.4444444444444444,
             "#bd3786"
            ],
            [
             0.5555555555555556,
             "#d8576b"
            ],
            [
             0.6666666666666666,
             "#ed7953"
            ],
            [
             0.7777777777777778,
             "#fb9f3a"
            ],
            [
             0.8888888888888888,
             "#fdca26"
            ],
            [
             1,
             "#f0f921"
            ]
           ],
           "sequentialminus": [
            [
             0,
             "#0d0887"
            ],
            [
             0.1111111111111111,
             "#46039f"
            ],
            [
             0.2222222222222222,
             "#7201a8"
            ],
            [
             0.3333333333333333,
             "#9c179e"
            ],
            [
             0.4444444444444444,
             "#bd3786"
            ],
            [
             0.5555555555555556,
             "#d8576b"
            ],
            [
             0.6666666666666666,
             "#ed7953"
            ],
            [
             0.7777777777777778,
             "#fb9f3a"
            ],
            [
             0.8888888888888888,
             "#fdca26"
            ],
            [
             1,
             "#f0f921"
            ]
           ]
          },
          "colorway": [
           "#636efa",
           "#EF553B",
           "#00cc96",
           "#ab63fa",
           "#FFA15A",
           "#19d3f3",
           "#FF6692",
           "#B6E880",
           "#FF97FF",
           "#FECB52"
          ],
          "font": {
           "color": "#2a3f5f"
          },
          "geo": {
           "bgcolor": "white",
           "lakecolor": "white",
           "landcolor": "#E5ECF6",
           "showlakes": true,
           "showland": true,
           "subunitcolor": "white"
          },
          "hoverlabel": {
           "align": "left"
          },
          "hovermode": "closest",
          "mapbox": {
           "style": "light"
          },
          "paper_bgcolor": "white",
          "plot_bgcolor": "#E5ECF6",
          "polar": {
           "angularaxis": {
            "gridcolor": "white",
            "linecolor": "white",
            "ticks": ""
           },
           "bgcolor": "#E5ECF6",
           "radialaxis": {
            "gridcolor": "white",
            "linecolor": "white",
            "ticks": ""
           }
          },
          "scene": {
           "xaxis": {
            "backgroundcolor": "#E5ECF6",
            "gridcolor": "white",
            "gridwidth": 2,
            "linecolor": "white",
            "showbackground": true,
            "ticks": "",
            "zerolinecolor": "white"
           },
           "yaxis": {
            "backgroundcolor": "#E5ECF6",
            "gridcolor": "white",
            "gridwidth": 2,
            "linecolor": "white",
            "showbackground": true,
            "ticks": "",
            "zerolinecolor": "white"
           },
           "zaxis": {
            "backgroundcolor": "#E5ECF6",
            "gridcolor": "white",
            "gridwidth": 2,
            "linecolor": "white",
            "showbackground": true,
            "ticks": "",
            "zerolinecolor": "white"
           }
          },
          "shapedefaults": {
           "line": {
            "color": "#2a3f5f"
           }
          },
          "ternary": {
           "aaxis": {
            "gridcolor": "white",
            "linecolor": "white",
            "ticks": ""
           },
           "baxis": {
            "gridcolor": "white",
            "linecolor": "white",
            "ticks": ""
           },
           "bgcolor": "#E5ECF6",
           "caxis": {
            "gridcolor": "white",
            "linecolor": "white",
            "ticks": ""
           }
          },
          "title": {
           "x": 0.05
          },
          "xaxis": {
           "automargin": true,
           "gridcolor": "white",
           "linecolor": "white",
           "ticks": "",
           "title": {
            "standoff": 15
           },
           "zerolinecolor": "white",
           "zerolinewidth": 2
          },
          "yaxis": {
           "automargin": true,
           "gridcolor": "white",
           "linecolor": "white",
           "ticks": "",
           "title": {
            "standoff": 15
           },
           "zerolinecolor": "white",
           "zerolinewidth": 2
          }
         }
        },
        "xaxis": {
         "anchor": "y",
         "domain": [
          0,
          1
         ],
         "title": {
          "text": "year"
         }
        },
        "yaxis": {
         "anchor": "x",
         "domain": [
          0,
          1
         ],
         "title": {
          "text": "popularity"
         }
        }
       }
      },
      "text/html": [
       "<div>                            <div id=\"3c9115df-4ef8-4d75-97c7-8d5ad1c7d2e8\" class=\"plotly-graph-div\" style=\"height:525px; width:100%;\"></div>            <script type=\"text/javascript\">                require([\"plotly\"], function(Plotly) {                    window.PLOTLYENV=window.PLOTLYENV || {};                                    if (document.getElementById(\"3c9115df-4ef8-4d75-97c7-8d5ad1c7d2e8\")) {                    Plotly.newPlot(                        \"3c9115df-4ef8-4d75-97c7-8d5ad1c7d2e8\",                        [{\"hovertemplate\":\"name=Dreams - 2004 Remaster<br>year=%{x}<br>popularity=%{y}<extra></extra>\",\"legendgroup\":\"Dreams - 2004 Remaster\",\"marker\":{\"color\":\"#636efa\",\"symbol\":\"circle\"},\"mode\":\"markers\",\"name\":\"Dreams - 2004 Remaster\",\"orientation\":\"v\",\"showlegend\":true,\"x\":[1977],\"xaxis\":\"x\",\"y\":[89],\"yaxis\":\"y\",\"type\":\"scatter\"},{\"hovertemplate\":\"name=All I Want for Christmas Is You<br>year=%{x}<br>popularity=%{y}<extra></extra>\",\"legendgroup\":\"All I Want for Christmas Is You\",\"marker\":{\"color\":\"#EF553B\",\"symbol\":\"circle\"},\"mode\":\"markers\",\"name\":\"All I Want for Christmas Is You\",\"orientation\":\"v\",\"showlegend\":true,\"x\":[1994],\"xaxis\":\"x\",\"y\":[88],\"yaxis\":\"y\",\"type\":\"scatter\"},{\"hovertemplate\":\"name=Sweater Weather<br>year=%{x}<br>popularity=%{y}<extra></extra>\",\"legendgroup\":\"Sweater Weather\",\"marker\":{\"color\":\"#00cc96\",\"symbol\":\"circle\"},\"mode\":\"markers\",\"name\":\"Sweater Weather\",\"orientation\":\"v\",\"showlegend\":true,\"x\":[2013],\"xaxis\":\"x\",\"y\":[87],\"yaxis\":\"y\",\"type\":\"scatter\"},{\"hovertemplate\":\"name=All of Me<br>year=%{x}<br>popularity=%{y}<extra></extra>\",\"legendgroup\":\"All of Me\",\"marker\":{\"color\":\"#ab63fa\",\"symbol\":\"circle\"},\"mode\":\"markers\",\"name\":\"All of Me\",\"orientation\":\"v\",\"showlegend\":true,\"x\":[2013],\"xaxis\":\"x\",\"y\":[86],\"yaxis\":\"y\",\"type\":\"scatter\"},{\"hovertemplate\":\"name=Santa Tell Me<br>year=%{x}<br>popularity=%{y}<extra></extra>\",\"legendgroup\":\"Santa Tell Me\",\"marker\":{\"color\":\"#FFA15A\",\"symbol\":\"circle\"},\"mode\":\"markers\",\"name\":\"Santa Tell Me\",\"orientation\":\"v\",\"showlegend\":true,\"x\":[2014],\"xaxis\":\"x\",\"y\":[86],\"yaxis\":\"y\",\"type\":\"scatter\"},{\"hovertemplate\":\"name=Electric Love<br>year=%{x}<br>popularity=%{y}<extra></extra>\",\"legendgroup\":\"Electric Love\",\"marker\":{\"color\":\"#19d3f3\",\"symbol\":\"circle\"},\"mode\":\"markers\",\"name\":\"Electric Love\",\"orientation\":\"v\",\"showlegend\":true,\"x\":[2015],\"xaxis\":\"x\",\"y\":[87],\"yaxis\":\"y\",\"type\":\"scatter\"},{\"hovertemplate\":\"name=Daddy Issues<br>year=%{x}<br>popularity=%{y}<extra></extra>\",\"legendgroup\":\"Daddy Issues\",\"marker\":{\"color\":\"#FF6692\",\"symbol\":\"circle\"},\"mode\":\"markers\",\"name\":\"Daddy Issues\",\"orientation\":\"v\",\"showlegend\":true,\"x\":[2015],\"xaxis\":\"x\",\"y\":[86],\"yaxis\":\"y\",\"type\":\"scatter\"},{\"hovertemplate\":\"name=Train Wreck<br>year=%{x}<br>popularity=%{y}<extra></extra>\",\"legendgroup\":\"Train Wreck\",\"marker\":{\"color\":\"#B6E880\",\"symbol\":\"circle\"},\"mode\":\"markers\",\"name\":\"Train Wreck\",\"orientation\":\"v\",\"showlegend\":true,\"x\":[2016],\"xaxis\":\"x\",\"y\":[88],\"yaxis\":\"y\",\"type\":\"scatter\"},{\"hovertemplate\":\"name=Say You Won't Let Go<br>year=%{x}<br>popularity=%{y}<extra></extra>\",\"legendgroup\":\"Say You Won't Let Go\",\"marker\":{\"color\":\"#FF97FF\",\"symbol\":\"circle\"},\"mode\":\"markers\",\"name\":\"Say You Won't Let Go\",\"orientation\":\"v\",\"showlegend\":true,\"x\":[2016],\"xaxis\":\"x\",\"y\":[86],\"yaxis\":\"y\",\"type\":\"scatter\"},{\"hovertemplate\":\"name=Jocelyn Flores<br>year=%{x}<br>popularity=%{y}<extra></extra>\",\"legendgroup\":\"Jocelyn Flores\",\"marker\":{\"color\":\"#FECB52\",\"symbol\":\"circle\"},\"mode\":\"markers\",\"name\":\"Jocelyn Flores\",\"orientation\":\"v\",\"showlegend\":true,\"x\":[2017],\"xaxis\":\"x\",\"y\":[87],\"yaxis\":\"y\",\"type\":\"scatter\"},{\"hovertemplate\":\"name=Believer<br>year=%{x}<br>popularity=%{y}<extra></extra>\",\"legendgroup\":\"Believer\",\"marker\":{\"color\":\"#636efa\",\"symbol\":\"circle\"},\"mode\":\"markers\",\"name\":\"Believer\",\"orientation\":\"v\",\"showlegend\":true,\"x\":[2017],\"xaxis\":\"x\",\"y\":[87],\"yaxis\":\"y\",\"type\":\"scatter\"},{\"hovertemplate\":\"name=Perfect<br>year=%{x}<br>popularity=%{y}<extra></extra>\",\"legendgroup\":\"Perfect\",\"marker\":{\"color\":\"#EF553B\",\"symbol\":\"circle\"},\"mode\":\"markers\",\"name\":\"Perfect\",\"orientation\":\"v\",\"showlegend\":true,\"x\":[2017],\"xaxis\":\"x\",\"y\":[86],\"yaxis\":\"y\",\"type\":\"scatter\"},{\"hovertemplate\":\"name=All Girls Are The Same<br>year=%{x}<br>popularity=%{y}<extra></extra>\",\"legendgroup\":\"All Girls Are The Same\",\"marker\":{\"color\":\"#00cc96\",\"symbol\":\"circle\"},\"mode\":\"markers\",\"name\":\"All Girls Are The Same\",\"orientation\":\"v\",\"showlegend\":true,\"x\":[2018],\"xaxis\":\"x\",\"y\":[87],\"yaxis\":\"y\",\"type\":\"scatter\"},{\"hovertemplate\":\"name=Lucid Dreams<br>year=%{x}<br>popularity=%{y}<extra></extra>\",\"legendgroup\":\"Lucid Dreams\",\"marker\":{\"color\":\"#ab63fa\",\"symbol\":\"circle\"},\"mode\":\"markers\",\"name\":\"Lucid Dreams\",\"orientation\":\"v\",\"showlegend\":true,\"x\":[2018],\"xaxis\":\"x\",\"y\":[89],\"yaxis\":\"y\",\"type\":\"scatter\"},{\"hovertemplate\":\"name=lovely (with Khalid)<br>year=%{x}<br>popularity=%{y}<extra></extra>\",\"legendgroup\":\"lovely (with Khalid)\",\"marker\":{\"color\":\"#FFA15A\",\"symbol\":\"circle\"},\"mode\":\"markers\",\"name\":\"lovely (with Khalid)\",\"orientation\":\"v\",\"showlegend\":true,\"x\":[2018],\"xaxis\":\"x\",\"y\":[89],\"yaxis\":\"y\",\"type\":\"scatter\"},{\"hovertemplate\":\"name=SAD!<br>year=%{x}<br>popularity=%{y}<extra></extra>\",\"legendgroup\":\"SAD!\",\"marker\":{\"color\":\"#19d3f3\",\"symbol\":\"circle\"},\"mode\":\"markers\",\"name\":\"SAD!\",\"orientation\":\"v\",\"showlegend\":true,\"x\":[2018],\"xaxis\":\"x\",\"y\":[86],\"yaxis\":\"y\",\"type\":\"scatter\"},{\"hovertemplate\":\"name=rockstar (feat. 21 Savage)<br>year=%{x}<br>popularity=%{y}<extra></extra>\",\"legendgroup\":\"rockstar (feat. 21 Savage)\",\"marker\":{\"color\":\"#FF6692\",\"symbol\":\"circle\"},\"mode\":\"markers\",\"name\":\"rockstar (feat. 21 Savage)\",\"orientation\":\"v\",\"showlegend\":true,\"x\":[2018],\"xaxis\":\"x\",\"y\":[86],\"yaxis\":\"y\",\"type\":\"scatter\"},{\"hovertemplate\":\"name=Falling<br>year=%{x}<br>popularity=%{y}<extra></extra>\",\"legendgroup\":\"Falling\",\"marker\":{\"color\":\"#B6E880\",\"symbol\":\"circle\"},\"mode\":\"markers\",\"name\":\"Falling\",\"orientation\":\"v\",\"showlegend\":true,\"x\":[2018,2019],\"xaxis\":\"x\",\"y\":[86,88],\"yaxis\":\"y\",\"type\":\"scatter\"},{\"hovertemplate\":\"name=Sofia<br>year=%{x}<br>popularity=%{y}<extra></extra>\",\"legendgroup\":\"Sofia\",\"marker\":{\"color\":\"#FF97FF\",\"symbol\":\"circle\"},\"mode\":\"markers\",\"name\":\"Sofia\",\"orientation\":\"v\",\"showlegend\":true,\"x\":[2019],\"xaxis\":\"x\",\"y\":[90],\"yaxis\":\"y\",\"type\":\"scatter\"},{\"hovertemplate\":\"name=Watermelon Sugar<br>year=%{x}<br>popularity=%{y}<extra></extra>\",\"legendgroup\":\"Watermelon Sugar\",\"marker\":{\"color\":\"#FECB52\",\"symbol\":\"circle\"},\"mode\":\"markers\",\"name\":\"Watermelon Sugar\",\"orientation\":\"v\",\"showlegend\":true,\"x\":[2019],\"xaxis\":\"x\",\"y\":[94],\"yaxis\":\"y\",\"type\":\"scatter\"},{\"hovertemplate\":\"name=Robbery<br>year=%{x}<br>popularity=%{y}<extra></extra>\",\"legendgroup\":\"Robbery\",\"marker\":{\"color\":\"#636efa\",\"symbol\":\"circle\"},\"mode\":\"markers\",\"name\":\"Robbery\",\"orientation\":\"v\",\"showlegend\":true,\"x\":[2019],\"xaxis\":\"x\",\"y\":[88],\"yaxis\":\"y\",\"type\":\"scatter\"},{\"hovertemplate\":\"name=Circles<br>year=%{x}<br>popularity=%{y}<extra></extra>\",\"legendgroup\":\"Circles\",\"marker\":{\"color\":\"#EF553B\",\"symbol\":\"circle\"},\"mode\":\"markers\",\"name\":\"Circles\",\"orientation\":\"v\",\"showlegend\":true,\"x\":[2019],\"xaxis\":\"x\",\"y\":[89],\"yaxis\":\"y\",\"type\":\"scatter\"},{\"hovertemplate\":\"name=The Box<br>year=%{x}<br>popularity=%{y}<extra></extra>\",\"legendgroup\":\"The Box\",\"marker\":{\"color\":\"#00cc96\",\"symbol\":\"circle\"},\"mode\":\"markers\",\"name\":\"The Box\",\"orientation\":\"v\",\"showlegend\":true,\"x\":[2019],\"xaxis\":\"x\",\"y\":[89],\"yaxis\":\"y\",\"type\":\"scatter\"},{\"hovertemplate\":\"name=Are You Bored Yet? (feat. Clairo)<br>year=%{x}<br>popularity=%{y}<extra></extra>\",\"legendgroup\":\"Are You Bored Yet? (feat. Clairo)\",\"marker\":{\"color\":\"#ab63fa\",\"symbol\":\"circle\"},\"mode\":\"markers\",\"name\":\"Are You Bored Yet? (feat. Clairo)\",\"orientation\":\"v\",\"showlegend\":true,\"x\":[2019],\"xaxis\":\"x\",\"y\":[86],\"yaxis\":\"y\",\"type\":\"scatter\"},{\"hovertemplate\":\"name=Someone You Loved<br>year=%{x}<br>popularity=%{y}<extra></extra>\",\"legendgroup\":\"Someone You Loved\",\"marker\":{\"color\":\"#FFA15A\",\"symbol\":\"circle\"},\"mode\":\"markers\",\"name\":\"Someone You Loved\",\"orientation\":\"v\",\"showlegend\":true,\"x\":[2019],\"xaxis\":\"x\",\"y\":[91],\"yaxis\":\"y\",\"type\":\"scatter\"},{\"hovertemplate\":\"name=If the World Was Ending - feat. Julia Michaels<br>year=%{x}<br>popularity=%{y}<extra></extra>\",\"legendgroup\":\"If the World Was Ending - feat. Julia Michaels\",\"marker\":{\"color\":\"#19d3f3\",\"symbol\":\"circle\"},\"mode\":\"markers\",\"name\":\"If the World Was Ending - feat. Julia Michaels\",\"orientation\":\"v\",\"showlegend\":true,\"x\":[2019],\"xaxis\":\"x\",\"y\":[87],\"yaxis\":\"y\",\"type\":\"scatter\"},{\"hovertemplate\":\"name=HIGHEST IN THE ROOM<br>year=%{x}<br>popularity=%{y}<extra></extra>\",\"legendgroup\":\"HIGHEST IN THE ROOM\",\"marker\":{\"color\":\"#FF6692\",\"symbol\":\"circle\"},\"mode\":\"markers\",\"name\":\"HIGHEST IN THE ROOM\",\"orientation\":\"v\",\"showlegend\":true,\"x\":[2019],\"xaxis\":\"x\",\"y\":[88],\"yaxis\":\"y\",\"type\":\"scatter\"},{\"hovertemplate\":\"name=Golden<br>year=%{x}<br>popularity=%{y}<extra></extra>\",\"legendgroup\":\"Golden\",\"marker\":{\"color\":\"#B6E880\",\"symbol\":\"circle\"},\"mode\":\"markers\",\"name\":\"Golden\",\"orientation\":\"v\",\"showlegend\":true,\"x\":[2019],\"xaxis\":\"x\",\"y\":[89],\"yaxis\":\"y\",\"type\":\"scatter\"},{\"hovertemplate\":\"name=Star Shopping<br>year=%{x}<br>popularity=%{y}<extra></extra>\",\"legendgroup\":\"Star Shopping\",\"marker\":{\"color\":\"#FF97FF\",\"symbol\":\"circle\"},\"mode\":\"markers\",\"name\":\"Star Shopping\",\"orientation\":\"v\",\"showlegend\":true,\"x\":[2019],\"xaxis\":\"x\",\"y\":[86],\"yaxis\":\"y\",\"type\":\"scatter\"},{\"hovertemplate\":\"name=ROXANNE<br>year=%{x}<br>popularity=%{y}<extra></extra>\",\"legendgroup\":\"ROXANNE\",\"marker\":{\"color\":\"#FECB52\",\"symbol\":\"circle\"},\"mode\":\"markers\",\"name\":\"ROXANNE\",\"orientation\":\"v\",\"showlegend\":true,\"x\":[2019],\"xaxis\":\"x\",\"y\":[87],\"yaxis\":\"y\",\"type\":\"scatter\"},{\"hovertemplate\":\"name=Adore You<br>year=%{x}<br>popularity=%{y}<extra></extra>\",\"legendgroup\":\"Adore You\",\"marker\":{\"color\":\"#636efa\",\"symbol\":\"circle\"},\"mode\":\"markers\",\"name\":\"Adore You\",\"orientation\":\"v\",\"showlegend\":true,\"x\":[2019],\"xaxis\":\"x\",\"y\":[88],\"yaxis\":\"y\",\"type\":\"scatter\"},{\"hovertemplate\":\"name=Breaking Me<br>year=%{x}<br>popularity=%{y}<extra></extra>\",\"legendgroup\":\"Breaking Me\",\"marker\":{\"color\":\"#EF553B\",\"symbol\":\"circle\"},\"mode\":\"markers\",\"name\":\"Breaking Me\",\"orientation\":\"v\",\"showlegend\":true,\"x\":[2019],\"xaxis\":\"x\",\"y\":[92],\"yaxis\":\"y\",\"type\":\"scatter\"},{\"hovertemplate\":\"name=everything i wanted<br>year=%{x}<br>popularity=%{y}<extra></extra>\",\"legendgroup\":\"everything i wanted\",\"marker\":{\"color\":\"#00cc96\",\"symbol\":\"circle\"},\"mode\":\"markers\",\"name\":\"everything i wanted\",\"orientation\":\"v\",\"showlegend\":true,\"x\":[2019],\"xaxis\":\"x\",\"y\":[87],\"yaxis\":\"y\",\"type\":\"scatter\"},{\"hovertemplate\":\"name=bad guy<br>year=%{x}<br>popularity=%{y}<extra></extra>\",\"legendgroup\":\"bad guy\",\"marker\":{\"color\":\"#ab63fa\",\"symbol\":\"circle\"},\"mode\":\"markers\",\"name\":\"bad guy\",\"orientation\":\"v\",\"showlegend\":true,\"x\":[2019],\"xaxis\":\"x\",\"y\":[88],\"yaxis\":\"y\",\"type\":\"scatter\"},{\"hovertemplate\":\"name=when the party's over<br>year=%{x}<br>popularity=%{y}<extra></extra>\",\"legendgroup\":\"when the party's over\",\"marker\":{\"color\":\"#FFA15A\",\"symbol\":\"circle\"},\"mode\":\"markers\",\"name\":\"when the party's over\",\"orientation\":\"v\",\"showlegend\":true,\"x\":[2019],\"xaxis\":\"x\",\"y\":[86],\"yaxis\":\"y\",\"type\":\"scatter\"},{\"hovertemplate\":\"name=Still Don't Know My Name<br>year=%{x}<br>popularity=%{y}<extra></extra>\",\"legendgroup\":\"Still Don't Know My Name\",\"marker\":{\"color\":\"#19d3f3\",\"symbol\":\"circle\"},\"mode\":\"markers\",\"name\":\"Still Don't Know My Name\",\"orientation\":\"v\",\"showlegend\":true,\"x\":[2019],\"xaxis\":\"x\",\"y\":[86],\"yaxis\":\"y\",\"type\":\"scatter\"},{\"hovertemplate\":\"name=Dance Monkey<br>year=%{x}<br>popularity=%{y}<extra></extra>\",\"legendgroup\":\"Dance Monkey\",\"marker\":{\"color\":\"#FF6692\",\"symbol\":\"circle\"},\"mode\":\"markers\",\"name\":\"Dance Monkey\",\"orientation\":\"v\",\"showlegend\":true,\"x\":[2019],\"xaxis\":\"x\",\"y\":[89],\"yaxis\":\"y\",\"type\":\"scatter\"},{\"hovertemplate\":\"name=7 rings<br>year=%{x}<br>popularity=%{y}<extra></extra>\",\"legendgroup\":\"7 rings\",\"marker\":{\"color\":\"#B6E880\",\"symbol\":\"circle\"},\"mode\":\"markers\",\"name\":\"7 rings\",\"orientation\":\"v\",\"showlegend\":true,\"x\":[2019],\"xaxis\":\"x\",\"y\":[87],\"yaxis\":\"y\",\"type\":\"scatter\"},{\"hovertemplate\":\"name=Memories<br>year=%{x}<br>popularity=%{y}<extra></extra>\",\"legendgroup\":\"Memories\",\"marker\":{\"color\":\"#FF97FF\",\"symbol\":\"circle\"},\"mode\":\"markers\",\"name\":\"Memories\",\"orientation\":\"v\",\"showlegend\":true,\"x\":[2019],\"xaxis\":\"x\",\"y\":[89],\"yaxis\":\"y\",\"type\":\"scatter\"},{\"hovertemplate\":\"name=Before You Go<br>year=%{x}<br>popularity=%{y}<extra></extra>\",\"legendgroup\":\"Before You Go\",\"marker\":{\"color\":\"#FECB52\",\"symbol\":\"circle\"},\"mode\":\"markers\",\"name\":\"Before You Go\",\"orientation\":\"v\",\"showlegend\":true,\"x\":[2019,2019],\"xaxis\":\"x\",\"y\":[86,86],\"yaxis\":\"y\",\"type\":\"scatter\"},{\"hovertemplate\":\"name=ily (i love you baby) (feat. Emilee)<br>year=%{x}<br>popularity=%{y}<extra></extra>\",\"legendgroup\":\"ily (i love you baby) (feat. Emilee)\",\"marker\":{\"color\":\"#636efa\",\"symbol\":\"circle\"},\"mode\":\"markers\",\"name\":\"ily (i love you baby) (feat. Emilee)\",\"orientation\":\"v\",\"showlegend\":true,\"x\":[2019],\"xaxis\":\"x\",\"y\":[88],\"yaxis\":\"y\",\"type\":\"scatter\"},{\"hovertemplate\":\"name=Say So<br>year=%{x}<br>popularity=%{y}<extra></extra>\",\"legendgroup\":\"Say So\",\"marker\":{\"color\":\"#EF553B\",\"symbol\":\"circle\"},\"mode\":\"markers\",\"name\":\"Say So\",\"orientation\":\"v\",\"showlegend\":true,\"x\":[2019],\"xaxis\":\"x\",\"y\":[86],\"yaxis\":\"y\",\"type\":\"scatter\"},{\"hovertemplate\":\"name=Don't Start Now<br>year=%{x}<br>popularity=%{y}<extra></extra>\",\"legendgroup\":\"Don't Start Now\",\"marker\":{\"color\":\"#00cc96\",\"symbol\":\"circle\"},\"mode\":\"markers\",\"name\":\"Don't Start Now\",\"orientation\":\"v\",\"showlegend\":true,\"x\":[2019],\"xaxis\":\"x\",\"y\":[86],\"yaxis\":\"y\",\"type\":\"scatter\"},{\"hovertemplate\":\"name=Tusa<br>year=%{x}<br>popularity=%{y}<extra></extra>\",\"legendgroup\":\"Tusa\",\"marker\":{\"color\":\"#ab63fa\",\"symbol\":\"circle\"},\"mode\":\"markers\",\"name\":\"Tusa\",\"orientation\":\"v\",\"showlegend\":true,\"x\":[2019],\"xaxis\":\"x\",\"y\":[88],\"yaxis\":\"y\",\"type\":\"scatter\"},{\"hovertemplate\":\"name=Ride It<br>year=%{x}<br>popularity=%{y}<extra></extra>\",\"legendgroup\":\"Ride It\",\"marker\":{\"color\":\"#FFA15A\",\"symbol\":\"circle\"},\"mode\":\"markers\",\"name\":\"Ride It\",\"orientation\":\"v\",\"showlegend\":true,\"x\":[2019],\"xaxis\":\"x\",\"y\":[87],\"yaxis\":\"y\",\"type\":\"scatter\"},{\"hovertemplate\":\"name=Mood (feat. iann dior)<br>year=%{x}<br>popularity=%{y}<extra></extra>\",\"legendgroup\":\"Mood (feat. iann dior)\",\"marker\":{\"color\":\"#19d3f3\",\"symbol\":\"circle\"},\"mode\":\"markers\",\"name\":\"Mood (feat. iann dior)\",\"orientation\":\"v\",\"showlegend\":true,\"x\":[2020],\"xaxis\":\"x\",\"y\":[99],\"yaxis\":\"y\",\"type\":\"scatter\"},{\"hovertemplate\":\"name=For The Night (feat. Lil Baby & DaBaby)<br>year=%{x}<br>popularity=%{y}<extra></extra>\",\"legendgroup\":\"For The Night (feat. Lil Baby & DaBaby)\",\"marker\":{\"color\":\"#FF6692\",\"symbol\":\"circle\"},\"mode\":\"markers\",\"name\":\"For The Night (feat. Lil Baby & DaBaby)\",\"orientation\":\"v\",\"showlegend\":true,\"x\":[2020],\"xaxis\":\"x\",\"y\":[95],\"yaxis\":\"y\",\"type\":\"scatter\"},{\"hovertemplate\":\"name=WAP (feat. Megan Thee Stallion)<br>year=%{x}<br>popularity=%{y}<extra></extra>\",\"legendgroup\":\"WAP (feat. Megan Thee Stallion)\",\"marker\":{\"color\":\"#B6E880\",\"symbol\":\"circle\"},\"mode\":\"markers\",\"name\":\"WAP (feat. Megan Thee Stallion)\",\"orientation\":\"v\",\"showlegend\":true,\"x\":[2020],\"xaxis\":\"x\",\"y\":[96],\"yaxis\":\"y\",\"type\":\"scatter\"},{\"hovertemplate\":\"name=Laugh Now Cry Later (feat. Lil Durk)<br>year=%{x}<br>popularity=%{y}<extra></extra>\",\"legendgroup\":\"Laugh Now Cry Later (feat. Lil Durk)\",\"marker\":{\"color\":\"#FF97FF\",\"symbol\":\"circle\"},\"mode\":\"markers\",\"name\":\"Laugh Now Cry Later (feat. Lil Durk)\",\"orientation\":\"v\",\"showlegend\":true,\"x\":[2020],\"xaxis\":\"x\",\"y\":[93],\"yaxis\":\"y\",\"type\":\"scatter\"},{\"hovertemplate\":\"name=positions<br>year=%{x}<br>popularity=%{y}<extra></extra>\",\"legendgroup\":\"positions\",\"marker\":{\"color\":\"#FECB52\",\"symbol\":\"circle\"},\"mode\":\"markers\",\"name\":\"positions\",\"orientation\":\"v\",\"showlegend\":true,\"x\":[2020],\"xaxis\":\"x\",\"y\":[96],\"yaxis\":\"y\",\"type\":\"scatter\"},{\"hovertemplate\":\"name=Dakiti<br>year=%{x}<br>popularity=%{y}<extra></extra>\",\"legendgroup\":\"Dakiti\",\"marker\":{\"color\":\"#636efa\",\"symbol\":\"circle\"},\"mode\":\"markers\",\"name\":\"Dakiti\",\"orientation\":\"v\",\"showlegend\":true,\"x\":[2020],\"xaxis\":\"x\",\"y\":[100],\"yaxis\":\"y\",\"type\":\"scatter\"},{\"hovertemplate\":\"name=What You Know Bout Love<br>year=%{x}<br>popularity=%{y}<extra></extra>\",\"legendgroup\":\"What You Know Bout Love\",\"marker\":{\"color\":\"#EF553B\",\"symbol\":\"circle\"},\"mode\":\"markers\",\"name\":\"What You Know Bout Love\",\"orientation\":\"v\",\"showlegend\":true,\"x\":[2020],\"xaxis\":\"x\",\"y\":[96],\"yaxis\":\"y\",\"type\":\"scatter\"},{\"hovertemplate\":\"name=Lemonade<br>year=%{x}<br>popularity=%{y}<extra></extra>\",\"legendgroup\":\"Lemonade\",\"marker\":{\"color\":\"#00cc96\",\"symbol\":\"circle\"},\"mode\":\"markers\",\"name\":\"Lemonade\",\"orientation\":\"v\",\"showlegend\":true,\"x\":[2020],\"xaxis\":\"x\",\"y\":[94],\"yaxis\":\"y\",\"type\":\"scatter\"},{\"hovertemplate\":\"name=34+35<br>year=%{x}<br>popularity=%{y}<extra></extra>\",\"legendgroup\":\"34+35\",\"marker\":{\"color\":\"#ab63fa\",\"symbol\":\"circle\"},\"mode\":\"markers\",\"name\":\"34+35\",\"orientation\":\"v\",\"showlegend\":true,\"x\":[2020],\"xaxis\":\"x\",\"y\":[92],\"yaxis\":\"y\",\"type\":\"scatter\"},{\"hovertemplate\":\"name=Holy (feat. Chance The Rapper)<br>year=%{x}<br>popularity=%{y}<extra></extra>\",\"legendgroup\":\"Holy (feat. Chance The Rapper)\",\"marker\":{\"color\":\"#FFA15A\",\"symbol\":\"circle\"},\"mode\":\"markers\",\"name\":\"Holy (feat. Chance The Rapper)\",\"orientation\":\"v\",\"showlegend\":true,\"x\":[2020],\"xaxis\":\"x\",\"y\":[95],\"yaxis\":\"y\",\"type\":\"scatter\"},{\"hovertemplate\":\"name=Blinding Lights<br>year=%{x}<br>popularity=%{y}<extra></extra>\",\"legendgroup\":\"Blinding Lights\",\"marker\":{\"color\":\"#19d3f3\",\"symbol\":\"circle\"},\"mode\":\"markers\",\"name\":\"Blinding Lights\",\"orientation\":\"v\",\"showlegend\":true,\"x\":[2020],\"xaxis\":\"x\",\"y\":[96],\"yaxis\":\"y\",\"type\":\"scatter\"},{\"hovertemplate\":\"name=Wishing Well<br>year=%{x}<br>popularity=%{y}<extra></extra>\",\"legendgroup\":\"Wishing Well\",\"marker\":{\"color\":\"#FF6692\",\"symbol\":\"circle\"},\"mode\":\"markers\",\"name\":\"Wishing Well\",\"orientation\":\"v\",\"showlegend\":true,\"x\":[2020],\"xaxis\":\"x\",\"y\":[90],\"yaxis\":\"y\",\"type\":\"scatter\"},{\"hovertemplate\":\"name=Dynamite<br>year=%{x}<br>popularity=%{y}<extra></extra>\",\"legendgroup\":\"Dynamite\",\"marker\":{\"color\":\"#B6E880\",\"symbol\":\"circle\"},\"mode\":\"markers\",\"name\":\"Dynamite\",\"orientation\":\"v\",\"showlegend\":true,\"x\":[2020],\"xaxis\":\"x\",\"y\":[97],\"yaxis\":\"y\",\"type\":\"scatter\"},{\"hovertemplate\":\"name=Heather<br>year=%{x}<br>popularity=%{y}<extra></extra>\",\"legendgroup\":\"Heather\",\"marker\":{\"color\":\"#FF97FF\",\"symbol\":\"circle\"},\"mode\":\"markers\",\"name\":\"Heather\",\"orientation\":\"v\",\"showlegend\":true,\"x\":[2020],\"xaxis\":\"x\",\"y\":[93],\"yaxis\":\"y\",\"type\":\"scatter\"},{\"hovertemplate\":\"name=Lonely (with benny blanco)<br>year=%{x}<br>popularity=%{y}<extra></extra>\",\"legendgroup\":\"Lonely (with benny blanco)\",\"marker\":{\"color\":\"#FECB52\",\"symbol\":\"circle\"},\"mode\":\"markers\",\"name\":\"Lonely (with benny blanco)\",\"orientation\":\"v\",\"showlegend\":true,\"x\":[2020],\"xaxis\":\"x\",\"y\":[95],\"yaxis\":\"y\",\"type\":\"scatter\"},{\"hovertemplate\":\"name=Put Your Records On<br>year=%{x}<br>popularity=%{y}<extra></extra>\",\"legendgroup\":\"Put Your Records On\",\"marker\":{\"color\":\"#636efa\",\"symbol\":\"circle\"},\"mode\":\"markers\",\"name\":\"Put Your Records On\",\"orientation\":\"v\",\"showlegend\":true,\"x\":[2020],\"xaxis\":\"x\",\"y\":[93],\"yaxis\":\"y\",\"type\":\"scatter\"},{\"hovertemplate\":\"name=Come & Go (with Marshmello)<br>year=%{x}<br>popularity=%{y}<extra></extra>\",\"legendgroup\":\"Come & Go (with Marshmello)\",\"marker\":{\"color\":\"#EF553B\",\"symbol\":\"circle\"},\"mode\":\"markers\",\"name\":\"Come & Go (with Marshmello)\",\"orientation\":\"v\",\"showlegend\":true,\"x\":[2020],\"xaxis\":\"x\",\"y\":[90],\"yaxis\":\"y\",\"type\":\"scatter\"},{\"hovertemplate\":\"name=you broke me first<br>year=%{x}<br>popularity=%{y}<extra></extra>\",\"legendgroup\":\"you broke me first\",\"marker\":{\"color\":\"#00cc96\",\"symbol\":\"circle\"},\"mode\":\"markers\",\"name\":\"you broke me first\",\"orientation\":\"v\",\"showlegend\":true,\"x\":[2020],\"xaxis\":\"x\",\"y\":[95],\"yaxis\":\"y\",\"type\":\"scatter\"},{\"hovertemplate\":\"name=Therefore I Am<br>year=%{x}<br>popularity=%{y}<extra></extra>\",\"legendgroup\":\"Therefore I Am\",\"marker\":{\"color\":\"#ab63fa\",\"symbol\":\"circle\"},\"mode\":\"markers\",\"name\":\"Therefore I Am\",\"orientation\":\"v\",\"showlegend\":true,\"x\":[2020],\"xaxis\":\"x\",\"y\":[93],\"yaxis\":\"y\",\"type\":\"scatter\"},{\"hovertemplate\":\"name=Tyler Herro<br>year=%{x}<br>popularity=%{y}<extra></extra>\",\"legendgroup\":\"Tyler Herro\",\"marker\":{\"color\":\"#FFA15A\",\"symbol\":\"circle\"},\"mode\":\"markers\",\"name\":\"Tyler Herro\",\"orientation\":\"v\",\"showlegend\":true,\"x\":[2020],\"xaxis\":\"x\",\"y\":[88],\"yaxis\":\"y\",\"type\":\"scatter\"},{\"hovertemplate\":\"name=WHATS POPPIN (feat. DaBaby, Tory Lanez & Lil Wayne) - Remix<br>year=%{x}<br>popularity=%{y}<extra></extra>\",\"legendgroup\":\"WHATS POPPIN (feat. DaBaby, Tory Lanez & Lil Wayne) - Remix\",\"marker\":{\"color\":\"#19d3f3\",\"symbol\":\"circle\"},\"mode\":\"markers\",\"name\":\"WHATS POPPIN (feat. DaBaby, Tory Lanez & Lil Wayne) - Remix\",\"orientation\":\"v\",\"showlegend\":true,\"x\":[2020],\"xaxis\":\"x\",\"y\":[88],\"yaxis\":\"y\",\"type\":\"scatter\"},{\"hovertemplate\":\"name=Forever After All<br>year=%{x}<br>popularity=%{y}<extra></extra>\",\"legendgroup\":\"Forever After All\",\"marker\":{\"color\":\"#FF6692\",\"symbol\":\"circle\"},\"mode\":\"markers\",\"name\":\"Forever After All\",\"orientation\":\"v\",\"showlegend\":true,\"x\":[2020],\"xaxis\":\"x\",\"y\":[86],\"yaxis\":\"y\",\"type\":\"scatter\"},{\"hovertemplate\":\"name=POPSTAR (feat. Drake)<br>year=%{x}<br>popularity=%{y}<extra></extra>\",\"legendgroup\":\"POPSTAR (feat. Drake)\",\"marker\":{\"color\":\"#B6E880\",\"symbol\":\"circle\"},\"mode\":\"markers\",\"name\":\"POPSTAR (feat. Drake)\",\"orientation\":\"v\",\"showlegend\":true,\"x\":[2020],\"xaxis\":\"x\",\"y\":[91],\"yaxis\":\"y\",\"type\":\"scatter\"},{\"hovertemplate\":\"name=Martin & Gina<br>year=%{x}<br>popularity=%{y}<extra></extra>\",\"legendgroup\":\"Martin & Gina\",\"marker\":{\"color\":\"#FF97FF\",\"symbol\":\"circle\"},\"mode\":\"markers\",\"name\":\"Martin & Gina\",\"orientation\":\"v\",\"showlegend\":true,\"x\":[2020],\"xaxis\":\"x\",\"y\":[87],\"yaxis\":\"y\",\"type\":\"scatter\"},{\"hovertemplate\":\"name=pov<br>year=%{x}<br>popularity=%{y}<extra></extra>\",\"legendgroup\":\"pov\",\"marker\":{\"color\":\"#FECB52\",\"symbol\":\"circle\"},\"mode\":\"markers\",\"name\":\"pov\",\"orientation\":\"v\",\"showlegend\":true,\"x\":[2020],\"xaxis\":\"x\",\"y\":[89],\"yaxis\":\"y\",\"type\":\"scatter\"},{\"hovertemplate\":\"name=Runnin<br>year=%{x}<br>popularity=%{y}<extra></extra>\",\"legendgroup\":\"Runnin\",\"marker\":{\"color\":\"#636efa\",\"symbol\":\"circle\"},\"mode\":\"markers\",\"name\":\"Runnin\",\"orientation\":\"v\",\"showlegend\":true,\"x\":[2020],\"xaxis\":\"x\",\"y\":[86],\"yaxis\":\"y\",\"type\":\"scatter\"},{\"hovertemplate\":\"name=Mr. Right Now (feat. Drake)<br>year=%{x}<br>popularity=%{y}<extra></extra>\",\"legendgroup\":\"Mr. Right Now (feat. Drake)\",\"marker\":{\"color\":\"#EF553B\",\"symbol\":\"circle\"},\"mode\":\"markers\",\"name\":\"Mr. Right Now (feat. Drake)\",\"orientation\":\"v\",\"showlegend\":true,\"x\":[2020],\"xaxis\":\"x\",\"y\":[86],\"yaxis\":\"y\",\"type\":\"scatter\"},{\"hovertemplate\":\"name=Wonder<br>year=%{x}<br>popularity=%{y}<extra></extra>\",\"legendgroup\":\"Wonder\",\"marker\":{\"color\":\"#00cc96\",\"symbol\":\"circle\"},\"mode\":\"markers\",\"name\":\"Wonder\",\"orientation\":\"v\",\"showlegend\":true,\"x\":[2020],\"xaxis\":\"x\",\"y\":[92],\"yaxis\":\"y\",\"type\":\"scatter\"},{\"hovertemplate\":\"name=Be Like That - feat. Swae Lee & Khalid<br>year=%{x}<br>popularity=%{y}<extra></extra>\",\"legendgroup\":\"Be Like That - feat. Swae Lee & Khalid\",\"marker\":{\"color\":\"#ab63fa\",\"symbol\":\"circle\"},\"mode\":\"markers\",\"name\":\"Be Like That - feat. Swae Lee & Khalid\",\"orientation\":\"v\",\"showlegend\":true,\"x\":[2020],\"xaxis\":\"x\",\"y\":[87],\"yaxis\":\"y\",\"type\":\"scatter\"},{\"hovertemplate\":\"name=my ex's best friend (with blackbear)<br>year=%{x}<br>popularity=%{y}<extra></extra>\",\"legendgroup\":\"my ex's best friend (with blackbear)\",\"marker\":{\"color\":\"#FFA15A\",\"symbol\":\"circle\"},\"mode\":\"markers\",\"name\":\"my ex's best friend (with blackbear)\",\"orientation\":\"v\",\"showlegend\":true,\"x\":[2020],\"xaxis\":\"x\",\"y\":[88],\"yaxis\":\"y\",\"type\":\"scatter\"},{\"hovertemplate\":\"name=Mood Swings (feat. Lil Tjay)<br>year=%{x}<br>popularity=%{y}<extra></extra>\",\"legendgroup\":\"Mood Swings (feat. Lil Tjay)\",\"marker\":{\"color\":\"#19d3f3\",\"symbol\":\"circle\"},\"mode\":\"markers\",\"name\":\"Mood Swings (feat. Lil Tjay)\",\"orientation\":\"v\",\"showlegend\":true,\"x\":[2020],\"xaxis\":\"x\",\"y\":[90],\"yaxis\":\"y\",\"type\":\"scatter\"},{\"hovertemplate\":\"name=motive (with Doja Cat)<br>year=%{x}<br>popularity=%{y}<extra></extra>\",\"legendgroup\":\"motive (with Doja Cat)\",\"marker\":{\"color\":\"#FF6692\",\"symbol\":\"circle\"},\"mode\":\"markers\",\"name\":\"motive (with Doja Cat)\",\"orientation\":\"v\",\"showlegend\":true,\"x\":[2020],\"xaxis\":\"x\",\"y\":[88],\"yaxis\":\"y\",\"type\":\"scatter\"},{\"hovertemplate\":\"name=Daisy<br>year=%{x}<br>popularity=%{y}<extra></extra>\",\"legendgroup\":\"Daisy\",\"marker\":{\"color\":\"#B6E880\",\"symbol\":\"circle\"},\"mode\":\"markers\",\"name\":\"Daisy\",\"orientation\":\"v\",\"showlegend\":true,\"x\":[2020],\"xaxis\":\"x\",\"y\":[90],\"yaxis\":\"y\",\"type\":\"scatter\"},{\"hovertemplate\":\"name=Lemonade (feat. Gunna, Don Toliver & NAV)<br>year=%{x}<br>popularity=%{y}<extra></extra>\",\"legendgroup\":\"Lemonade (feat. Gunna, Don Toliver & NAV)\",\"marker\":{\"color\":\"#FF97FF\",\"symbol\":\"circle\"},\"mode\":\"markers\",\"name\":\"Lemonade (feat. Gunna, Don Toliver & NAV)\",\"orientation\":\"v\",\"showlegend\":true,\"x\":[2020],\"xaxis\":\"x\",\"y\":[90],\"yaxis\":\"y\",\"type\":\"scatter\"},{\"hovertemplate\":\"name=Go Crazy<br>year=%{x}<br>popularity=%{y}<extra></extra>\",\"legendgroup\":\"Go Crazy\",\"marker\":{\"color\":\"#FECB52\",\"symbol\":\"circle\"},\"mode\":\"markers\",\"name\":\"Go Crazy\",\"orientation\":\"v\",\"showlegend\":true,\"x\":[2020],\"xaxis\":\"x\",\"y\":[89],\"yaxis\":\"y\",\"type\":\"scatter\"},{\"hovertemplate\":\"name=Levitating (feat. DaBaby)<br>year=%{x}<br>popularity=%{y}<extra></extra>\",\"legendgroup\":\"Levitating (feat. DaBaby)\",\"marker\":{\"color\":\"#636efa\",\"symbol\":\"circle\"},\"mode\":\"markers\",\"name\":\"Levitating (feat. DaBaby)\",\"orientation\":\"v\",\"showlegend\":true,\"x\":[2020],\"xaxis\":\"x\",\"y\":[89],\"yaxis\":\"y\",\"type\":\"scatter\"},{\"hovertemplate\":\"name=Midnight Sky<br>year=%{x}<br>popularity=%{y}<extra></extra>\",\"legendgroup\":\"Midnight Sky\",\"marker\":{\"color\":\"#EF553B\",\"symbol\":\"circle\"},\"mode\":\"markers\",\"name\":\"Midnight Sky\",\"orientation\":\"v\",\"showlegend\":true,\"x\":[2020],\"xaxis\":\"x\",\"y\":[91],\"yaxis\":\"y\",\"type\":\"scatter\"},{\"hovertemplate\":\"name=E-GIRLS ARE RUINING MY LIFE!<br>year=%{x}<br>popularity=%{y}<extra></extra>\",\"legendgroup\":\"E-GIRLS ARE RUINING MY LIFE!\",\"marker\":{\"color\":\"#00cc96\",\"symbol\":\"circle\"},\"mode\":\"markers\",\"name\":\"E-GIRLS ARE RUINING MY LIFE!\",\"orientation\":\"v\",\"showlegend\":true,\"x\":[2020],\"xaxis\":\"x\",\"y\":[86],\"yaxis\":\"y\",\"type\":\"scatter\"},{\"hovertemplate\":\"name=death bed (coffee for your head)<br>year=%{x}<br>popularity=%{y}<extra></extra>\",\"legendgroup\":\"death bed (coffee for your head)\",\"marker\":{\"color\":\"#ab63fa\",\"symbol\":\"circle\"},\"mode\":\"markers\",\"name\":\"death bed (coffee for your head)\",\"orientation\":\"v\",\"showlegend\":true,\"x\":[2020],\"xaxis\":\"x\",\"y\":[90],\"yaxis\":\"y\",\"type\":\"scatter\"},{\"hovertemplate\":\"name=Haw\\u00e1i - Remix<br>year=%{x}<br>popularity=%{y}<extra></extra>\",\"legendgroup\":\"Haw\\u00e1i - Remix\",\"marker\":{\"color\":\"#FFA15A\",\"symbol\":\"circle\"},\"mode\":\"markers\",\"name\":\"Haw\\u00e1i - Remix\",\"orientation\":\"v\",\"showlegend\":true,\"x\":[2020],\"xaxis\":\"x\",\"y\":[90],\"yaxis\":\"y\",\"type\":\"scatter\"},{\"hovertemplate\":\"name=SO DONE<br>year=%{x}<br>popularity=%{y}<extra></extra>\",\"legendgroup\":\"SO DONE\",\"marker\":{\"color\":\"#19d3f3\",\"symbol\":\"circle\"},\"mode\":\"markers\",\"name\":\"SO DONE\",\"orientation\":\"v\",\"showlegend\":true,\"x\":[2020],\"xaxis\":\"x\",\"y\":[87],\"yaxis\":\"y\",\"type\":\"scatter\"},{\"hovertemplate\":\"name=After Party<br>year=%{x}<br>popularity=%{y}<extra></extra>\",\"legendgroup\":\"After Party\",\"marker\":{\"color\":\"#FF6692\",\"symbol\":\"circle\"},\"mode\":\"markers\",\"name\":\"After Party\",\"orientation\":\"v\",\"showlegend\":true,\"x\":[2020],\"xaxis\":\"x\",\"y\":[86],\"yaxis\":\"y\",\"type\":\"scatter\"},{\"hovertemplate\":\"name=The Woo (feat. 50 Cent & Roddy Ricch)<br>year=%{x}<br>popularity=%{y}<extra></extra>\",\"legendgroup\":\"The Woo (feat. 50 Cent & Roddy Ricch)\",\"marker\":{\"color\":\"#B6E880\",\"symbol\":\"circle\"},\"mode\":\"markers\",\"name\":\"The Woo (feat. 50 Cent & Roddy Ricch)\",\"orientation\":\"v\",\"showlegend\":true,\"x\":[2020],\"xaxis\":\"x\",\"y\":[87],\"yaxis\":\"y\",\"type\":\"scatter\"},{\"hovertemplate\":\"name=Head & Heart (feat. MNEK)<br>year=%{x}<br>popularity=%{y}<extra></extra>\",\"legendgroup\":\"Head & Heart (feat. MNEK)\",\"marker\":{\"color\":\"#FF97FF\",\"symbol\":\"circle\"},\"mode\":\"markers\",\"name\":\"Head & Heart (feat. MNEK)\",\"orientation\":\"v\",\"showlegend\":true,\"x\":[2020],\"xaxis\":\"x\",\"y\":[94],\"yaxis\":\"y\",\"type\":\"scatter\"},{\"hovertemplate\":\"name=hot girl bummer<br>year=%{x}<br>popularity=%{y}<extra></extra>\",\"legendgroup\":\"hot girl bummer\",\"marker\":{\"color\":\"#FECB52\",\"symbol\":\"circle\"},\"mode\":\"markers\",\"name\":\"hot girl bummer\",\"orientation\":\"v\",\"showlegend\":true,\"x\":[2020],\"xaxis\":\"x\",\"y\":[86],\"yaxis\":\"y\",\"type\":\"scatter\"},{\"hovertemplate\":\"name=Savage Love (Laxed - Siren Beat)<br>year=%{x}<br>popularity=%{y}<extra></extra>\",\"legendgroup\":\"Savage Love (Laxed - Siren Beat)\",\"marker\":{\"color\":\"#636efa\",\"symbol\":\"circle\"},\"mode\":\"markers\",\"name\":\"Savage Love (Laxed - Siren Beat)\",\"orientation\":\"v\",\"showlegend\":true,\"x\":[2020],\"xaxis\":\"x\",\"y\":[91],\"yaxis\":\"y\",\"type\":\"scatter\"},{\"hovertemplate\":\"name=Life Goes On<br>year=%{x}<br>popularity=%{y}<extra></extra>\",\"legendgroup\":\"Life Goes On\",\"marker\":{\"color\":\"#EF553B\",\"symbol\":\"circle\"},\"mode\":\"markers\",\"name\":\"Life Goes On\",\"orientation\":\"v\",\"showlegend\":true,\"x\":[2020],\"xaxis\":\"x\",\"y\":[90],\"yaxis\":\"y\",\"type\":\"scatter\"},{\"hovertemplate\":\"name=Take You Dancing<br>year=%{x}<br>popularity=%{y}<extra></extra>\",\"legendgroup\":\"Take You Dancing\",\"marker\":{\"color\":\"#00cc96\",\"symbol\":\"circle\"},\"mode\":\"markers\",\"name\":\"Take You Dancing\",\"orientation\":\"v\",\"showlegend\":true,\"x\":[2020],\"xaxis\":\"x\",\"y\":[92],\"yaxis\":\"y\",\"type\":\"scatter\"},{\"hovertemplate\":\"name=UN DIA (ONE DAY) (Feat. Tainy)<br>year=%{x}<br>popularity=%{y}<extra></extra>\",\"legendgroup\":\"UN DIA (ONE DAY) (Feat. Tainy)\",\"marker\":{\"color\":\"#ab63fa\",\"symbol\":\"circle\"},\"mode\":\"markers\",\"name\":\"UN DIA (ONE DAY) (Feat. Tainy)\",\"orientation\":\"v\",\"showlegend\":true,\"x\":[2020],\"xaxis\":\"x\",\"y\":[92],\"yaxis\":\"y\",\"type\":\"scatter\"},{\"hovertemplate\":\"name=GREECE (feat. Drake)<br>year=%{x}<br>popularity=%{y}<extra></extra>\",\"legendgroup\":\"GREECE (feat. Drake)\",\"marker\":{\"color\":\"#FFA15A\",\"symbol\":\"circle\"},\"mode\":\"markers\",\"name\":\"GREECE (feat. Drake)\",\"orientation\":\"v\",\"showlegend\":true,\"x\":[2020],\"xaxis\":\"x\",\"y\":[87],\"yaxis\":\"y\",\"type\":\"scatter\"},{\"hovertemplate\":\"name=Stuck with U (with Justin Bieber)<br>year=%{x}<br>popularity=%{y}<extra></extra>\",\"legendgroup\":\"Stuck with U (with Justin Bieber)\",\"marker\":{\"color\":\"#19d3f3\",\"symbol\":\"circle\"},\"mode\":\"markers\",\"name\":\"Stuck with U (with Justin Bieber)\",\"orientation\":\"v\",\"showlegend\":true,\"x\":[2020],\"xaxis\":\"x\",\"y\":[89],\"yaxis\":\"y\",\"type\":\"scatter\"},{\"hovertemplate\":\"name=Godzilla (feat. Juice WRLD)<br>year=%{x}<br>popularity=%{y}<extra></extra>\",\"legendgroup\":\"Godzilla (feat. Juice WRLD)\",\"marker\":{\"color\":\"#FF6692\",\"symbol\":\"circle\"},\"mode\":\"markers\",\"name\":\"Godzilla (feat. Juice WRLD)\",\"orientation\":\"v\",\"showlegend\":true,\"x\":[2020],\"xaxis\":\"x\",\"y\":[86],\"yaxis\":\"y\",\"type\":\"scatter\"},{\"hovertemplate\":\"name=Mad at Disney<br>year=%{x}<br>popularity=%{y}<extra></extra>\",\"legendgroup\":\"Mad at Disney\",\"marker\":{\"color\":\"#B6E880\",\"symbol\":\"circle\"},\"mode\":\"markers\",\"name\":\"Mad at Disney\",\"orientation\":\"v\",\"showlegend\":true,\"x\":[2020],\"xaxis\":\"x\",\"y\":[88],\"yaxis\":\"y\",\"type\":\"scatter\"},{\"hovertemplate\":\"name=Deep End<br>year=%{x}<br>popularity=%{y}<extra></extra>\",\"legendgroup\":\"Deep End\",\"marker\":{\"color\":\"#FF97FF\",\"symbol\":\"circle\"},\"mode\":\"markers\",\"name\":\"Deep End\",\"orientation\":\"v\",\"showlegend\":true,\"x\":[2020],\"xaxis\":\"x\",\"y\":[88],\"yaxis\":\"y\",\"type\":\"scatter\"},{\"hovertemplate\":\"name=Hello (feat. A Boogie Wit da Hoodie)<br>year=%{x}<br>popularity=%{y}<extra></extra>\",\"legendgroup\":\"Hello (feat. A Boogie Wit da Hoodie)\",\"marker\":{\"color\":\"#FECB52\",\"symbol\":\"circle\"},\"mode\":\"markers\",\"name\":\"Hello (feat. A Boogie Wit da Hoodie)\",\"orientation\":\"v\",\"showlegend\":true,\"x\":[2020],\"xaxis\":\"x\",\"y\":[86],\"yaxis\":\"y\",\"type\":\"scatter\"},{\"hovertemplate\":\"name=Be Kind (with Halsey)<br>year=%{x}<br>popularity=%{y}<extra></extra>\",\"legendgroup\":\"Be Kind (with Halsey)\",\"marker\":{\"color\":\"#636efa\",\"symbol\":\"circle\"},\"mode\":\"markers\",\"name\":\"Be Kind (with Halsey)\",\"orientation\":\"v\",\"showlegend\":true,\"x\":[2020],\"xaxis\":\"x\",\"y\":[86],\"yaxis\":\"y\",\"type\":\"scatter\"},{\"hovertemplate\":\"name=You Got It<br>year=%{x}<br>popularity=%{y}<extra></extra>\",\"legendgroup\":\"You Got It\",\"marker\":{\"color\":\"#EF553B\",\"symbol\":\"circle\"},\"mode\":\"markers\",\"name\":\"You Got It\",\"orientation\":\"v\",\"showlegend\":true,\"x\":[2020],\"xaxis\":\"x\",\"y\":[86],\"yaxis\":\"y\",\"type\":\"scatter\"},{\"hovertemplate\":\"name=Relaci\\u00f3n - Remix<br>year=%{x}<br>popularity=%{y}<extra></extra>\",\"legendgroup\":\"Relaci\\u00f3n - Remix\",\"marker\":{\"color\":\"#00cc96\",\"symbol\":\"circle\"},\"mode\":\"markers\",\"name\":\"Relaci\\u00f3n - Remix\",\"orientation\":\"v\",\"showlegend\":true,\"x\":[2020],\"xaxis\":\"x\",\"y\":[94],\"yaxis\":\"y\",\"type\":\"scatter\"},{\"hovertemplate\":\"name=Hasta Que Dios Diga<br>year=%{x}<br>popularity=%{y}<extra></extra>\",\"legendgroup\":\"Hasta Que Dios Diga\",\"marker\":{\"color\":\"#ab63fa\",\"symbol\":\"circle\"},\"mode\":\"markers\",\"name\":\"Hasta Que Dios Diga\",\"orientation\":\"v\",\"showlegend\":true,\"x\":[2020],\"xaxis\":\"x\",\"y\":[86],\"yaxis\":\"y\",\"type\":\"scatter\"},{\"hovertemplate\":\"name=Mood (Remix) feat. Justin Bieber, J Balvin & iann dior<br>year=%{x}<br>popularity=%{y}<extra></extra>\",\"legendgroup\":\"Mood (Remix) feat. Justin Bieber, J Balvin & iann dior\",\"marker\":{\"color\":\"#FFA15A\",\"symbol\":\"circle\"},\"mode\":\"markers\",\"name\":\"Mood (Remix) feat. Justin Bieber, J Balvin & iann dior\",\"orientation\":\"v\",\"showlegend\":true,\"x\":[2020],\"xaxis\":\"x\",\"y\":[86],\"yaxis\":\"y\",\"type\":\"scatter\"},{\"hovertemplate\":\"name=Diamonds<br>year=%{x}<br>popularity=%{y}<extra></extra>\",\"legendgroup\":\"Diamonds\",\"marker\":{\"color\":\"#19d3f3\",\"symbol\":\"circle\"},\"mode\":\"markers\",\"name\":\"Diamonds\",\"orientation\":\"v\",\"showlegend\":true,\"x\":[2020],\"xaxis\":\"x\",\"y\":[87],\"yaxis\":\"y\",\"type\":\"scatter\"},{\"hovertemplate\":\"name=Haw\\u00e1i<br>year=%{x}<br>popularity=%{y}<extra></extra>\",\"legendgroup\":\"Haw\\u00e1i\",\"marker\":{\"color\":\"#FF6692\",\"symbol\":\"circle\"},\"mode\":\"markers\",\"name\":\"Haw\\u00e1i\",\"orientation\":\"v\",\"showlegend\":true,\"x\":[2020,2020],\"xaxis\":\"x\",\"y\":[92,89],\"yaxis\":\"y\",\"type\":\"scatter\"},{\"hovertemplate\":\"name=Monster (Shawn Mendes & Justin Bieber)<br>year=%{x}<br>popularity=%{y}<extra></extra>\",\"legendgroup\":\"Monster (Shawn Mendes & Justin Bieber)\",\"marker\":{\"color\":\"#B6E880\",\"symbol\":\"circle\"},\"mode\":\"markers\",\"name\":\"Monster (Shawn Mendes & Justin Bieber)\",\"orientation\":\"v\",\"showlegend\":true,\"x\":[2020],\"xaxis\":\"x\",\"y\":[87],\"yaxis\":\"y\",\"type\":\"scatter\"},{\"hovertemplate\":\"name=Kings & Queens<br>year=%{x}<br>popularity=%{y}<extra></extra>\",\"legendgroup\":\"Kings & Queens\",\"marker\":{\"color\":\"#FF97FF\",\"symbol\":\"circle\"},\"mode\":\"markers\",\"name\":\"Kings & Queens\",\"orientation\":\"v\",\"showlegend\":true,\"x\":[2020],\"xaxis\":\"x\",\"y\":[87],\"yaxis\":\"y\",\"type\":\"scatter\"},{\"hovertemplate\":\"name=Rain On Me (with Ariana Grande)<br>year=%{x}<br>popularity=%{y}<extra></extra>\",\"legendgroup\":\"Rain On Me (with Ariana Grande)\",\"marker\":{\"color\":\"#FECB52\",\"symbol\":\"circle\"},\"mode\":\"markers\",\"name\":\"Rain On Me (with Ariana Grande)\",\"orientation\":\"v\",\"showlegend\":true,\"x\":[2020],\"xaxis\":\"x\",\"y\":[86],\"yaxis\":\"y\",\"type\":\"scatter\"},{\"hovertemplate\":\"name=Ay, DiOs M\\u00edo!<br>year=%{x}<br>popularity=%{y}<extra></extra>\",\"legendgroup\":\"Ay, DiOs M\\u00edo!\",\"marker\":{\"color\":\"#636efa\",\"symbol\":\"circle\"},\"mode\":\"markers\",\"name\":\"Ay, DiOs M\\u00edo!\",\"orientation\":\"v\",\"showlegend\":true,\"x\":[2020],\"xaxis\":\"x\",\"y\":[91],\"yaxis\":\"y\",\"type\":\"scatter\"},{\"hovertemplate\":\"name=Lean (feat. Towy, Osquel, Beltito & Sammy & Falsetto)<br>year=%{x}<br>popularity=%{y}<extra></extra>\",\"legendgroup\":\"Lean (feat. Towy, Osquel, Beltito & Sammy & Falsetto)\",\"marker\":{\"color\":\"#EF553B\",\"symbol\":\"circle\"},\"mode\":\"markers\",\"name\":\"Lean (feat. Towy, Osquel, Beltito & Sammy & Falsetto)\",\"orientation\":\"v\",\"showlegend\":true,\"x\":[2017],\"xaxis\":\"x\",\"y\":[86],\"yaxis\":\"y\",\"type\":\"scatter\"},{\"hovertemplate\":\"name=Se Te Nota (with Guaynaa)<br>year=%{x}<br>popularity=%{y}<extra></extra>\",\"legendgroup\":\"Se Te Nota (with Guaynaa)\",\"marker\":{\"color\":\"#00cc96\",\"symbol\":\"circle\"},\"mode\":\"markers\",\"name\":\"Se Te Nota (with Guaynaa)\",\"orientation\":\"v\",\"showlegend\":true,\"x\":[2020],\"xaxis\":\"x\",\"y\":[92],\"yaxis\":\"y\",\"type\":\"scatter\"},{\"hovertemplate\":\"name=La Curiosidad<br>year=%{x}<br>popularity=%{y}<extra></extra>\",\"legendgroup\":\"La Curiosidad\",\"marker\":{\"color\":\"#ab63fa\",\"symbol\":\"circle\"},\"mode\":\"markers\",\"name\":\"La Curiosidad\",\"orientation\":\"v\",\"showlegend\":true,\"x\":[2020],\"xaxis\":\"x\",\"y\":[92],\"yaxis\":\"y\",\"type\":\"scatter\"},{\"hovertemplate\":\"name=BICHOTA<br>year=%{x}<br>popularity=%{y}<extra></extra>\",\"legendgroup\":\"BICHOTA\",\"marker\":{\"color\":\"#FFA15A\",\"symbol\":\"circle\"},\"mode\":\"markers\",\"name\":\"BICHOTA\",\"orientation\":\"v\",\"showlegend\":true,\"x\":[2020],\"xaxis\":\"x\",\"y\":[91],\"yaxis\":\"y\",\"type\":\"scatter\"},{\"hovertemplate\":\"name=La Nota<br>year=%{x}<br>popularity=%{y}<extra></extra>\",\"legendgroup\":\"La Nota\",\"marker\":{\"color\":\"#19d3f3\",\"symbol\":\"circle\"},\"mode\":\"markers\",\"name\":\"La Nota\",\"orientation\":\"v\",\"showlegend\":true,\"x\":[2020],\"xaxis\":\"x\",\"y\":[92],\"yaxis\":\"y\",\"type\":\"scatter\"},{\"hovertemplate\":\"name=Paradise (feat. Dermot Kennedy)<br>year=%{x}<br>popularity=%{y}<extra></extra>\",\"legendgroup\":\"Paradise (feat. Dermot Kennedy)\",\"marker\":{\"color\":\"#FF6692\",\"symbol\":\"circle\"},\"mode\":\"markers\",\"name\":\"Paradise (feat. Dermot Kennedy)\",\"orientation\":\"v\",\"showlegend\":true,\"x\":[2020],\"xaxis\":\"x\",\"y\":[86],\"yaxis\":\"y\",\"type\":\"scatter\"},{\"hovertemplate\":\"name=I CAN'T STOP ME<br>year=%{x}<br>popularity=%{y}<extra></extra>\",\"legendgroup\":\"I CAN'T STOP ME\",\"marker\":{\"color\":\"#B6E880\",\"symbol\":\"circle\"},\"mode\":\"markers\",\"name\":\"I CAN'T STOP ME\",\"orientation\":\"v\",\"showlegend\":true,\"x\":[2020],\"xaxis\":\"x\",\"y\":[86],\"yaxis\":\"y\",\"type\":\"scatter\"},{\"hovertemplate\":\"name=Una Locura<br>year=%{x}<br>popularity=%{y}<extra></extra>\",\"legendgroup\":\"Una Locura\",\"marker\":{\"color\":\"#FF97FF\",\"symbol\":\"circle\"},\"mode\":\"markers\",\"name\":\"Una Locura\",\"orientation\":\"v\",\"showlegend\":true,\"x\":[2020],\"xaxis\":\"x\",\"y\":[91],\"yaxis\":\"y\",\"type\":\"scatter\"},{\"hovertemplate\":\"name=Mi Cuarto<br>year=%{x}<br>popularity=%{y}<extra></extra>\",\"legendgroup\":\"Mi Cuarto\",\"marker\":{\"color\":\"#FECB52\",\"symbol\":\"circle\"},\"mode\":\"markers\",\"name\":\"Mi Cuarto\",\"orientation\":\"v\",\"showlegend\":true,\"x\":[2020],\"xaxis\":\"x\",\"y\":[89],\"yaxis\":\"y\",\"type\":\"scatter\"},{\"hovertemplate\":\"name=La T\\u00f3xica<br>year=%{x}<br>popularity=%{y}<extra></extra>\",\"legendgroup\":\"La T\\u00f3xica\",\"marker\":{\"color\":\"#636efa\",\"symbol\":\"circle\"},\"mode\":\"markers\",\"name\":\"La T\\u00f3xica\",\"orientation\":\"v\",\"showlegend\":true,\"x\":[2020],\"xaxis\":\"x\",\"y\":[92],\"yaxis\":\"y\",\"type\":\"scatter\"},{\"hovertemplate\":\"name=La Jeepeta - Remix<br>year=%{x}<br>popularity=%{y}<extra></extra>\",\"legendgroup\":\"La Jeepeta - Remix\",\"marker\":{\"color\":\"#EF553B\",\"symbol\":\"circle\"},\"mode\":\"markers\",\"name\":\"La Jeepeta - Remix\",\"orientation\":\"v\",\"showlegend\":true,\"x\":[2020],\"xaxis\":\"x\",\"y\":[87],\"yaxis\":\"y\",\"type\":\"scatter\"},{\"hovertemplate\":\"name=Tick Tock (feat. 24kGoldn)<br>year=%{x}<br>popularity=%{y}<extra></extra>\",\"legendgroup\":\"Tick Tock (feat. 24kGoldn)\",\"marker\":{\"color\":\"#00cc96\",\"symbol\":\"circle\"},\"mode\":\"markers\",\"name\":\"Tick Tock (feat. 24kGoldn)\",\"orientation\":\"v\",\"showlegend\":true,\"x\":[2020],\"xaxis\":\"x\",\"y\":[88],\"yaxis\":\"y\",\"type\":\"scatter\"},{\"hovertemplate\":\"name=Mi Ni\\u00f1a<br>year=%{x}<br>popularity=%{y}<extra></extra>\",\"legendgroup\":\"Mi Ni\\u00f1a\",\"marker\":{\"color\":\"#ab63fa\",\"symbol\":\"circle\"},\"mode\":\"markers\",\"name\":\"Mi Ni\\u00f1a\",\"orientation\":\"v\",\"showlegend\":true,\"x\":[2020],\"xaxis\":\"x\",\"y\":[90],\"yaxis\":\"y\",\"type\":\"scatter\"},{\"hovertemplate\":\"name=Vida de Rico<br>year=%{x}<br>popularity=%{y}<extra></extra>\",\"legendgroup\":\"Vida de Rico\",\"marker\":{\"color\":\"#FFA15A\",\"symbol\":\"circle\"},\"mode\":\"markers\",\"name\":\"Vida de Rico\",\"orientation\":\"v\",\"showlegend\":true,\"x\":[2020],\"xaxis\":\"x\",\"y\":[92],\"yaxis\":\"y\",\"type\":\"scatter\"},{\"hovertemplate\":\"name=Savage Love (Laxed \\u2013 Siren Beat) [BTS Remix]<br>year=%{x}<br>popularity=%{y}<extra></extra>\",\"legendgroup\":\"Savage Love (Laxed \\u2013 Siren Beat) [BTS Remix]\",\"marker\":{\"color\":\"#19d3f3\",\"symbol\":\"circle\"},\"mode\":\"markers\",\"name\":\"Savage Love (Laxed \\u2013 Siren Beat) [BTS Remix]\",\"orientation\":\"v\",\"showlegend\":true,\"x\":[2020],\"xaxis\":\"x\",\"y\":[86],\"yaxis\":\"y\",\"type\":\"scatter\"},{\"hovertemplate\":\"name=Agua (with J Balvin) - Music From \\\"Sponge On The Run\\\" Movie<br>year=%{x}<br>popularity=%{y}<extra></extra>\",\"legendgroup\":\"Agua (with J Balvin) - Music From \\\"Sponge On The Run\\\" Movie\",\"marker\":{\"color\":\"#FF6692\",\"symbol\":\"circle\"},\"mode\":\"markers\",\"name\":\"Agua (with J Balvin) - Music From \\\"Sponge On The Run\\\" Movie\",\"orientation\":\"v\",\"showlegend\":true,\"x\":[2020],\"xaxis\":\"x\",\"y\":[87],\"yaxis\":\"y\",\"type\":\"scatter\"},{\"hovertemplate\":\"name=The Business<br>year=%{x}<br>popularity=%{y}<extra></extra>\",\"legendgroup\":\"The Business\",\"marker\":{\"color\":\"#B6E880\",\"symbol\":\"circle\"},\"mode\":\"markers\",\"name\":\"The Business\",\"orientation\":\"v\",\"showlegend\":true,\"x\":[2020],\"xaxis\":\"x\",\"y\":[87],\"yaxis\":\"y\",\"type\":\"scatter\"},{\"hovertemplate\":\"name=Parce (feat. Justin Quiles)<br>year=%{x}<br>popularity=%{y}<extra></extra>\",\"legendgroup\":\"Parce (feat. Justin Quiles)\",\"marker\":{\"color\":\"#FF97FF\",\"symbol\":\"circle\"},\"mode\":\"markers\",\"name\":\"Parce (feat. Justin Quiles)\",\"orientation\":\"v\",\"showlegend\":true,\"x\":[2020],\"xaxis\":\"x\",\"y\":[91],\"yaxis\":\"y\",\"type\":\"scatter\"},{\"hovertemplate\":\"name=La Luz<br>year=%{x}<br>popularity=%{y}<extra></extra>\",\"legendgroup\":\"La Luz\",\"marker\":{\"color\":\"#FECB52\",\"symbol\":\"circle\"},\"mode\":\"markers\",\"name\":\"La Luz\",\"orientation\":\"v\",\"showlegend\":true,\"x\":[2020],\"xaxis\":\"x\",\"y\":[86],\"yaxis\":\"y\",\"type\":\"scatter\"},{\"hovertemplate\":\"name=Tattoo - Remix with Camilo<br>year=%{x}<br>popularity=%{y}<extra></extra>\",\"legendgroup\":\"Tattoo - Remix with Camilo\",\"marker\":{\"color\":\"#636efa\",\"symbol\":\"circle\"},\"mode\":\"markers\",\"name\":\"Tattoo - Remix with Camilo\",\"orientation\":\"v\",\"showlegend\":true,\"x\":[2020],\"xaxis\":\"x\",\"y\":[90],\"yaxis\":\"y\",\"type\":\"scatter\"},{\"hovertemplate\":\"name=Don Don<br>year=%{x}<br>popularity=%{y}<extra></extra>\",\"legendgroup\":\"Don Don\",\"marker\":{\"color\":\"#EF553B\",\"symbol\":\"circle\"},\"mode\":\"markers\",\"name\":\"Don Don\",\"orientation\":\"v\",\"showlegend\":true,\"x\":[2020],\"xaxis\":\"x\",\"y\":[86],\"yaxis\":\"y\",\"type\":\"scatter\"},{\"hovertemplate\":\"name=Jeans<br>year=%{x}<br>popularity=%{y}<extra></extra>\",\"legendgroup\":\"Jeans\",\"marker\":{\"color\":\"#00cc96\",\"symbol\":\"circle\"},\"mode\":\"markers\",\"name\":\"Jeans\",\"orientation\":\"v\",\"showlegend\":true,\"x\":[2020],\"xaxis\":\"x\",\"y\":[91],\"yaxis\":\"y\",\"type\":\"scatter\"},{\"hovertemplate\":\"name=Despeinada<br>year=%{x}<br>popularity=%{y}<extra></extra>\",\"legendgroup\":\"Despeinada\",\"marker\":{\"color\":\"#ab63fa\",\"symbol\":\"circle\"},\"mode\":\"markers\",\"name\":\"Despeinada\",\"orientation\":\"v\",\"showlegend\":true,\"x\":[2020],\"xaxis\":\"x\",\"y\":[88],\"yaxis\":\"y\",\"type\":\"scatter\"},{\"hovertemplate\":\"name=Reloj<br>year=%{x}<br>popularity=%{y}<extra></extra>\",\"legendgroup\":\"Reloj\",\"marker\":{\"color\":\"#FFA15A\",\"symbol\":\"circle\"},\"mode\":\"markers\",\"name\":\"Reloj\",\"orientation\":\"v\",\"showlegend\":true,\"x\":[2020],\"xaxis\":\"x\",\"y\":[86],\"yaxis\":\"y\",\"type\":\"scatter\"},{\"hovertemplate\":\"name=Chica Ideal<br>year=%{x}<br>popularity=%{y}<extra></extra>\",\"legendgroup\":\"Chica Ideal\",\"marker\":{\"color\":\"#19d3f3\",\"symbol\":\"circle\"},\"mode\":\"markers\",\"name\":\"Chica Ideal\",\"orientation\":\"v\",\"showlegend\":true,\"x\":[2020],\"xaxis\":\"x\",\"y\":[89],\"yaxis\":\"y\",\"type\":\"scatter\"},{\"hovertemplate\":\"name=Azul<br>year=%{x}<br>popularity=%{y}<extra></extra>\",\"legendgroup\":\"Azul\",\"marker\":{\"color\":\"#FF6692\",\"symbol\":\"circle\"},\"mode\":\"markers\",\"name\":\"Azul\",\"orientation\":\"v\",\"showlegend\":true,\"x\":[2020],\"xaxis\":\"x\",\"y\":[87],\"yaxis\":\"y\",\"type\":\"scatter\"},{\"hovertemplate\":\"name=Caramelo<br>year=%{x}<br>popularity=%{y}<extra></extra>\",\"legendgroup\":\"Caramelo\",\"marker\":{\"color\":\"#B6E880\",\"symbol\":\"circle\"},\"mode\":\"markers\",\"name\":\"Caramelo\",\"orientation\":\"v\",\"showlegend\":true,\"x\":[2020],\"xaxis\":\"x\",\"y\":[87],\"yaxis\":\"y\",\"type\":\"scatter\"},{\"hovertemplate\":\"name=Qui\\u00e9reme Mientras Se Pueda<br>year=%{x}<br>popularity=%{y}<extra></extra>\",\"legendgroup\":\"Qui\\u00e9reme Mientras Se Pueda\",\"marker\":{\"color\":\"#FF97FF\",\"symbol\":\"circle\"},\"mode\":\"markers\",\"name\":\"Qui\\u00e9reme Mientras Se Pueda\",\"orientation\":\"v\",\"showlegend\":true,\"x\":[2020],\"xaxis\":\"x\",\"y\":[86],\"yaxis\":\"y\",\"type\":\"scatter\"},{\"hovertemplate\":\"name=Jerusalema (feat. Nomcebo Zikode)<br>year=%{x}<br>popularity=%{y}<extra></extra>\",\"legendgroup\":\"Jerusalema (feat. Nomcebo Zikode)\",\"marker\":{\"color\":\"#FECB52\",\"symbol\":\"circle\"},\"mode\":\"markers\",\"name\":\"Jerusalema (feat. Nomcebo Zikode)\",\"orientation\":\"v\",\"showlegend\":true,\"x\":[2020],\"xaxis\":\"x\",\"y\":[86],\"yaxis\":\"y\",\"type\":\"scatter\"},{\"hovertemplate\":\"name=Ayer Me Llam\\u00f3 Mi Ex (feat. Lenny Santos)<br>year=%{x}<br>popularity=%{y}<extra></extra>\",\"legendgroup\":\"Ayer Me Llam\\u00f3 Mi Ex (feat. Lenny Santos)\",\"marker\":{\"color\":\"#636efa\",\"symbol\":\"circle\"},\"mode\":\"markers\",\"name\":\"Ayer Me Llam\\u00f3 Mi Ex (feat. Lenny Santos)\",\"orientation\":\"v\",\"showlegend\":true,\"x\":[2020],\"xaxis\":\"x\",\"y\":[86],\"yaxis\":\"y\",\"type\":\"scatter\"}],                        {\"template\":{\"data\":{\"bar\":[{\"error_x\":{\"color\":\"#2a3f5f\"},\"error_y\":{\"color\":\"#2a3f5f\"},\"marker\":{\"line\":{\"color\":\"#E5ECF6\",\"width\":0.5},\"pattern\":{\"fillmode\":\"overlay\",\"size\":10,\"solidity\":0.2}},\"type\":\"bar\"}],\"barpolar\":[{\"marker\":{\"line\":{\"color\":\"#E5ECF6\",\"width\":0.5},\"pattern\":{\"fillmode\":\"overlay\",\"size\":10,\"solidity\":0.2}},\"type\":\"barpolar\"}],\"carpet\":[{\"aaxis\":{\"endlinecolor\":\"#2a3f5f\",\"gridcolor\":\"white\",\"linecolor\":\"white\",\"minorgridcolor\":\"white\",\"startlinecolor\":\"#2a3f5f\"},\"baxis\":{\"endlinecolor\":\"#2a3f5f\",\"gridcolor\":\"white\",\"linecolor\":\"white\",\"minorgridcolor\":\"white\",\"startlinecolor\":\"#2a3f5f\"},\"type\":\"carpet\"}],\"choropleth\":[{\"colorbar\":{\"outlinewidth\":0,\"ticks\":\"\"},\"type\":\"choropleth\"}],\"contour\":[{\"colorbar\":{\"outlinewidth\":0,\"ticks\":\"\"},\"colorscale\":[[0.0,\"#0d0887\"],[0.1111111111111111,\"#46039f\"],[0.2222222222222222,\"#7201a8\"],[0.3333333333333333,\"#9c179e\"],[0.4444444444444444,\"#bd3786\"],[0.5555555555555556,\"#d8576b\"],[0.6666666666666666,\"#ed7953\"],[0.7777777777777778,\"#fb9f3a\"],[0.8888888888888888,\"#fdca26\"],[1.0,\"#f0f921\"]],\"type\":\"contour\"}],\"contourcarpet\":[{\"colorbar\":{\"outlinewidth\":0,\"ticks\":\"\"},\"type\":\"contourcarpet\"}],\"heatmap\":[{\"colorbar\":{\"outlinewidth\":0,\"ticks\":\"\"},\"colorscale\":[[0.0,\"#0d0887\"],[0.1111111111111111,\"#46039f\"],[0.2222222222222222,\"#7201a8\"],[0.3333333333333333,\"#9c179e\"],[0.4444444444444444,\"#bd3786\"],[0.5555555555555556,\"#d8576b\"],[0.6666666666666666,\"#ed7953\"],[0.7777777777777778,\"#fb9f3a\"],[0.8888888888888888,\"#fdca26\"],[1.0,\"#f0f921\"]],\"type\":\"heatmap\"}],\"heatmapgl\":[{\"colorbar\":{\"outlinewidth\":0,\"ticks\":\"\"},\"colorscale\":[[0.0,\"#0d0887\"],[0.1111111111111111,\"#46039f\"],[0.2222222222222222,\"#7201a8\"],[0.3333333333333333,\"#9c179e\"],[0.4444444444444444,\"#bd3786\"],[0.5555555555555556,\"#d8576b\"],[0.6666666666666666,\"#ed7953\"],[0.7777777777777778,\"#fb9f3a\"],[0.8888888888888888,\"#fdca26\"],[1.0,\"#f0f921\"]],\"type\":\"heatmapgl\"}],\"histogram\":[{\"marker\":{\"pattern\":{\"fillmode\":\"overlay\",\"size\":10,\"solidity\":0.2}},\"type\":\"histogram\"}],\"histogram2d\":[{\"colorbar\":{\"outlinewidth\":0,\"ticks\":\"\"},\"colorscale\":[[0.0,\"#0d0887\"],[0.1111111111111111,\"#46039f\"],[0.2222222222222222,\"#7201a8\"],[0.3333333333333333,\"#9c179e\"],[0.4444444444444444,\"#bd3786\"],[0.5555555555555556,\"#d8576b\"],[0.6666666666666666,\"#ed7953\"],[0.7777777777777778,\"#fb9f3a\"],[0.8888888888888888,\"#fdca26\"],[1.0,\"#f0f921\"]],\"type\":\"histogram2d\"}],\"histogram2dcontour\":[{\"colorbar\":{\"outlinewidth\":0,\"ticks\":\"\"},\"colorscale\":[[0.0,\"#0d0887\"],[0.1111111111111111,\"#46039f\"],[0.2222222222222222,\"#7201a8\"],[0.3333333333333333,\"#9c179e\"],[0.4444444444444444,\"#bd3786\"],[0.5555555555555556,\"#d8576b\"],[0.6666666666666666,\"#ed7953\"],[0.7777777777777778,\"#fb9f3a\"],[0.8888888888888888,\"#fdca26\"],[1.0,\"#f0f921\"]],\"type\":\"histogram2dcontour\"}],\"mesh3d\":[{\"colorbar\":{\"outlinewidth\":0,\"ticks\":\"\"},\"type\":\"mesh3d\"}],\"parcoords\":[{\"line\":{\"colorbar\":{\"outlinewidth\":0,\"ticks\":\"\"}},\"type\":\"parcoords\"}],\"pie\":[{\"automargin\":true,\"type\":\"pie\"}],\"scatter\":[{\"marker\":{\"colorbar\":{\"outlinewidth\":0,\"ticks\":\"\"}},\"type\":\"scatter\"}],\"scatter3d\":[{\"line\":{\"colorbar\":{\"outlinewidth\":0,\"ticks\":\"\"}},\"marker\":{\"colorbar\":{\"outlinewidth\":0,\"ticks\":\"\"}},\"type\":\"scatter3d\"}],\"scattercarpet\":[{\"marker\":{\"colorbar\":{\"outlinewidth\":0,\"ticks\":\"\"}},\"type\":\"scattercarpet\"}],\"scattergeo\":[{\"marker\":{\"colorbar\":{\"outlinewidth\":0,\"ticks\":\"\"}},\"type\":\"scattergeo\"}],\"scattergl\":[{\"marker\":{\"colorbar\":{\"outlinewidth\":0,\"ticks\":\"\"}},\"type\":\"scattergl\"}],\"scattermapbox\":[{\"marker\":{\"colorbar\":{\"outlinewidth\":0,\"ticks\":\"\"}},\"type\":\"scattermapbox\"}],\"scatterpolar\":[{\"marker\":{\"colorbar\":{\"outlinewidth\":0,\"ticks\":\"\"}},\"type\":\"scatterpolar\"}],\"scatterpolargl\":[{\"marker\":{\"colorbar\":{\"outlinewidth\":0,\"ticks\":\"\"}},\"type\":\"scatterpolargl\"}],\"scatterternary\":[{\"marker\":{\"colorbar\":{\"outlinewidth\":0,\"ticks\":\"\"}},\"type\":\"scatterternary\"}],\"surface\":[{\"colorbar\":{\"outlinewidth\":0,\"ticks\":\"\"},\"colorscale\":[[0.0,\"#0d0887\"],[0.1111111111111111,\"#46039f\"],[0.2222222222222222,\"#7201a8\"],[0.3333333333333333,\"#9c179e\"],[0.4444444444444444,\"#bd3786\"],[0.5555555555555556,\"#d8576b\"],[0.6666666666666666,\"#ed7953\"],[0.7777777777777778,\"#fb9f3a\"],[0.8888888888888888,\"#fdca26\"],[1.0,\"#f0f921\"]],\"type\":\"surface\"}],\"table\":[{\"cells\":{\"fill\":{\"color\":\"#EBF0F8\"},\"line\":{\"color\":\"white\"}},\"header\":{\"fill\":{\"color\":\"#C8D4E3\"},\"line\":{\"color\":\"white\"}},\"type\":\"table\"}]},\"layout\":{\"annotationdefaults\":{\"arrowcolor\":\"#2a3f5f\",\"arrowhead\":0,\"arrowwidth\":1},\"autotypenumbers\":\"strict\",\"coloraxis\":{\"colorbar\":{\"outlinewidth\":0,\"ticks\":\"\"}},\"colorscale\":{\"diverging\":[[0,\"#8e0152\"],[0.1,\"#c51b7d\"],[0.2,\"#de77ae\"],[0.3,\"#f1b6da\"],[0.4,\"#fde0ef\"],[0.5,\"#f7f7f7\"],[0.6,\"#e6f5d0\"],[0.7,\"#b8e186\"],[0.8,\"#7fbc41\"],[0.9,\"#4d9221\"],[1,\"#276419\"]],\"sequential\":[[0.0,\"#0d0887\"],[0.1111111111111111,\"#46039f\"],[0.2222222222222222,\"#7201a8\"],[0.3333333333333333,\"#9c179e\"],[0.4444444444444444,\"#bd3786\"],[0.5555555555555556,\"#d8576b\"],[0.6666666666666666,\"#ed7953\"],[0.7777777777777778,\"#fb9f3a\"],[0.8888888888888888,\"#fdca26\"],[1.0,\"#f0f921\"]],\"sequentialminus\":[[0.0,\"#0d0887\"],[0.1111111111111111,\"#46039f\"],[0.2222222222222222,\"#7201a8\"],[0.3333333333333333,\"#9c179e\"],[0.4444444444444444,\"#bd3786\"],[0.5555555555555556,\"#d8576b\"],[0.6666666666666666,\"#ed7953\"],[0.7777777777777778,\"#fb9f3a\"],[0.8888888888888888,\"#fdca26\"],[1.0,\"#f0f921\"]]},\"colorway\":[\"#636efa\",\"#EF553B\",\"#00cc96\",\"#ab63fa\",\"#FFA15A\",\"#19d3f3\",\"#FF6692\",\"#B6E880\",\"#FF97FF\",\"#FECB52\"],\"font\":{\"color\":\"#2a3f5f\"},\"geo\":{\"bgcolor\":\"white\",\"lakecolor\":\"white\",\"landcolor\":\"#E5ECF6\",\"showlakes\":true,\"showland\":true,\"subunitcolor\":\"white\"},\"hoverlabel\":{\"align\":\"left\"},\"hovermode\":\"closest\",\"mapbox\":{\"style\":\"light\"},\"paper_bgcolor\":\"white\",\"plot_bgcolor\":\"#E5ECF6\",\"polar\":{\"angularaxis\":{\"gridcolor\":\"white\",\"linecolor\":\"white\",\"ticks\":\"\"},\"bgcolor\":\"#E5ECF6\",\"radialaxis\":{\"gridcolor\":\"white\",\"linecolor\":\"white\",\"ticks\":\"\"}},\"scene\":{\"xaxis\":{\"backgroundcolor\":\"#E5ECF6\",\"gridcolor\":\"white\",\"gridwidth\":2,\"linecolor\":\"white\",\"showbackground\":true,\"ticks\":\"\",\"zerolinecolor\":\"white\"},\"yaxis\":{\"backgroundcolor\":\"#E5ECF6\",\"gridcolor\":\"white\",\"gridwidth\":2,\"linecolor\":\"white\",\"showbackground\":true,\"ticks\":\"\",\"zerolinecolor\":\"white\"},\"zaxis\":{\"backgroundcolor\":\"#E5ECF6\",\"gridcolor\":\"white\",\"gridwidth\":2,\"linecolor\":\"white\",\"showbackground\":true,\"ticks\":\"\",\"zerolinecolor\":\"white\"}},\"shapedefaults\":{\"line\":{\"color\":\"#2a3f5f\"}},\"ternary\":{\"aaxis\":{\"gridcolor\":\"white\",\"linecolor\":\"white\",\"ticks\":\"\"},\"baxis\":{\"gridcolor\":\"white\",\"linecolor\":\"white\",\"ticks\":\"\"},\"bgcolor\":\"#E5ECF6\",\"caxis\":{\"gridcolor\":\"white\",\"linecolor\":\"white\",\"ticks\":\"\"}},\"title\":{\"x\":0.05},\"xaxis\":{\"automargin\":true,\"gridcolor\":\"white\",\"linecolor\":\"white\",\"ticks\":\"\",\"title\":{\"standoff\":15},\"zerolinecolor\":\"white\",\"zerolinewidth\":2},\"yaxis\":{\"automargin\":true,\"gridcolor\":\"white\",\"linecolor\":\"white\",\"ticks\":\"\",\"title\":{\"standoff\":15},\"zerolinecolor\":\"white\",\"zerolinewidth\":2}}},\"xaxis\":{\"anchor\":\"y\",\"domain\":[0.0,1.0],\"title\":{\"text\":\"year\"}},\"yaxis\":{\"anchor\":\"x\",\"domain\":[0.0,1.0],\"title\":{\"text\":\"popularity\"}},\"legend\":{\"title\":{\"text\":\"name\"},\"tracegroupgap\":0},\"margin\":{\"t\":60}},                        {\"responsive\": true}                    ).then(function(){\n",
       "                            \n",
       "var gd = document.getElementById('3c9115df-4ef8-4d75-97c7-8d5ad1c7d2e8');\n",
       "var x = new MutationObserver(function (mutations, observer) {{\n",
       "        var display = window.getComputedStyle(gd).display;\n",
       "        if (!display || display === 'none') {{\n",
       "            console.log([gd, 'removed!']);\n",
       "            Plotly.purge(gd);\n",
       "            observer.disconnect();\n",
       "        }}\n",
       "}});\n",
       "\n",
       "// Listen for the removal of the full notebook cells\n",
       "var notebookContainer = gd.closest('#notebook-container');\n",
       "if (notebookContainer) {{\n",
       "    x.observe(notebookContainer, {childList: true});\n",
       "}}\n",
       "\n",
       "// Listen for the clearing of the current output cell\n",
       "var outputEl = gd.closest('.output');\n",
       "if (outputEl) {{\n",
       "    x.observe(outputEl, {childList: true});\n",
       "}}\n",
       "\n",
       "                        })                };                });            </script>        </div>"
      ]
     },
     "metadata": {},
     "output_type": "display_data"
    }
   ],
   "source": [
    "df = dataset[dataset['popularity']>85][['name','artists','popularity','year']]\n",
    "fig = px.scatter(df,x='year', y='popularity',color='name')\n",
    "fig.show()"
   ]
  },
  {
   "cell_type": "markdown",
   "id": "5c155d8b",
   "metadata": {},
   "source": [
    "***Correlation of Features***"
   ]
  },
  {
   "cell_type": "code",
   "execution_count": 28,
   "id": "8eda287d",
   "metadata": {},
   "outputs": [
    {
     "data": {
      "text/plain": [
       "<AxesSubplot:>"
      ]
     },
     "execution_count": 28,
     "metadata": {},
     "output_type": "execute_result"
    },
    {
     "data": {
      "image/png": "[encoded data removed]",
      "text/plain": [
       "<Figure size 720x432 with 2 Axes>"
      ]
     },
     "metadata": {
      "needs_background": "light"
     },
     "output_type": "display_data"
    }
   ],
   "source": [
    "plt.figure(figsize=(10,6))\n",
    "\n",
    "corr = dataset.corr()\n",
    "mask = np.triu(np.ones_like(corr, dtype=bool))\n",
    "sns.heatmap(corr,mask=mask,vmin=-1,cmap='viridis',annot=False)"
   ]
  },
  {
   "cell_type": "code",
   "execution_count": 29,
   "id": "9fc8d0ba",
   "metadata": {},
   "outputs": [
    {
     "data": {
      "text/plain": [
       "year                0.862442\n",
       "acousticness       -0.573162\n",
       "energy              0.485005\n",
       "instrumentalness   -0.296750\n",
       "loudness            0.457051\n",
       "popularity          1.000000\n",
       "Name: popularity, dtype: float64"
      ]
     },
     "execution_count": 29,
     "metadata": {},
     "output_type": "execute_result"
    }
   ],
   "source": [
    "corr[abs(corr['popularity']) > 0.25]['popularity']"
   ]
  },
  {
   "cell_type": "markdown",
   "id": "35bfaf3b",
   "metadata": {},
   "source": [
    "***Observations***\n",
    "\n",
    "**Positive Correlation**                                        \n",
    "*Energy, Loudness and Year*\n",
    "\n",
    "**Negative Correlation**\\\n",
    "*Acousticness, Instrumentalness*\n"
   ]
  },
  {
   "cell_type": "markdown",
   "id": "238e9d99",
   "metadata": {},
   "source": [
    "***Artists Popularity***"
   ]
  },
  {
   "cell_type": "markdown",
   "id": "0b42ed24",
   "metadata": {},
   "source": [
    "**I go with the popularity plotting of 5 favorite artists of mine.**\n",
    "\n",
    "- Kehlani\n",
    "- The Weeknd\n",
    "- Doja Cat\n",
    "- Billie Eilish\n",
    "- Halsey"
   ]
  },
  {
   "cell_type": "code",
   "execution_count": 64,
   "id": "54c264fc",
   "metadata": {},
   "outputs": [],
   "source": [
    "keh = dataset[dataset['artists'].str.contains('Kehlani')]\n",
    "weeknd = dataset[dataset['artists'].str.contains('The Weeknd')]\n",
    "dj = dataset[dataset['artists'].str.contains('Doja Cat')]\n",
    "be = dataset[dataset['artists'].str.contains('Billie Eilish')]\n",
    "hl = dataset[dataset['artists'].str.contains('Halsey')]"
   ]
  },
  {
   "cell_type": "code",
   "execution_count": 65,
   "id": "6c511b77",
   "metadata": {},
   "outputs": [
    {
     "data": {
      "text/plain": [
       "<matplotlib.legend.Legend at 0x1a08650e640>"
      ]
     },
     "execution_count": 65,
     "metadata": {},
     "output_type": "execute_result"
    },
    {
     "data": {
      "image/png": "[encoded data removed]",
      "text/plain": [
       "<Figure size 1440x720 with 1 Axes>"
      ]
     },
     "metadata": {
      "needs_background": "light"
     },
     "output_type": "display_data"
    }
   ],
   "source": [
    "fig, ax = plt.subplots(figsize=(20,10))\n",
    "sns.despine(fig, left=True, bottom=True)\n",
    "sns.set_context(\"talk\",font_scale=1, rc={\"lines.linewidth\": 2.5})\n",
    "\n",
    "sns.histplot(keh['popularity'], color='y',label=\"Kehlani\")\n",
    "sns.histplot(weeknd['popularity'], color='b',label=\"The Weeknd\")\n",
    "sns.histplot(dj['popularity'], color='m',label=\"Doja Cat\")\n",
    "sns.histplot(be['popularity'], color='r',label=\"Billie Eilish\")\n",
    "sns.histplot(hl['popularity'], color='cyan',label=\"Halsey\")\n",
    "\n",
    "\n",
    "ax.legend(fontsize = 14)"
   ]
  },
  {
   "cell_type": "markdown",
   "id": "d4b440bb",
   "metadata": {},
   "source": [
    "**The Weeknd has the highest popularity from these artists.**"
   ]
  },
  {
   "cell_type": "markdown",
   "id": "d5e83e6d",
   "metadata": {},
   "source": [
    "**CLUSTERING ALGORITHMS**"
   ]
  },
  {
   "cell_type": "markdown",
   "id": "32b4f069",
   "metadata": {},
   "source": [
    "***Selecting only numeric datatype values***"
   ]
  },
  {
   "cell_type": "code",
   "execution_count": 66,
   "id": "52309f8e",
   "metadata": {},
   "outputs": [],
   "source": [
    "df = dataset.select_dtypes(np.number)\n",
    "number_cols = list(df.columns)"
   ]
  },
  {
   "cell_type": "markdown",
   "id": "2b8f46d6",
   "metadata": {},
   "source": [
    "***We need to scale our feature data to a given range so that the clustering algorithm can be unbiased.***"
   ]
  },
  {
   "cell_type": "code",
   "execution_count": 31,
   "id": "533f66a5",
   "metadata": {},
   "outputs": [],
   "source": [
    "from sklearn.preprocessing import StandardScaler\n",
    "scaler = StandardScaler()\n",
    "\n",
    "scaled_X = scaler.fit_transform(df.values)\n",
    "\n",
    "scaled_df = pd.DataFrame(scaled_X,columns=df.columns)"
   ]
  },
  {
   "cell_type": "markdown",
   "id": "2b61fe94",
   "metadata": {},
   "source": [
    "***We need to reduce the number of features, for dimensionality reduction we use PCA***"
   ]
  },
  {
   "cell_type": "code",
   "execution_count": 32,
   "id": "259fab54",
   "metadata": {},
   "outputs": [],
   "source": [
    "from sklearn.decomposition import PCA\n",
    "pca = PCA(n_components=2)\n",
    "\n",
    "pca.fit(scaled_df)\n",
    "\n",
    "pca_df = pca.transform(scaled_df)"
   ]
  },
  {
   "cell_type": "code",
   "execution_count": 33,
   "id": "e164eee6",
   "metadata": {},
   "outputs": [],
   "source": [
    "from sklearn import metrics\n",
    "dict1 = {}"
   ]
  },
  {
   "cell_type": "markdown",
   "id": "2ac1bef4",
   "metadata": {},
   "source": [
    "***Mini-Batch KMeans Clustering***\n",
    "\n",
    "*Mini Batch K-means algorithm‘s main idea is to use small random batches of data of a fixed size, so they can be stored in memory. Each iteration a new random sample from the dataset is obtained and used to update the clusters and this is repeated until all the clusters are formed.*"
   ]
  },
  {
   "cell_type": "code",
   "execution_count": 90,
   "id": "0355f710",
   "metadata": {},
   "outputs": [],
   "source": [
    "from sklearn.cluster import MiniBatchKMeans"
   ]
  },
  {
   "cell_type": "code",
   "execution_count": 118,
   "id": "bc68e931",
   "metadata": {},
   "outputs": [
    {
     "data": {
      "text/plain": [
       "MiniBatchKMeans(batch_size=3200, n_clusters=6, random_state=23)"
      ]
     },
     "execution_count": 118,
     "metadata": {},
     "output_type": "execute_result"
    }
   ],
   "source": [
    "mbk = MiniBatchKMeans(n_clusters = 6,random_state=23,batch_size=3200 )\n",
    "mbk.fit(pca_df)"
   ]
  },
  {
   "cell_type": "code",
   "execution_count": 119,
   "id": "b8b8599b",
   "metadata": {},
   "outputs": [],
   "source": [
    "spotify_minik = dataset.copy()\n",
    "spotify_minik['cluster_label'] = mbk.predict(pca_df)"
   ]
  },
  {
   "cell_type": "markdown",
   "id": "a7ef7817",
   "metadata": {},
   "source": [
    "**Calinski-Harabasz index**\n",
    "\n",
    "*The Calinski-Harabasz index also known as the Variance Ratio Criterion, is the ratio of the sum of between-clusters dispersion and of inter-cluster dispersion for all clusters,the higher the score,the better the performances.*"
   ]
  },
  {
   "cell_type": "code",
   "execution_count": 120,
   "id": "892d9bca",
   "metadata": {},
   "outputs": [
    {
     "name": "stdout",
     "output_type": "stream",
     "text": [
      "144103.5649804303\n"
     ]
    }
   ],
   "source": [
    "x = metrics.calinski_harabasz_score(pca_df, spotify_minik['cluster_label'])\n",
    "print(x) #MINI-BATCH KMEANS\n",
    "dict1['MINI-BATCH KMEANS']= x"
   ]
  },
  {
   "cell_type": "markdown",
   "id": "a02a88e8",
   "metadata": {},
   "source": [
    "**MAKING THE RECOMMENDER SYSTEMS**"
   ]
  },
  {
   "cell_type": "code",
   "execution_count": 128,
   "id": "c1b08e60",
   "metadata": {},
   "outputs": [],
   "source": [
    "from sklearn.cluster import MiniBatchKMeans\n",
    "from sklearn.preprocessing import StandardScaler\n",
    "from sklearn.pipeline import Pipeline\n",
    "from sklearn.metrics.pairwise import euclidean_distances\n",
    "from collections import defaultdict"
   ]
  },
  {
   "cell_type": "code",
   "execution_count": 129,
   "id": "2ea31334",
   "metadata": {},
   "outputs": [],
   "source": [
    "features = ['valence', 'year', 'acousticness',\n",
    "            'danceability', 'duration_ms', 'energy',\n",
    "            'explicit','instrumentalness', 'key', \n",
    "            'liveness', 'loudness', 'mode',\n",
    "            'popularity','speechiness', 'tempo']\n",
    "\n",
    "other_cols = ['year', 'name',  'artists']"
   ]
  },
  {
   "cell_type": "code",
   "execution_count": 130,
   "id": "f3c02787",
   "metadata": {},
   "outputs": [
    {
     "data": {
      "text/plain": [
       "Pipeline(steps=[('Scaler', StandardScaler()),\n",
       "                ('Mini Batch KMeans', MiniBatchKMeans(batch_size=2050))])"
      ]
     },
     "execution_count": 130,
     "metadata": {},
     "output_type": "execute_result"
    }
   ],
   "source": [
    "song_cluster_pipeline = Pipeline([('Scaler', StandardScaler()), \n",
    "                                  ('Mini Batch KMeans', MiniBatchKMeans(batch_size = 2050))])\n",
    "X = dataset[features]\n",
    "song_cluster_pipeline.fit(X)"
   ]
  },
  {
   "cell_type": "markdown",
   "id": "55ca8ef1",
   "metadata": {},
   "source": [
    "***Collecting all song lists***"
   ]
  },
  {
   "cell_type": "code",
   "execution_count": 131,
   "id": "f89881c8",
   "metadata": {},
   "outputs": [],
   "source": [
    "def input_(song_list, dataset):\n",
    "    song_vectors = []\n",
    "    \n",
    "    for song in song_list:\n",
    "        try:\n",
    "            song_data = dataset[(dataset['name'] == song['name']) & (dataset['year'] == song['year'])].iloc[0]\n",
    "        except IndexError:\n",
    "            song_data = None\n",
    "            \n",
    "        if song_data is None:\n",
    "            print('Warning : {} does not exist in our database'.format(song['name']))\n",
    "            continue\n",
    "        song_vectors.append(song_data[features].values)\n",
    "    return np.mean(np.array(list(song_vectors)), axis = 0)"
   ]
  },
  {
   "cell_type": "markdown",
   "id": "f71b4102",
   "metadata": {},
   "source": [
    "***Making the recommender function***"
   ]
  },
  {
   "cell_type": "code",
   "execution_count": 132,
   "id": "68d25d09",
   "metadata": {},
   "outputs": [],
   "source": [
    "def Music_Recommender(song_list, dataset, n_songs=10):\n",
    "\n",
    "    groupby_input_tracks = dataset.groupby(song_list)\n",
    "    song_center = input_(song_list, dataset)\n",
    "    \n",
    "    \n",
    "    scaler = song_cluster_pipeline.steps[0][1]\n",
    "    scaled_data = scaler.transform(dataset[features])\n",
    "    scaled_song_center = scaler.transform(song_center.reshape(1, -1))\n",
    "    \n",
    "    \n",
    "    ed_dist = euclidean_distances(scaled_song_center, scaled_data)\n",
    "\n",
    "    \n",
    "    index = list(np.argsort(ed_dist)[:,:n_songs][0])\n",
    "    rec_output = dataset.iloc[index]\n",
    "  \n",
    "    \n",
    "    return rec_output[other_cols]"
   ]
  },
  {
   "cell_type": "markdown",
   "id": "e6600a3e",
   "metadata": {},
   "source": [
    "***Generating the recommended songs***"
   ]
  },
  {
   "cell_type": "code",
   "execution_count": 133,
   "id": "47d5bcfe",
   "metadata": {},
   "outputs": [
    {
     "data": {
      "text/html": [
       "<div>\n",
       "<style scoped>\n",
       "    .dataframe tbody tr th:only-of-type {\n",
       "        vertical-align: middle;\n",
       "    }\n",
       "\n",
       "    .dataframe tbody tr th {\n",
       "        vertical-align: top;\n",
       "    }\n",
       "\n",
       "    .dataframe thead th {\n",
       "        text-align: right;\n",
       "    }\n",
       "</style>\n",
       "<table border=\"1\" class=\"dataframe\">\n",
       "  <thead>\n",
       "    <tr style=\"text-align: right;\">\n",
       "      <th></th>\n",
       "      <th>year</th>\n",
       "      <th>name</th>\n",
       "      <th>artists</th>\n",
       "    </tr>\n",
       "  </thead>\n",
       "  <tbody>\n",
       "    <tr>\n",
       "      <th>19677</th>\n",
       "      <td>2020</td>\n",
       "      <td>nasty</td>\n",
       "      <td>['Ariana Grande']</td>\n",
       "    </tr>\n",
       "    <tr>\n",
       "      <th>19607</th>\n",
       "      <td>2020</td>\n",
       "      <td>For The Night (feat. Lil Baby &amp; DaBaby)</td>\n",
       "      <td>['Pop Smoke', 'Lil Baby', 'DaBaby']</td>\n",
       "    </tr>\n",
       "    <tr>\n",
       "      <th>18696</th>\n",
       "      <td>2015</td>\n",
       "      <td>King Kunta</td>\n",
       "      <td>['Kendrick Lamar']</td>\n",
       "    </tr>\n",
       "    <tr>\n",
       "      <th>108863</th>\n",
       "      <td>2020</td>\n",
       "      <td>Sucks To Be You</td>\n",
       "      <td>['SAINt JHN']</td>\n",
       "    </tr>\n",
       "    <tr>\n",
       "      <th>170468</th>\n",
       "      <td>2020</td>\n",
       "      <td>For The Night (feat. Lil Baby &amp; DaBaby)</td>\n",
       "      <td>['Pop Smoke', 'Lil Baby', 'DaBaby']</td>\n",
       "    </tr>\n",
       "    <tr>\n",
       "      <th>57365</th>\n",
       "      <td>2020</td>\n",
       "      <td>That Way</td>\n",
       "      <td>['Lil Uzi Vert']</td>\n",
       "    </tr>\n",
       "    <tr>\n",
       "      <th>19635</th>\n",
       "      <td>2020</td>\n",
       "      <td>my ex's best friend (with blackbear)</td>\n",
       "      <td>['Machine Gun Kelly', 'blackbear']</td>\n",
       "    </tr>\n",
       "    <tr>\n",
       "      <th>57251</th>\n",
       "      <td>2020</td>\n",
       "      <td>Ashes</td>\n",
       "      <td>['Stellar']</td>\n",
       "    </tr>\n",
       "    <tr>\n",
       "      <th>75134</th>\n",
       "      <td>2020</td>\n",
       "      <td>That Way - Bonus Track</td>\n",
       "      <td>['Lil Uzi Vert']</td>\n",
       "    </tr>\n",
       "    <tr>\n",
       "      <th>140744</th>\n",
       "      <td>2020</td>\n",
       "      <td>Why Do You Lie To Me (feat. Lil Baby)</td>\n",
       "      <td>['Topic', 'A7S', 'Lil Baby']</td>\n",
       "    </tr>\n",
       "  </tbody>\n",
       "</table>\n",
       "</div>"
      ],
      "text/plain": [
       "        year                                     name  \\\n",
       "19677   2020                                    nasty   \n",
       "19607   2020  For The Night (feat. Lil Baby & DaBaby)   \n",
       "18696   2015                               King Kunta   \n",
       "108863  2020                          Sucks To Be You   \n",
       "170468  2020  For The Night (feat. Lil Baby & DaBaby)   \n",
       "57365   2020                                 That Way   \n",
       "19635   2020     my ex's best friend (with blackbear)   \n",
       "57251   2020                                    Ashes   \n",
       "75134   2020                   That Way - Bonus Track   \n",
       "140744  2020    Why Do You Lie To Me (feat. Lil Baby)   \n",
       "\n",
       "                                    artists  \n",
       "19677                     ['Ariana Grande']  \n",
       "19607   ['Pop Smoke', 'Lil Baby', 'DaBaby']  \n",
       "18696                    ['Kendrick Lamar']  \n",
       "108863                        ['SAINt JHN']  \n",
       "170468  ['Pop Smoke', 'Lil Baby', 'DaBaby']  \n",
       "57365                      ['Lil Uzi Vert']  \n",
       "19635    ['Machine Gun Kelly', 'blackbear']  \n",
       "57251                           ['Stellar']  \n",
       "75134                      ['Lil Uzi Vert']  \n",
       "140744         ['Topic', 'A7S', 'Lil Baby']  "
      ]
     },
     "execution_count": 133,
     "metadata": {},
     "output_type": "execute_result"
    }
   ],
   "source": [
    "results = Music_Recommender([{'name': 'I Like It', 'year': 2018},\n",
    "                                          {'name': 'No Guidance (feat. Drake)', 'year': 2019},\n",
    "                                          {'name': 'How You Like That', 'year': 2020}],dataset)\n",
    "results"
   ]
  },
  {
   "cell_type": "code",
   "execution_count": null,
   "id": "627f0842",
   "metadata": {},
   "outputs": [],
   "source": []
  }
 ],
 "metadata": {
  "kernelspec": {
   "display_name": "Python 3",
   "language": "python",
   "name": "python3"
  },
  "language_info": {
   "codemirror_mode": {
    "name": "ipython",
    "version": 3
   },
   "file_extension": ".py",
   "mimetype": "text/x-python",
   "name": "python",
   "nbconvert_exporter": "python",
   "pygments_lexer": "ipython3",
   "version": "3.8.8"
  }
 },
 "nbformat": 4,
 "nbformat_minor": 5
}
